{
 "cells": [
  {
   "cell_type": "markdown",
   "metadata": {},
   "source": [
    "# WeatherPy\n",
    "----\n",
    "\n",
    "#### Note\n",
    "* Instructions have been included for each segment. You do not have to follow them exactly, but they are included to help you think through the steps."
   ]
  },
  {
   "cell_type": "code",
   "execution_count": 1,
   "metadata": {
    "scrolled": true
   },
   "outputs": [],
   "source": [
    "# Dependencies and Setup\n",
    "import matplotlib.pyplot as plt\n",
    "import pandas as pd\n",
    "import numpy as np\n",
    "import requests\n",
    "import time\n",
    "from scipy.stats import linregress\n",
    "\n",
    "# Import API key\n",
    "from api_keys import g_key\n",
    "from api_keys import weather_api_key\n",
    "\n",
    "# Incorporated citipy to determine city based on latitude and longitude\n",
    "from citipy import citipy\n",
    "\n",
    "# Output File (CSV)\n",
    "output_data_file = \"output_data/cities.csv\"\n",
    "\n",
    "# Range of latitudes and longitudes\n",
    "lat_range = (-90, 90)\n",
    "lng_range = (-180, 180)"
   ]
  },
  {
   "cell_type": "markdown",
   "metadata": {},
   "source": [
    "## Generate Cities List"
   ]
  },
  {
   "cell_type": "code",
   "execution_count": 2,
   "metadata": {},
   "outputs": [
    {
     "data": {
      "text/plain": [
       "623"
      ]
     },
     "execution_count": 2,
     "metadata": {},
     "output_type": "execute_result"
    }
   ],
   "source": [
    "# List for holding lat_lngs and cities\n",
    "lat_lngs = []\n",
    "cities = []\n",
    "\n",
    "# Create a set of random lat and lng combinations\n",
    "lats = np.random.uniform(low=-90.000, high=90.000, size=1500)\n",
    "lngs = np.random.uniform(low=-180.000, high=180.000, size=1500)\n",
    "lat_lngs = zip(lats, lngs)\n",
    "\n",
    "# Identify nearest city for each lat, lng combination\n",
    "for lat_lng in lat_lngs:\n",
    "    city = citipy.nearest_city(lat_lng[0], lat_lng[1]).city_name\n",
    "    \n",
    "    # If the city is unique, then add it to a our cities list\n",
    "    if city not in cities:\n",
    "        cities.append(city)\n",
    "\n",
    "# Print the city count to confirm sufficient count\n",
    "len(cities)"
   ]
  },
  {
   "cell_type": "markdown",
   "metadata": {},
   "source": [
    "### Perform API Calls\n",
    "* Perform a weather check on each city using a series of successive API calls.\n",
    "* Include a print log of each city as it'sbeing processed (with the city number and city name).\n"
   ]
  },
  {
   "cell_type": "code",
   "execution_count": 3,
   "metadata": {},
   "outputs": [
    {
     "name": "stdout",
     "output_type": "stream",
     "text": [
      "Beginning Data Retrieval\n",
      "------------------------------------\n",
      "Proccessing Recored 0 of Set 1| puerto ayora\n",
      "Proccessing Recored 1 of Set 1| ushuaia\n",
      "Proccessing Recored 2 of Set 1| manica\n",
      "Proccessing Recored 3 of Set 1| codrington\n",
      "Proccessing Recored 4 of Set 1| skibbereen\n",
      "Proccessing Recored 5 of Set 1| kapaa\n",
      "Proccessing Recored 6 of Set 1| rikitea\n",
      "Proccessing Recored 7 of Set 1| bredasdorp\n",
      "Proccessing Recored 8 of Set 1| mys shmidta\n",
      "city not found. Skipping...\n",
      "Proccessing Recored 9 of Set 1| luganville\n",
      "Proccessing Recored 10 of Set 1| nome\n",
      "Proccessing Recored 11 of Set 1| novyy urengoy\n",
      "Proccessing Recored 12 of Set 1| villa carlos paz\n",
      "Proccessing Recored 13 of Set 1| attawapiskat\n",
      "city not found. Skipping...\n",
      "Proccessing Recored 14 of Set 1| kieta\n",
      "Proccessing Recored 15 of Set 1| busselton\n",
      "Proccessing Recored 16 of Set 1| meulaboh\n",
      "Proccessing Recored 17 of Set 1| saint-philippe\n",
      "Proccessing Recored 18 of Set 1| illoqqortoormiut\n",
      "city not found. Skipping...\n",
      "Proccessing Recored 19 of Set 1| katsuura\n",
      "Proccessing Recored 20 of Set 1| thompson\n",
      "Proccessing Recored 21 of Set 1| provideniya\n",
      "Proccessing Recored 22 of Set 1| takoradi\n",
      "Proccessing Recored 23 of Set 1| san cristobal\n",
      "Proccessing Recored 24 of Set 1| severo-kurilsk\n",
      "Proccessing Recored 25 of Set 1| belushya guba\n",
      "city not found. Skipping...\n",
      "Proccessing Recored 26 of Set 1| hobart\n",
      "Proccessing Recored 27 of Set 1| kahului\n",
      "Proccessing Recored 28 of Set 1| dunedin\n",
      "Proccessing Recored 29 of Set 1| georgetown\n",
      "Proccessing Recored 30 of Set 1| port-gentil\n",
      "Proccessing Recored 31 of Set 1| dzhusaly\n",
      "city not found. Skipping...\n",
      "Proccessing Recored 32 of Set 1| cape town\n",
      "Proccessing Recored 33 of Set 1| salalah\n",
      "Proccessing Recored 34 of Set 1| atuona\n",
      "Proccessing Recored 35 of Set 1| neryungri\n",
      "Proccessing Recored 36 of Set 1| new norfolk\n",
      "Proccessing Recored 37 of Set 1| albany\n",
      "Proccessing Recored 38 of Set 1| victoria\n",
      "Proccessing Recored 39 of Set 1| anadyr\n",
      "Proccessing Recored 40 of Set 1| hofn\n",
      "Proccessing Recored 41 of Set 1| faanui\n",
      "Proccessing Recored 42 of Set 1| alcanena\n",
      "Proccessing Recored 43 of Set 1| souillac\n",
      "Proccessing Recored 44 of Set 1| shache\n",
      "Proccessing Recored 45 of Set 1| artyk\n",
      "city not found. Skipping...\n",
      "Proccessing Recored 46 of Set 1| bluff\n",
      "Proccessing Recored 47 of Set 1| mataura\n",
      "Proccessing Recored 48 of Set 1| waipawa\n",
      "Proccessing Recored 49 of Set 1| cockburn town\n",
      "Proccessing Recored 1 of Set 2| avarua\n",
      "Proccessing Recored 2 of Set 2| koslan\n",
      "Proccessing Recored 3 of Set 2| hilo\n",
      "Proccessing Recored 4 of Set 2| butaritari\n",
      "Proccessing Recored 5 of Set 2| sola\n",
      "Proccessing Recored 6 of Set 2| port augusta\n",
      "Proccessing Recored 7 of Set 2| hermanus\n",
      "Proccessing Recored 8 of Set 2| asau\n",
      "Proccessing Recored 9 of Set 2| ahipara\n",
      "Proccessing Recored 10 of Set 2| pakwach\n",
      "city not found. Skipping...\n",
      "Proccessing Recored 11 of Set 2| lincoln\n",
      "Proccessing Recored 12 of Set 2| san angelo\n",
      "Proccessing Recored 13 of Set 2| jamestown\n",
      "Proccessing Recored 14 of Set 2| delvada\n",
      "Proccessing Recored 15 of Set 2| evensk\n",
      "Proccessing Recored 16 of Set 2| adeje\n",
      "Proccessing Recored 17 of Set 2| taolanaro\n",
      "city not found. Skipping...\n",
      "Proccessing Recored 18 of Set 2| magistralnyy\n",
      "Proccessing Recored 19 of Set 2| mar del plata\n",
      "Proccessing Recored 20 of Set 2| punta arenas\n",
      "Proccessing Recored 21 of Set 2| barentsburg\n",
      "city not found. Skipping...\n",
      "Proccessing Recored 22 of Set 2| cayenne\n",
      "Proccessing Recored 23 of Set 2| bengkulu\n",
      "Proccessing Recored 24 of Set 2| kyzyl\n",
      "Proccessing Recored 25 of Set 2| sentyabrskiy\n",
      "city not found. Skipping...\n",
      "Proccessing Recored 26 of Set 2| mangai\n",
      "Proccessing Recored 27 of Set 2| ancud\n",
      "Proccessing Recored 28 of Set 2| columbus\n",
      "Proccessing Recored 29 of Set 2| dusetos\n",
      "Proccessing Recored 30 of Set 2| sao joao da barra\n",
      "Proccessing Recored 31 of Set 2| lagoa\n",
      "Proccessing Recored 32 of Set 2| vestmannaeyjar\n",
      "Proccessing Recored 33 of Set 2| bihac\n",
      "Proccessing Recored 34 of Set 2| port hardy\n",
      "Proccessing Recored 35 of Set 2| espinosa\n",
      "Proccessing Recored 36 of Set 2| bajo baudo\n",
      "city not found. Skipping...\n",
      "Proccessing Recored 37 of Set 2| olinda\n",
      "Proccessing Recored 38 of Set 2| mergui\n",
      "city not found. Skipping...\n",
      "Proccessing Recored 39 of Set 2| kamenskoye\n",
      "city not found. Skipping...\n",
      "Proccessing Recored 40 of Set 2| waterford\n",
      "Proccessing Recored 41 of Set 2| luebo\n",
      "Proccessing Recored 42 of Set 2| goundam\n",
      "Proccessing Recored 43 of Set 2| tiksi\n",
      "Proccessing Recored 44 of Set 2| pacific grove\n",
      "Proccessing Recored 45 of Set 2| moyale\n",
      "Proccessing Recored 46 of Set 2| qaanaaq\n",
      "Proccessing Recored 47 of Set 2| verkh-usugli\n",
      "Proccessing Recored 48 of Set 2| lebu\n",
      "Proccessing Recored 49 of Set 2| palmas bellas\n",
      "Proccessing Recored 1 of Set 3| a coruna\n",
      "Proccessing Recored 2 of Set 3| dikson\n",
      "Proccessing Recored 3 of Set 3| mangaratiba\n",
      "Proccessing Recored 4 of Set 3| mandalgovi\n",
      "Proccessing Recored 5 of Set 3| guerrero negro\n",
      "Proccessing Recored 6 of Set 3| cidreira\n",
      "Proccessing Recored 7 of Set 3| suntar\n",
      "Proccessing Recored 8 of Set 3| castro\n",
      "Proccessing Recored 9 of Set 3| mildura\n",
      "Proccessing Recored 10 of Set 3| kadykchan\n",
      "city not found. Skipping...\n",
      "Proccessing Recored 11 of Set 3| chuy\n",
      "Proccessing Recored 12 of Set 3| nandyal\n",
      "Proccessing Recored 13 of Set 3| amga\n",
      "Proccessing Recored 14 of Set 3| pachmarhi\n",
      "Proccessing Recored 15 of Set 3| pangnirtung\n",
      "Proccessing Recored 16 of Set 3| mastic beach\n",
      "Proccessing Recored 17 of Set 3| port alfred\n",
      "Proccessing Recored 18 of Set 3| tauberbischofsheim\n",
      "Proccessing Recored 19 of Set 3| yumen\n",
      "Proccessing Recored 20 of Set 3| worland\n",
      "Proccessing Recored 21 of Set 3| husavik\n",
      "Proccessing Recored 22 of Set 3| harper\n",
      "Proccessing Recored 23 of Set 3| geraldton\n",
      "Proccessing Recored 24 of Set 3| caravelas\n",
      "Proccessing Recored 25 of Set 3| petropavlovsk-kamchatskiy\n",
      "Proccessing Recored 26 of Set 3| myitkyina\n",
      "Proccessing Recored 27 of Set 3| pisco\n",
      "Proccessing Recored 28 of Set 3| mehamn\n",
      "Proccessing Recored 29 of Set 3| lazaro cardenas\n",
      "Proccessing Recored 30 of Set 3| pangoa\n",
      "Proccessing Recored 31 of Set 3| saleaula\n",
      "city not found. Skipping...\n",
      "Proccessing Recored 32 of Set 3| vredendal\n",
      "Proccessing Recored 33 of Set 3| bethel\n",
      "Proccessing Recored 34 of Set 3| vaini\n",
      "Proccessing Recored 35 of Set 3| samusu\n",
      "city not found. Skipping...\n",
      "Proccessing Recored 36 of Set 3| komsomolskiy\n",
      "Proccessing Recored 37 of Set 3| yellowknife\n",
      "Proccessing Recored 38 of Set 3| mahebourg\n",
      "Proccessing Recored 39 of Set 3| viedma\n",
      "Proccessing Recored 40 of Set 3| tasiilaq\n",
      "Proccessing Recored 41 of Set 3| saint george\n",
      "Proccessing Recored 42 of Set 3| bani walid\n",
      "Proccessing Recored 43 of Set 3| ponta do sol\n",
      "Proccessing Recored 44 of Set 3| shingu\n",
      "Proccessing Recored 45 of Set 3| marsa matruh\n",
      "Proccessing Recored 46 of Set 3| ilulissat\n",
      "Proccessing Recored 47 of Set 3| grindavik\n",
      "Proccessing Recored 48 of Set 3| the pas\n",
      "Proccessing Recored 49 of Set 3| skalat\n",
      "Proccessing Recored 1 of Set 4| amderma\n",
      "city not found. Skipping...\n",
      "Proccessing Recored 2 of Set 4| sao gabriel da cachoeira\n",
      "Proccessing Recored 3 of Set 4| beira\n",
      "Proccessing Recored 4 of Set 4| hithadhoo\n",
      "Proccessing Recored 5 of Set 4| barra do corda\n",
      "Proccessing Recored 6 of Set 4| gigmoto\n",
      "Proccessing Recored 7 of Set 4| arona\n",
      "Proccessing Recored 8 of Set 4| kavieng\n",
      "Proccessing Recored 9 of Set 4| east london\n",
      "Proccessing Recored 10 of Set 4| broken hill\n",
      "Proccessing Recored 11 of Set 4| saint anthony\n",
      "Proccessing Recored 12 of Set 4| belle fourche\n",
      "Proccessing Recored 13 of Set 4| mikuni\n",
      "Proccessing Recored 14 of Set 4| klaksvik\n",
      "Proccessing Recored 15 of Set 4| barrow\n",
      "Proccessing Recored 16 of Set 4| hamilton\n",
      "Proccessing Recored 17 of Set 4| bilibino\n",
      "Proccessing Recored 18 of Set 4| miechow\n",
      "Proccessing Recored 19 of Set 4| marystown\n",
      "Proccessing Recored 20 of Set 4| nhulunbuy\n",
      "Proccessing Recored 21 of Set 4| blonduos\n",
      "city not found. Skipping...\n",
      "Proccessing Recored 22 of Set 4| hasaki\n",
      "Proccessing Recored 23 of Set 4| hervey bay\n",
      "Proccessing Recored 24 of Set 4| malanje\n",
      "Proccessing Recored 25 of Set 4| abnub\n",
      "Proccessing Recored 26 of Set 4| saldanha\n",
      "Proccessing Recored 27 of Set 4| szentes\n",
      "Proccessing Recored 28 of Set 4| tuktoyaktuk\n",
      "Proccessing Recored 29 of Set 4| dingle\n",
      "Proccessing Recored 30 of Set 4| gedo\n",
      "Proccessing Recored 31 of Set 4| grand river south east\n",
      "city not found. Skipping...\n"
     ]
    },
    {
     "name": "stdout",
     "output_type": "stream",
     "text": [
      "Proccessing Recored 32 of Set 4| hami\n",
      "Proccessing Recored 33 of Set 4| dombasle-sur-meurthe\n",
      "Proccessing Recored 34 of Set 4| darnah\n",
      "Proccessing Recored 35 of Set 4| clyde river\n",
      "Proccessing Recored 36 of Set 4| armacao dos buzios\n",
      "city not found. Skipping...\n",
      "Proccessing Recored 37 of Set 4| marrakesh\n",
      "Proccessing Recored 38 of Set 4| birin\n",
      "Proccessing Recored 39 of Set 4| lata\n",
      "Proccessing Recored 40 of Set 4| kavaratti\n",
      "Proccessing Recored 41 of Set 4| arraial do cabo\n",
      "Proccessing Recored 42 of Set 4| saskylakh\n",
      "Proccessing Recored 43 of Set 4| dalvik\n",
      "Proccessing Recored 44 of Set 4| talaya\n",
      "Proccessing Recored 45 of Set 4| vila velha\n",
      "Proccessing Recored 46 of Set 4| north bend\n",
      "Proccessing Recored 47 of Set 4| nantucket\n",
      "Proccessing Recored 48 of Set 4| praia da vitoria\n",
      "Proccessing Recored 49 of Set 4| somerset west\n",
      "Proccessing Recored 1 of Set 5| fortuna\n",
      "Proccessing Recored 2 of Set 5| behshahr\n",
      "Proccessing Recored 3 of Set 5| nakamura\n",
      "Proccessing Recored 4 of Set 5| auki\n",
      "Proccessing Recored 5 of Set 5| carutapera\n",
      "Proccessing Recored 6 of Set 5| masindi\n",
      "Proccessing Recored 7 of Set 5| olafsvik\n",
      "Proccessing Recored 8 of Set 5| bambanglipuro\n",
      "Proccessing Recored 9 of Set 5| bolungarvik\n",
      "city not found. Skipping...\n",
      "Proccessing Recored 10 of Set 5| jumla\n",
      "Proccessing Recored 11 of Set 5| thyboron\n",
      "Proccessing Recored 12 of Set 5| agadez\n",
      "Proccessing Recored 13 of Set 5| stornoway\n",
      "Proccessing Recored 14 of Set 5| nago\n",
      "Proccessing Recored 15 of Set 5| sur\n",
      "Proccessing Recored 16 of Set 5| coihaique\n",
      "Proccessing Recored 17 of Set 5| rawson\n",
      "Proccessing Recored 18 of Set 5| angoche\n",
      "Proccessing Recored 19 of Set 5| kruisfontein\n",
      "Proccessing Recored 20 of Set 5| kudahuvadhoo\n",
      "Proccessing Recored 21 of Set 5| yatou\n",
      "Proccessing Recored 22 of Set 5| maniitsoq\n",
      "Proccessing Recored 23 of Set 5| santa cruz\n",
      "Proccessing Recored 24 of Set 5| iqaluit\n",
      "Proccessing Recored 25 of Set 5| lidzbark warminski\n",
      "Proccessing Recored 26 of Set 5| mokhsogollokh\n",
      "Proccessing Recored 27 of Set 5| bargal\n",
      "city not found. Skipping...\n",
      "Proccessing Recored 28 of Set 5| port elizabeth\n",
      "Proccessing Recored 29 of Set 5| changli\n",
      "Proccessing Recored 30 of Set 5| abha\n",
      "Proccessing Recored 31 of Set 5| loandjili\n",
      "Proccessing Recored 32 of Set 5| sananduva\n",
      "Proccessing Recored 33 of Set 5| kimbe\n",
      "Proccessing Recored 34 of Set 5| tabou\n",
      "Proccessing Recored 35 of Set 5| yuzhno-sukhokumsk\n",
      "Proccessing Recored 36 of Set 5| norman wells\n",
      "Proccessing Recored 37 of Set 5| ribeira grande\n",
      "Proccessing Recored 38 of Set 5| floro\n",
      "Proccessing Recored 39 of Set 5| ayan\n",
      "Proccessing Recored 40 of Set 5| charters towers\n",
      "Proccessing Recored 41 of Set 5| qasigiannguit\n",
      "Proccessing Recored 42 of Set 5| buta\n",
      "Proccessing Recored 43 of Set 5| hazorasp\n",
      "Proccessing Recored 44 of Set 5| kurilsk\n",
      "Proccessing Recored 45 of Set 5| rosendal\n",
      "Proccessing Recored 46 of Set 5| coulihaut\n",
      "city not found. Skipping...\n",
      "Proccessing Recored 47 of Set 5| touros\n",
      "Proccessing Recored 48 of Set 5| acapulco\n",
      "Proccessing Recored 49 of Set 5| cherskiy\n",
      "Proccessing Recored 1 of Set 6| sao felix do xingu\n",
      "Proccessing Recored 2 of Set 6| skiros\n",
      "city not found. Skipping...\n",
      "Proccessing Recored 3 of Set 6| bestobe\n",
      "Proccessing Recored 4 of Set 6| slavyanka\n",
      "Proccessing Recored 5 of Set 6| margate\n",
      "Proccessing Recored 6 of Set 6| vaitupu\n",
      "city not found. Skipping...\n",
      "Proccessing Recored 7 of Set 6| tupik\n",
      "Proccessing Recored 8 of Set 6| grand gaube\n",
      "Proccessing Recored 9 of Set 6| naze\n",
      "Proccessing Recored 10 of Set 6| ust-nera\n",
      "Proccessing Recored 11 of Set 6| say\n",
      "Proccessing Recored 12 of Set 6| chipinge\n",
      "Proccessing Recored 13 of Set 6| susangerd\n",
      "Proccessing Recored 14 of Set 6| akdepe\n",
      "Proccessing Recored 15 of Set 6| saint-pierre\n",
      "Proccessing Recored 16 of Set 6| phan thiet\n",
      "Proccessing Recored 17 of Set 6| soubre\n",
      "Proccessing Recored 18 of Set 6| khatanga\n",
      "Proccessing Recored 19 of Set 6| samalaeulu\n",
      "city not found. Skipping...\n",
      "Proccessing Recored 20 of Set 6| saint-joseph\n",
      "Proccessing Recored 21 of Set 6| achikulak\n",
      "Proccessing Recored 22 of Set 6| tazovskiy\n",
      "Proccessing Recored 23 of Set 6| sioux lookout\n",
      "Proccessing Recored 24 of Set 6| ucluelet\n",
      "Proccessing Recored 25 of Set 6| rawannawi\n",
      "city not found. Skipping...\n",
      "Proccessing Recored 26 of Set 6| nanortalik\n",
      "Proccessing Recored 27 of Set 6| longyearbyen\n",
      "Proccessing Recored 28 of Set 6| la ronge\n",
      "Proccessing Recored 29 of Set 6| oistins\n",
      "Proccessing Recored 30 of Set 6| kaitangata\n",
      "Proccessing Recored 31 of Set 6| upernavik\n",
      "Proccessing Recored 32 of Set 6| rafaela\n",
      "Proccessing Recored 33 of Set 6| pauini\n",
      "Proccessing Recored 34 of Set 6| mapalacsiao\n",
      "Proccessing Recored 35 of Set 6| kloulklubed\n",
      "Proccessing Recored 36 of Set 6| davila\n",
      "Proccessing Recored 37 of Set 6| muros\n",
      "Proccessing Recored 38 of Set 6| pangai\n",
      "Proccessing Recored 39 of Set 6| ciudad bolivar\n",
      "Proccessing Recored 40 of Set 6| falealupo\n",
      "city not found. Skipping...\n",
      "Proccessing Recored 41 of Set 6| san patricio\n",
      "Proccessing Recored 42 of Set 6| karasjok\n",
      "Proccessing Recored 43 of Set 6| yelan\n",
      "Proccessing Recored 44 of Set 6| palabuhanratu\n",
      "city not found. Skipping...\n",
      "Proccessing Recored 45 of Set 6| sitka\n",
      "Proccessing Recored 46 of Set 6| corovode\n",
      "Proccessing Recored 47 of Set 6| chicama\n",
      "Proccessing Recored 48 of Set 6| shelopugino\n",
      "Proccessing Recored 49 of Set 6| tezu\n",
      "Proccessing Recored 1 of Set 7| erenhot\n",
      "Proccessing Recored 2 of Set 7| sao filipe\n",
      "Proccessing Recored 3 of Set 7| bhanjanagar\n",
      "Proccessing Recored 4 of Set 7| ust-omchug\n",
      "Proccessing Recored 5 of Set 7| misratah\n",
      "Proccessing Recored 6 of Set 7| temaraia\n",
      "city not found. Skipping...\n",
      "Proccessing Recored 7 of Set 7| lasa\n",
      "Proccessing Recored 8 of Set 7| gotsu\n",
      "Proccessing Recored 9 of Set 7| karaul\n",
      "city not found. Skipping...\n",
      "Proccessing Recored 10 of Set 7| esperance\n",
      "Proccessing Recored 11 of Set 7| ankara\n",
      "Proccessing Recored 12 of Set 7| kalmunai\n",
      "Proccessing Recored 13 of Set 7| palmer\n",
      "Proccessing Recored 14 of Set 7| sawakin\n",
      "Proccessing Recored 15 of Set 7| ambodifototra\n",
      "city not found. Skipping...\n",
      "Proccessing Recored 16 of Set 7| barrhead\n",
      "Proccessing Recored 17 of Set 7| emerald\n",
      "Proccessing Recored 18 of Set 7| havelock\n",
      "Proccessing Recored 19 of Set 7| haibowan\n",
      "city not found. Skipping...\n",
      "Proccessing Recored 20 of Set 7| ruston\n",
      "Proccessing Recored 21 of Set 7| torbay\n",
      "Proccessing Recored 22 of Set 7| ostrovnoy\n",
      "Proccessing Recored 23 of Set 7| luan\n",
      "Proccessing Recored 24 of Set 7| petatlan\n",
      "Proccessing Recored 25 of Set 7| mussomeli\n",
      "Proccessing Recored 26 of Set 7| airai\n",
      "Proccessing Recored 27 of Set 7| buinsk\n",
      "Proccessing Recored 28 of Set 7| cuzama\n",
      "Proccessing Recored 29 of Set 7| fort hunt\n",
      "Proccessing Recored 30 of Set 7| port blair\n",
      "Proccessing Recored 31 of Set 7| fairbanks\n",
      "Proccessing Recored 32 of Set 7| segezha\n",
      "Proccessing Recored 33 of Set 7| adre\n",
      "Proccessing Recored 34 of Set 7| ola\n",
      "Proccessing Recored 35 of Set 7| hambantota\n",
      "Proccessing Recored 36 of Set 7| el dorado\n",
      "Proccessing Recored 37 of Set 7| riyadh\n",
      "Proccessing Recored 38 of Set 7| puerto quijarro\n",
      "Proccessing Recored 39 of Set 7| mocambique\n",
      "city not found. Skipping...\n",
      "Proccessing Recored 40 of Set 7| areosa\n",
      "Proccessing Recored 41 of Set 7| sobolevo\n",
      "Proccessing Recored 42 of Set 7| beyneu\n",
      "Proccessing Recored 43 of Set 7| najran\n",
      "Proccessing Recored 44 of Set 7| tumannyy\n",
      "city not found. Skipping...\n",
      "Proccessing Recored 45 of Set 7| galesong\n",
      "Proccessing Recored 46 of Set 7| srednekolymsk\n",
      "Proccessing Recored 47 of Set 7| umm kaddadah\n",
      "Proccessing Recored 48 of Set 7| arman\n",
      "Proccessing Recored 49 of Set 7| kelo\n",
      "Proccessing Recored 1 of Set 8| krapivinskiy\n",
      "Proccessing Recored 2 of Set 8| vao\n",
      "Proccessing Recored 3 of Set 8| kerch\n",
      "Proccessing Recored 4 of Set 8| saurimo\n",
      "Proccessing Recored 5 of Set 8| loa janan\n",
      "Proccessing Recored 6 of Set 8| enshi\n",
      "Proccessing Recored 7 of Set 8| jibuti\n",
      "Proccessing Recored 8 of Set 8| chokurdakh\n",
      "Proccessing Recored 9 of Set 8| bua yai\n",
      "Proccessing Recored 10 of Set 8| saint-augustin\n",
      "Proccessing Recored 11 of Set 8| maracas\n",
      "Proccessing Recored 12 of Set 8| ariquemes\n",
      "Proccessing Recored 13 of Set 8| moscow\n",
      "Proccessing Recored 14 of Set 8| kodiak\n",
      "Proccessing Recored 15 of Set 8| krasnogorskiy\n",
      "Proccessing Recored 16 of Set 8| ostersund\n",
      "Proccessing Recored 17 of Set 8| ruatoria\n",
      "city not found. Skipping...\n",
      "Proccessing Recored 18 of Set 8| lyngdal\n",
      "Proccessing Recored 19 of Set 8| batemans bay\n"
     ]
    },
    {
     "name": "stdout",
     "output_type": "stream",
     "text": [
      "Proccessing Recored 20 of Set 8| otatitlan\n",
      "Proccessing Recored 21 of Set 8| deputatskiy\n",
      "Proccessing Recored 22 of Set 8| huarmey\n",
      "Proccessing Recored 23 of Set 8| patterson\n",
      "Proccessing Recored 24 of Set 8| marcona\n",
      "city not found. Skipping...\n",
      "Proccessing Recored 25 of Set 8| lompoc\n",
      "Proccessing Recored 26 of Set 8| panguna\n",
      "Proccessing Recored 27 of Set 8| kargasok\n",
      "Proccessing Recored 28 of Set 8| pelym\n",
      "Proccessing Recored 29 of Set 8| nikolskoye\n",
      "Proccessing Recored 30 of Set 8| honiara\n",
      "Proccessing Recored 31 of Set 8| champerico\n",
      "Proccessing Recored 32 of Set 8| paamiut\n",
      "Proccessing Recored 33 of Set 8| luderitz\n",
      "Proccessing Recored 34 of Set 8| mosetse\n",
      "Proccessing Recored 35 of Set 8| rudolstadt\n",
      "Proccessing Recored 36 of Set 8| saint-francois\n",
      "Proccessing Recored 37 of Set 8| maceio\n",
      "Proccessing Recored 38 of Set 8| mahibadhoo\n",
      "Proccessing Recored 39 of Set 8| plettenberg bay\n",
      "Proccessing Recored 40 of Set 8| puerto del rosario\n",
      "Proccessing Recored 41 of Set 8| launceston\n",
      "Proccessing Recored 42 of Set 8| buritama\n",
      "Proccessing Recored 43 of Set 8| turukhansk\n",
      "Proccessing Recored 44 of Set 8| carberry\n",
      "Proccessing Recored 45 of Set 8| bathsheba\n",
      "Proccessing Recored 46 of Set 8| vostok\n",
      "Proccessing Recored 47 of Set 8| letka\n",
      "Proccessing Recored 48 of Set 8| barranca\n",
      "Proccessing Recored 49 of Set 8| obluche\n",
      "city not found. Skipping...\n",
      "Proccessing Recored 1 of Set 9| potchefstroom\n",
      "Proccessing Recored 2 of Set 9| gamboula\n",
      "Proccessing Recored 3 of Set 9| vung tau\n",
      "Proccessing Recored 4 of Set 9| karratha\n",
      "Proccessing Recored 5 of Set 9| mumbwa\n",
      "Proccessing Recored 6 of Set 9| whitianga\n",
      "Proccessing Recored 7 of Set 9| bad aussee\n",
      "Proccessing Recored 8 of Set 9| bukama\n",
      "Proccessing Recored 9 of Set 9| kainantu\n",
      "Proccessing Recored 10 of Set 9| richmond hill\n",
      "Proccessing Recored 11 of Set 9| cozumel\n",
      "Proccessing Recored 12 of Set 9| carnarvon\n",
      "Proccessing Recored 13 of Set 9| ponta delgada\n",
      "Proccessing Recored 14 of Set 9| kalemie\n",
      "Proccessing Recored 15 of Set 9| rehli\n",
      "Proccessing Recored 16 of Set 9| freeport\n",
      "Proccessing Recored 17 of Set 9| republic\n",
      "Proccessing Recored 18 of Set 9| ust-koksa\n",
      "Proccessing Recored 19 of Set 9| nongstoin\n",
      "Proccessing Recored 20 of Set 9| los llanos de aridane\n",
      "Proccessing Recored 21 of Set 9| hirara\n",
      "Proccessing Recored 22 of Set 9| safaqis\n",
      "city not found. Skipping...\n",
      "Proccessing Recored 23 of Set 9| yulara\n",
      "Proccessing Recored 24 of Set 9| pemangkat\n",
      "Proccessing Recored 25 of Set 9| namibe\n",
      "Proccessing Recored 26 of Set 9| wajima\n",
      "Proccessing Recored 27 of Set 9| kaeo\n",
      "Proccessing Recored 28 of Set 9| tilichiki\n",
      "Proccessing Recored 29 of Set 9| beringovskiy\n",
      "Proccessing Recored 30 of Set 9| coquimbo\n",
      "Proccessing Recored 31 of Set 9| aklavik\n",
      "Proccessing Recored 32 of Set 9| yomitan\n",
      "city not found. Skipping...\n",
      "Proccessing Recored 33 of Set 9| aykino\n",
      "Proccessing Recored 34 of Set 9| halifax\n",
      "Proccessing Recored 35 of Set 9| alofi\n",
      "Proccessing Recored 36 of Set 9| portobelo\n",
      "Proccessing Recored 37 of Set 9| liku\n",
      "Proccessing Recored 38 of Set 9| umm lajj\n",
      "Proccessing Recored 39 of Set 9| the valley\n",
      "Proccessing Recored 40 of Set 9| bairiki\n",
      "Proccessing Recored 41 of Set 9| kilindoni\n",
      "Proccessing Recored 42 of Set 9| french harbor\n",
      "Proccessing Recored 43 of Set 9| richards bay\n",
      "Proccessing Recored 44 of Set 9| savonlinna\n",
      "Proccessing Recored 45 of Set 9| bako\n",
      "Proccessing Recored 46 of Set 9| mitsamiouli\n",
      "Proccessing Recored 47 of Set 9| locri\n",
      "Proccessing Recored 48 of Set 9| viligili\n",
      "city not found. Skipping...\n",
      "Proccessing Recored 49 of Set 9| mocuba\n",
      "Proccessing Recored 1 of Set 10| altay\n",
      "Proccessing Recored 2 of Set 10| mayo\n",
      "Proccessing Recored 3 of Set 10| jiazi\n",
      "Proccessing Recored 4 of Set 10| phalombe\n",
      "Proccessing Recored 5 of Set 10| rolla\n",
      "Proccessing Recored 6 of Set 10| nova olimpia\n",
      "Proccessing Recored 7 of Set 10| tokur\n",
      "Proccessing Recored 8 of Set 10| pasni\n",
      "Proccessing Recored 9 of Set 10| ibra\n",
      "Proccessing Recored 10 of Set 10| motygino\n",
      "Proccessing Recored 11 of Set 10| carquefou\n",
      "Proccessing Recored 12 of Set 10| rio grande\n",
      "Proccessing Recored 13 of Set 10| mount gambier\n",
      "Proccessing Recored 14 of Set 10| tuatapere\n",
      "Proccessing Recored 15 of Set 10| berlevag\n",
      "Proccessing Recored 16 of Set 10| mount isa\n",
      "Proccessing Recored 17 of Set 10| beloha\n",
      "Proccessing Recored 18 of Set 10| jaora\n",
      "Proccessing Recored 19 of Set 10| gazli\n",
      "Proccessing Recored 20 of Set 10| yagodnoye\n",
      "Proccessing Recored 21 of Set 10| povoa de varzim\n",
      "Proccessing Recored 22 of Set 10| gold coast\n",
      "Proccessing Recored 23 of Set 10| bandarbeyla\n",
      "Proccessing Recored 24 of Set 10| brookings\n",
      "Proccessing Recored 25 of Set 10| siloam springs\n",
      "Proccessing Recored 26 of Set 10| tevaitoa\n",
      "Proccessing Recored 27 of Set 10| dalinghe\n",
      "city not found. Skipping...\n",
      "Proccessing Recored 28 of Set 10| morehead\n",
      "Proccessing Recored 29 of Set 10| bonavista\n",
      "Proccessing Recored 30 of Set 10| irbil\n",
      "Proccessing Recored 31 of Set 10| tavda\n",
      "Proccessing Recored 32 of Set 10| fort saint john\n",
      "city not found. Skipping...\n",
      "Proccessing Recored 33 of Set 10| magdagachi\n",
      "Proccessing Recored 34 of Set 10| manicore\n",
      "Proccessing Recored 35 of Set 10| coahuayana\n",
      "Proccessing Recored 36 of Set 10| narsaq\n",
      "Proccessing Recored 37 of Set 10| leningradskiy\n",
      "Proccessing Recored 38 of Set 10| sembakung\n",
      "Proccessing Recored 39 of Set 10| cabo san lucas\n",
      "Proccessing Recored 40 of Set 10| tromso\n",
      "Proccessing Recored 41 of Set 10| henties bay\n",
      "Proccessing Recored 42 of Set 10| kassala\n",
      "Proccessing Recored 43 of Set 10| sawtell\n",
      "Proccessing Recored 44 of Set 10| rudnichnyy\n",
      "Proccessing Recored 45 of Set 10| diu\n",
      "Proccessing Recored 46 of Set 10| conakry\n",
      "Proccessing Recored 47 of Set 10| tselinnoye\n",
      "Proccessing Recored 48 of Set 10| kletskaya\n",
      "Proccessing Recored 49 of Set 10| antofagasta\n",
      "Proccessing Recored 1 of Set 11| maloshuyka\n",
      "city not found. Skipping...\n",
      "Proccessing Recored 2 of Set 11| batouri\n",
      "Proccessing Recored 3 of Set 11| matara\n",
      "Proccessing Recored 4 of Set 11| tabas\n",
      "Proccessing Recored 5 of Set 11| hualmay\n",
      "Proccessing Recored 6 of Set 11| bloomsburg\n",
      "Proccessing Recored 7 of Set 11| rungata\n",
      "city not found. Skipping...\n",
      "Proccessing Recored 8 of Set 11| biankouma\n",
      "Proccessing Recored 9 of Set 11| luena\n",
      "Proccessing Recored 10 of Set 11| yongan\n",
      "Proccessing Recored 11 of Set 11| wanaka\n",
      "Proccessing Recored 12 of Set 11| laguna\n",
      "Proccessing Recored 13 of Set 11| daura\n",
      "Proccessing Recored 14 of Set 11| faya\n",
      "Proccessing Recored 15 of Set 11| nouadhibou\n",
      "Proccessing Recored 16 of Set 11| kuche\n",
      "city not found. Skipping...\n",
      "Proccessing Recored 17 of Set 11| kot kapura\n",
      "Proccessing Recored 18 of Set 11| santa isabel do rio negro\n",
      "Proccessing Recored 19 of Set 11| hlotse\n",
      "Proccessing Recored 20 of Set 11| mackay\n",
      "Proccessing Recored 21 of Set 11| alenquer\n",
      "Proccessing Recored 22 of Set 11| sydney\n",
      "Proccessing Recored 23 of Set 11| ostashkov\n",
      "Proccessing Recored 24 of Set 11| anjozorobe\n",
      "Proccessing Recored 25 of Set 11| murgab\n",
      "Proccessing Recored 26 of Set 11| san quintin\n",
      "Proccessing Recored 27 of Set 11| tallahassee\n",
      "Proccessing Recored 28 of Set 11| ukiah\n",
      "Proccessing Recored 29 of Set 11| ardesen\n",
      "Proccessing Recored 30 of Set 11| nisia floresta\n",
      "Proccessing Recored 31 of Set 11| copiapo\n",
      "Proccessing Recored 32 of Set 11| fukue\n",
      "Proccessing Recored 33 of Set 11| quatre cocos\n",
      "Proccessing Recored 34 of Set 11| slave lake\n",
      "Proccessing Recored 35 of Set 11| karlstad\n",
      "Proccessing Recored 36 of Set 11| cumaribo\n",
      "city not found. Skipping...\n",
      "Proccessing Recored 37 of Set 11| filingue\n",
      "Proccessing Recored 38 of Set 11| nishihara\n",
      "Proccessing Recored 39 of Set 11| mecca\n",
      "Proccessing Recored 40 of Set 11| biri\n",
      "Proccessing Recored 41 of Set 11| the hammocks\n",
      "Proccessing Recored 42 of Set 11| clonakilty\n",
      "Proccessing Recored 43 of Set 11| ust-ishim\n",
      "Proccessing Recored 44 of Set 11| labuhan\n",
      "Proccessing Recored 45 of Set 11| yeppoon\n",
      "Proccessing Recored 46 of Set 11| necochea\n",
      "Proccessing Recored 47 of Set 11| surgut\n",
      "Proccessing Recored 48 of Set 11| wahran\n",
      "city not found. Skipping...\n",
      "Proccessing Recored 49 of Set 11| boende\n",
      "Proccessing Recored 1 of Set 12| izacic\n",
      "Proccessing Recored 2 of Set 12| elizabeth city\n",
      "Proccessing Recored 3 of Set 12| lorengau\n",
      "Proccessing Recored 4 of Set 12| jurm\n",
      "Proccessing Recored 5 of Set 12| itarema\n",
      "Proccessing Recored 6 of Set 12| kuusamo\n",
      "Proccessing Recored 7 of Set 12| ereymentau\n",
      "Proccessing Recored 8 of Set 12| kisarazu\n",
      "Proccessing Recored 9 of Set 12| chapais\n"
     ]
    },
    {
     "name": "stdout",
     "output_type": "stream",
     "text": [
      "Proccessing Recored 10 of Set 12| arlit\n",
      "Proccessing Recored 11 of Set 12| aberdeen\n",
      "Proccessing Recored 12 of Set 12| arkhangelsk\n",
      "Proccessing Recored 13 of Set 12| moyo\n",
      "Proccessing Recored 14 of Set 12| pont-audemer\n",
      "Proccessing Recored 15 of Set 12| masjed-e soleyman\n",
      "city not found. Skipping...\n",
      "Proccessing Recored 16 of Set 12| nioro\n",
      "Proccessing Recored 17 of Set 12| umzimvubu\n",
      "city not found. Skipping...\n",
      "Proccessing Recored 18 of Set 12| lolua\n",
      "city not found. Skipping...\n",
      "Proccessing Recored 19 of Set 12| vestmanna\n",
      "Proccessing Recored 20 of Set 12| fort nelson\n",
      "Proccessing Recored 21 of Set 12| vardo\n",
      "Proccessing Recored 22 of Set 12| doctor pedro p. pena\n",
      "city not found. Skipping...\n",
      "Proccessing Recored 23 of Set 12| yuzhnyy\n",
      "Proccessing Recored 24 of Set 12| tura\n",
      "Proccessing Recored 25 of Set 12| willowmore\n",
      "Proccessing Recored 26 of Set 12| burns lake\n",
      "Proccessing Recored 27 of Set 12| dolbeau\n",
      "city not found. Skipping...\n",
      "Proccessing Recored 28 of Set 12| george\n",
      "Proccessing Recored 29 of Set 12| burnie\n",
      "Proccessing Recored 30 of Set 12| golden\n",
      "Proccessing Recored 31 of Set 12| montivilliers\n",
      "Proccessing Recored 32 of Set 12| araouane\n",
      "Proccessing Recored 33 of Set 12| aswan\n",
      "Proccessing Recored 34 of Set 12| neuquen\n",
      "Proccessing Recored 35 of Set 12| niquero\n",
      "Proccessing Recored 36 of Set 12| kamenka\n",
      "Proccessing Recored 37 of Set 12| khani\n",
      "Proccessing Recored 38 of Set 12| eyl\n",
      "Proccessing Recored 39 of Set 12| yar-sale\n",
      "Proccessing Recored 40 of Set 12| bundaberg\n",
      "Proccessing Recored 41 of Set 12| yining\n",
      "Proccessing Recored 42 of Set 12| imbituba\n",
      "Proccessing Recored 43 of Set 12| sept-iles\n",
      "Proccessing Recored 44 of Set 12| robertsport\n",
      "Proccessing Recored 45 of Set 12| menongue\n",
      "Proccessing Recored 46 of Set 12| ketchikan\n",
      "Proccessing Recored 47 of Set 12| rongcheng\n",
      "Proccessing Recored 48 of Set 12| kewanee\n",
      "Proccessing Recored 49 of Set 12| nemuro\n",
      "Proccessing Recored 1 of Set 13| dera bugti\n",
      "Proccessing Recored 2 of Set 13| warri\n",
      "Proccessing Recored 3 of Set 13| comodoro rivadavia\n",
      "Proccessing Recored 4 of Set 13| salur\n",
      "Proccessing Recored 5 of Set 13| bambous virieux\n",
      "Proccessing Recored 6 of Set 13| priladozhskiy\n",
      "Proccessing Recored 7 of Set 13| shenjiamen\n",
      "Proccessing Recored 8 of Set 13| bosaso\n",
      "Proccessing Recored 9 of Set 13| ravar\n",
      "Proccessing Recored 10 of Set 13| fallon\n",
      "Proccessing Recored 11 of Set 13| praya\n",
      "Proccessing Recored 12 of Set 13| verkhoyansk\n",
      "Proccessing Recored 13 of Set 13| diamantino\n",
      "Proccessing Recored 14 of Set 13| christchurch\n",
      "Proccessing Recored 15 of Set 13| nizhneyansk\n",
      "city not found. Skipping...\n",
      "Proccessing Recored 16 of Set 13| mopti\n",
      "Proccessing Recored 17 of Set 13| aporawan\n",
      "city not found. Skipping...\n",
      "Proccessing Recored 18 of Set 13| port moresby\n",
      "Proccessing Recored 19 of Set 13| shimoda\n",
      "Proccessing Recored 20 of Set 13| sinnamary\n",
      "Proccessing Recored 21 of Set 13| tarsus\n",
      "Proccessing Recored 22 of Set 13| grajau\n",
      "Proccessing Recored 23 of Set 13| disna\n",
      "Proccessing Recored 24 of Set 13| lavrentiya\n",
      "Proccessing Recored 25 of Set 13| kitob\n",
      "Proccessing Recored 26 of Set 13| tautira\n",
      "Proccessing Recored 27 of Set 13| santa fe\n",
      "Proccessing Recored 28 of Set 13| antsohihy\n",
      "Proccessing Recored 29 of Set 13| hobyo\n",
      "Proccessing Recored 30 of Set 13| barcelos\n",
      "Proccessing Recored 31 of Set 13| westport\n",
      "Proccessing Recored 32 of Set 13| bilma\n",
      "Proccessing Recored 33 of Set 13| didwana\n",
      "Proccessing Recored 34 of Set 13| vila franca do campo\n",
      "------------------------------------\n",
      "Data Retrieval Complete     \n",
      "------------------------------------\n"
     ]
    }
   ],
   "source": [
    "# Save config information\n",
    "url = \"http://api.openweathermap.org/data/2.5/weather?\"\n",
    "\n",
    "# set up lists to hold reponse info\n",
    "city_name = []\n",
    "units=\"imperial\"\n",
    "\n",
    "#cities = cities[0:100]\n",
    "\n",
    "# set a variable to count the record \n",
    "count = 0\n",
    "set_data =1\n",
    "\n",
    "#print out the header\n",
    "print(\"Beginning Data Retrieval\")\n",
    "print(\"------------------------------------\")\n",
    "\n",
    "## Loop through the list of cities and perform a request for data on each\n",
    "for city in cities:  \n",
    "    # Build query URL\n",
    "    query_url =  f\"{url}appid={weather_api_key}&q={city}&units={units}\"\n",
    "\n",
    "    \n",
    "    #get city data\n",
    "    response = requests.get(query_url).json() \n",
    "    print(f'Proccessing Recored {count} of Set {set_data}| {city}')\n",
    "    count = count+1\n",
    "    if count==50:\n",
    "        count=1\n",
    "        set_data +=1\n",
    "    \n",
    "    try:\n",
    "        city_name.append(response[\"name\"])\n",
    "              \n",
    "    \n",
    "    except KeyError:\n",
    "        print(\"city not found. Skipping...\")\n",
    "    \n",
    "\n",
    "#print out the end sentence\n",
    "print(\"------------------------------------\")\n",
    "print(\"Data Retrieval Complete     \")\n",
    "print(\"------------------------------------\")"
   ]
  },
  {
   "cell_type": "markdown",
   "metadata": {},
   "source": [
    "# Convert Raw Data to DataFrame\n",
    "\n",
    "Export the city data into a .csv.\n",
    "\n",
    "Display the DataFrame"
   ]
  },
  {
   "cell_type": "code",
   "execution_count": 4,
   "metadata": {},
   "outputs": [
    {
     "name": "stdout",
     "output_type": "stream",
     "text": [
      "Not found... Skipping\n",
      "Not found... Skipping\n",
      "Not found... Skipping\n",
      "Not found... Skipping\n",
      "Not found... Skipping\n",
      "Not found... Skipping\n",
      "Not found... Skipping\n",
      "Not found... Skipping\n",
      "Not found... Skipping\n",
      "Not found... Skipping\n",
      "Not found... Skipping\n",
      "Not found... Skipping\n",
      "Not found... Skipping\n",
      "Not found... Skipping\n",
      "Not found... Skipping\n",
      "Not found... Skipping\n",
      "Not found... Skipping\n",
      "Not found... Skipping\n",
      "Not found... Skipping\n",
      "Not found... Skipping\n",
      "Not found... Skipping\n",
      "Not found... Skipping\n",
      "Not found... Skipping\n",
      "Not found... Skipping\n",
      "Not found... Skipping\n",
      "Not found... Skipping\n",
      "Not found... Skipping\n"
     ]
    },
    {
     "data": {
      "text/html": [
       "<div>\n",
       "<style scoped>\n",
       "    .dataframe tbody tr th:only-of-type {\n",
       "        vertical-align: middle;\n",
       "    }\n",
       "\n",
       "    .dataframe tbody tr th {\n",
       "        vertical-align: top;\n",
       "    }\n",
       "\n",
       "    .dataframe thead th {\n",
       "        text-align: right;\n",
       "    }\n",
       "</style>\n",
       "<table border=\"1\" class=\"dataframe\">\n",
       "  <thead>\n",
       "    <tr style=\"text-align: right;\">\n",
       "      <th></th>\n",
       "      <th>City</th>\n",
       "      <th>Cloudiness</th>\n",
       "      <th>Country</th>\n",
       "      <th>Date</th>\n",
       "      <th>Humidity</th>\n",
       "      <th>Lat</th>\n",
       "      <th>Lng</th>\n",
       "      <th>Max Temp</th>\n",
       "      <th>Wind Speed</th>\n",
       "    </tr>\n",
       "  </thead>\n",
       "  <tbody>\n",
       "    <tr>\n",
       "      <th>0</th>\n",
       "      <td>Puerto Ayora</td>\n",
       "      <td>50</td>\n",
       "      <td>EC</td>\n",
       "      <td>1592510293</td>\n",
       "      <td>51</td>\n",
       "      <td>-0.74</td>\n",
       "      <td>-90.35</td>\n",
       "      <td>84.2</td>\n",
       "      <td>9.17</td>\n",
       "    </tr>\n",
       "    <tr>\n",
       "      <th>1</th>\n",
       "      <td>Ushuaia</td>\n",
       "      <td>27</td>\n",
       "      <td>AR</td>\n",
       "      <td>1592510164</td>\n",
       "      <td>64</td>\n",
       "      <td>-54.8</td>\n",
       "      <td>-68.3</td>\n",
       "      <td>35.6</td>\n",
       "      <td>7.18</td>\n",
       "    </tr>\n",
       "    <tr>\n",
       "      <th>2</th>\n",
       "      <td>Manche</td>\n",
       "      <td>33</td>\n",
       "      <td>FR</td>\n",
       "      <td>1592510629</td>\n",
       "      <td>31</td>\n",
       "      <td>49</td>\n",
       "      <td>-1.17</td>\n",
       "      <td>60.01</td>\n",
       "      <td>1.01</td>\n",
       "    </tr>\n",
       "    <tr>\n",
       "      <th>3</th>\n",
       "      <td>Codrington</td>\n",
       "      <td>100</td>\n",
       "      <td>AU</td>\n",
       "      <td>1592510454</td>\n",
       "      <td>74</td>\n",
       "      <td>-38.27</td>\n",
       "      <td>141.97</td>\n",
       "      <td>51.82</td>\n",
       "      <td>16.91</td>\n",
       "    </tr>\n",
       "    <tr>\n",
       "      <th>4</th>\n",
       "      <td>Skibbereen</td>\n",
       "      <td>75</td>\n",
       "      <td>IE</td>\n",
       "      <td>1592510629</td>\n",
       "      <td>67</td>\n",
       "      <td>51.55</td>\n",
       "      <td>-9.27</td>\n",
       "      <td>60.8</td>\n",
       "      <td>10.29</td>\n",
       "    </tr>\n",
       "    <tr>\n",
       "      <th>...</th>\n",
       "      <td>...</td>\n",
       "      <td>...</td>\n",
       "      <td>...</td>\n",
       "      <td>...</td>\n",
       "      <td>...</td>\n",
       "      <td>...</td>\n",
       "      <td>...</td>\n",
       "      <td>...</td>\n",
       "      <td>...</td>\n",
       "    </tr>\n",
       "    <tr>\n",
       "      <th>563</th>\n",
       "      <td>Barcelos</td>\n",
       "      <td>0</td>\n",
       "      <td>PT</td>\n",
       "      <td>1592510710</td>\n",
       "      <td>77</td>\n",
       "      <td>41.54</td>\n",
       "      <td>-8.62</td>\n",
       "      <td>64.99</td>\n",
       "      <td>10.29</td>\n",
       "    </tr>\n",
       "    <tr>\n",
       "      <th>564</th>\n",
       "      <td>Westport</td>\n",
       "      <td>1</td>\n",
       "      <td>US</td>\n",
       "      <td>1592510428</td>\n",
       "      <td>73</td>\n",
       "      <td>41.14</td>\n",
       "      <td>-73.36</td>\n",
       "      <td>77</td>\n",
       "      <td>8.05</td>\n",
       "    </tr>\n",
       "    <tr>\n",
       "      <th>565</th>\n",
       "      <td>Bilma</td>\n",
       "      <td>0</td>\n",
       "      <td>NE</td>\n",
       "      <td>1592510420</td>\n",
       "      <td>16</td>\n",
       "      <td>18.69</td>\n",
       "      <td>12.92</td>\n",
       "      <td>91.96</td>\n",
       "      <td>5.68</td>\n",
       "    </tr>\n",
       "    <tr>\n",
       "      <th>566</th>\n",
       "      <td>Dīdwāna</td>\n",
       "      <td></td>\n",
       "      <td></td>\n",
       "      <td></td>\n",
       "      <td></td>\n",
       "      <td></td>\n",
       "      <td></td>\n",
       "      <td></td>\n",
       "      <td></td>\n",
       "    </tr>\n",
       "    <tr>\n",
       "      <th>567</th>\n",
       "      <td>Vila Franca do Campo</td>\n",
       "      <td>75</td>\n",
       "      <td>PT</td>\n",
       "      <td>1592510368</td>\n",
       "      <td>82</td>\n",
       "      <td>37.72</td>\n",
       "      <td>-25.43</td>\n",
       "      <td>64.4</td>\n",
       "      <td>12.75</td>\n",
       "    </tr>\n",
       "  </tbody>\n",
       "</table>\n",
       "<p>568 rows × 9 columns</p>\n",
       "</div>"
      ],
      "text/plain": [
       "                     City Cloudiness Country        Date Humidity    Lat  \\\n",
       "0            Puerto Ayora         50      EC  1592510293       51  -0.74   \n",
       "1                 Ushuaia         27      AR  1592510164       64  -54.8   \n",
       "2                  Manche         33      FR  1592510629       31     49   \n",
       "3              Codrington        100      AU  1592510454       74 -38.27   \n",
       "4              Skibbereen         75      IE  1592510629       67  51.55   \n",
       "..                    ...        ...     ...         ...      ...    ...   \n",
       "563              Barcelos          0      PT  1592510710       77  41.54   \n",
       "564              Westport          1      US  1592510428       73  41.14   \n",
       "565                 Bilma          0      NE  1592510420       16  18.69   \n",
       "566               Dīdwāna                                                  \n",
       "567  Vila Franca do Campo         75      PT  1592510368       82  37.72   \n",
       "\n",
       "        Lng Max Temp Wind Speed  \n",
       "0    -90.35     84.2       9.17  \n",
       "1     -68.3     35.6       7.18  \n",
       "2     -1.17    60.01       1.01  \n",
       "3    141.97    51.82      16.91  \n",
       "4     -9.27     60.8      10.29  \n",
       "..      ...      ...        ...  \n",
       "563   -8.62    64.99      10.29  \n",
       "564  -73.36       77       8.05  \n",
       "565   12.92    91.96       5.68  \n",
       "566                              \n",
       "567  -25.43     64.4      12.75  \n",
       "\n",
       "[568 rows x 9 columns]"
      ]
     },
     "execution_count": 4,
     "metadata": {},
     "output_type": "execute_result"
    }
   ],
   "source": [
    "from pandas import DataFrame\n",
    "df = DataFrame(city_name,columns=['City'])\n",
    "\n",
    "units=\"imperial\"\n",
    "\n",
    "# Add columns for Cloudiness, Country,  Date, Humidity, Lat, Lng, Max Temp, Wind Speed\n",
    "\n",
    "df[\"Cloudiness\"] = \"\"\n",
    "df[\"Country\"] = \"\"\n",
    "df[\"Date\"] = \"\"\n",
    "df[\"Humidity\"] = \"\"\n",
    "df[\"Lat\"] = \"\"\n",
    "df[\"Lng\"] = \"\"\n",
    "df[\"Max Temp\"] = \"\"\n",
    "df[\"Wind Speed\"] = \"\"\n",
    "\n",
    "\n",
    "# Loop through the df \n",
    "for index, row in df.iterrows():\n",
    "    city = row[\"City\"]\n",
    "    # Build query URL\n",
    "    query_url =  f\"{url}appid={weather_api_key}&q={city}&units={units}\"\n",
    "    \n",
    "# make request\n",
    "    response = requests.get(query_url).json()\n",
    "    try:\n",
    "        df.loc[index, \"Lat\"] = response[\"coord\"][\"lat\"]\n",
    "        df.loc[index, \"Lng\"] = response[\"coord\"][\"lon\"]\n",
    "        df.loc[index, \"Cloudiness\"] = response[\"clouds\"][\"all\"]\n",
    "        df.loc[index, \"Max Temp\"] = response[\"main\"][\"temp_max\"]\n",
    "        df.loc[index, \"Country\"] = response[\"sys\"][\"country\"]\n",
    "        df.loc[index, \"Humidity\"] = response[\"main\"][\"humidity\"]\n",
    "        df.loc[index, \"Date\"] = response[\"dt\"]\n",
    "        df.loc[index,\"Wind Speed\"]=response['wind']['speed']\n",
    "        \n",
    "    except KeyError:\n",
    "        print(\"Not found... Skipping\")\n",
    "    \n",
    "\n",
    "\n",
    "#Display the DataFram\n",
    "df\n",
    "\n",
    "\n"
   ]
  },
  {
   "cell_type": "code",
   "execution_count": 5,
   "metadata": {},
   "outputs": [],
   "source": [
    "#df.loc[index, \"Max Temp\"] = (response[\"main\"][\"temp_max\"]-273.15)*9.5 +32\n",
    "#df.loc[index, \"Max Temp\"]"
   ]
  },
  {
   "cell_type": "code",
   "execution_count": 6,
   "metadata": {},
   "outputs": [
    {
     "name": "stdout",
     "output_type": "stream",
     "text": [
      "06-18-2020\n"
     ]
    }
   ],
   "source": [
    "#converting time zone\n",
    "from time import gmtime, strftime\n",
    "import datetime\n",
    "\n",
    "current_date = str(df.iloc[1,3])\n",
    "current_date = datetime.datetime.fromtimestamp(int(current_date)).strftime('%m-%d-%Y')\n",
    "\n",
    "#Display the modified datafram\n",
    "print(current_date)"
   ]
  },
  {
   "cell_type": "code",
   "execution_count": 7,
   "metadata": {},
   "outputs": [],
   "source": [
    "#import the dataframe to csv file \n",
    "\n",
    "df.to_csv(\"output_data/cities.csv\")\n"
   ]
  },
  {
   "cell_type": "markdown",
   "metadata": {},
   "source": [
    "### Plotting the Data\n",
    "* Use proper labeling of the plots using plot titles (including date of analysis) and axes labels.\n",
    "* Save the plotted figures as .pngs."
   ]
  },
  {
   "cell_type": "markdown",
   "metadata": {},
   "source": [
    "#### Latitude vs. Temperature Plot"
   ]
  },
  {
   "cell_type": "code",
   "execution_count": 8,
   "metadata": {},
   "outputs": [
    {
     "data": {
      "image/png": "[encoded data removed]",
      "text/plain": [
       "<Figure size 432x288 with 1 Axes>"
      ]
     },
     "metadata": {
      "needs_background": "light"
     },
     "output_type": "display_data"
    }
   ],
   "source": [
    "# to show today in the result \n",
    "import time\n",
    "todaysdate = time.strftime(\"%d/%m/%Y\")\n",
    "\n",
    "\n",
    "# Convert columns to numeric so the data can be used\n",
    "df['Lat'] = pd.to_numeric(df['Lat'])\n",
    "df['Max Temp'] = pd.to_numeric(df['Max Temp'])\n",
    "\n",
    "# Create a scatter plot \n",
    "plt.scatter(df[\"Lat\"], df[\"Max Temp\"], marker=\"o\", facecolors=\"Blue\", edgecolors=\"black\",\n",
    "             alpha=0.75)\n",
    "\n",
    "\n",
    "\n",
    "\n",
    "# name title and lalbles \n",
    "plt.title(f\"City Latitude vs. Max Temperatue ({todaysdate})\")\n",
    "plt.xlabel('Latitude')\n",
    "plt.ylabel('Max Temperature (F)')\n",
    "\n",
    "plt.grid()\n",
    "\n",
    " \n",
    "# Resize plot to display labels\n",
    "plt.tight_layout()\n",
    "\n",
    "#show the plot\n",
    "plt.show()\n",
    "\n",
    "\n"
   ]
  },
  {
   "cell_type": "markdown",
   "metadata": {},
   "source": [
    "## Analyis: till latitude= 20, as latitude increases the max-temperature increasees. But after latitude= 20, the max-temp decreased by increasing the latitude"
   ]
  },
  {
   "cell_type": "code",
   "execution_count": 9,
   "metadata": {},
   "outputs": [
    {
     "data": {
      "text/plain": [
       "<Figure size 432x288 with 0 Axes>"
      ]
     },
     "metadata": {},
     "output_type": "display_data"
    }
   ],
   "source": [
    "# Saves an image of our chart so that we can view it in a folder\n",
    "plt.savefig(\"output_data/Fig1.png\")\n"
   ]
  },
  {
   "cell_type": "code",
   "execution_count": null,
   "metadata": {
    "scrolled": true
   },
   "outputs": [],
   "source": []
  },
  {
   "cell_type": "markdown",
   "metadata": {},
   "source": [
    "#### Latitude vs. Humidity Plot"
   ]
  },
  {
   "cell_type": "code",
   "execution_count": 10,
   "metadata": {},
   "outputs": [
    {
     "data": {
      "image/png": "[encoded data removed]",
      "text/plain": [
       "<Figure size 432x288 with 1 Axes>"
      ]
     },
     "metadata": {
      "needs_background": "light"
     },
     "output_type": "display_data"
    }
   ],
   "source": [
    "# Convert columns to numeric so the data can be used\n",
    "df['Lat'] = pd.to_numeric(df['Lat'])\n",
    "df['Humidity'] = pd.to_numeric(df['Humidity'])\n",
    "\n",
    "# Create a scatter plot \n",
    "plt.scatter(df[\"Lat\"], df[\"Humidity\"], marker=\"o\", facecolors=\"Blue\", edgecolors=\"black\",\n",
    "             alpha=0.75)\n",
    "\n",
    "\n",
    "# name title and lalbles\n",
    "plt.title(f\"City Latitude vs. Humidity ({todaysdate})\")\n",
    "plt.xlabel('Latitude')\n",
    "plt.ylabel('Humidity (%)')\n",
    "\n",
    "plt.grid()\n",
    "\n",
    " \n",
    "# Resize plot to display labels\n",
    "plt.tight_layout()\n",
    "\n",
    "#show the plot\n",
    "plt.show()"
   ]
  },
  {
   "cell_type": "code",
   "execution_count": 12,
   "metadata": {},
   "outputs": [
    {
     "data": {
      "text/plain": [
       "<Figure size 432x288 with 0 Axes>"
      ]
     },
     "metadata": {},
     "output_type": "display_data"
    }
   ],
   "source": [
    "# Saves an image of our chart so that we can view it in a folder\n",
    "plt.savefig(\"output_data/Fig2.png\")"
   ]
  },
  {
   "cell_type": "markdown",
   "metadata": {},
   "source": [
    "## Analysis: there is a large variety of humidity level all over the world\n"
   ]
  },
  {
   "cell_type": "markdown",
   "metadata": {},
   "source": [
    "#### Latitude vs. Cloudiness Plot"
   ]
  },
  {
   "cell_type": "code",
   "execution_count": 14,
   "metadata": {},
   "outputs": [
    {
     "data": {
      "image/png": "[encoded data removed]",
      "text/plain": [
       "<Figure size 432x288 with 1 Axes>"
      ]
     },
     "metadata": {
      "needs_background": "light"
     },
     "output_type": "display_data"
    }
   ],
   "source": [
    "# Convert columns to numeric so the data can be used\n",
    "df['Lat'] = pd.to_numeric(df['Lat'])\n",
    "df['Cloudiness'] = pd.to_numeric(df['Cloudiness'])\n",
    "\n",
    "# Create a scatter plot \n",
    "plt.scatter(df[\"Lat\"], df[\"Cloudiness\"], marker=\"o\", facecolors=\"Blue\", edgecolors=\"black\",\n",
    "             alpha=0.75)\n",
    "\n",
    "\n",
    "# name title and lalbles\n",
    "plt.title(f\"City Latitude vs. Cloudiness ({todaysdate})\")\n",
    "plt.xlabel('Latitude')\n",
    "plt.ylabel('Cloudiness (%)')\n",
    "\n",
    "plt.grid()\n",
    "\n",
    " \n",
    "# Resize plot to display labels\n",
    "plt.tight_layout()\n",
    "\n",
    "#show the plot\n",
    "plt.show()"
   ]
  },
  {
   "cell_type": "code",
   "execution_count": 15,
   "metadata": {},
   "outputs": [
    {
     "data": {
      "text/plain": [
       "<Figure size 432x288 with 0 Axes>"
      ]
     },
     "metadata": {},
     "output_type": "display_data"
    }
   ],
   "source": [
    "# Saves an image of our chart so that we can view it in a folder\n",
    "plt.savefig(\"output_data/Fig3.png\")"
   ]
  },
  {
   "cell_type": "markdown",
   "metadata": {},
   "source": [
    "## Analysis: there is no obvious relationship between latitude and cloudiness\n"
   ]
  },
  {
   "cell_type": "markdown",
   "metadata": {},
   "source": [
    "#### Latitude vs. Wind Speed Plot"
   ]
  },
  {
   "cell_type": "code",
   "execution_count": 16,
   "metadata": {},
   "outputs": [
    {
     "data": {
      "image/png": "[encoded data removed]",
      "text/plain": [
       "<Figure size 432x288 with 1 Axes>"
      ]
     },
     "metadata": {
      "needs_background": "light"
     },
     "output_type": "display_data"
    }
   ],
   "source": [
    "# Convert columns to numeric so the data can be used\n",
    "df['Lat'] = pd.to_numeric(df['Lat'])\n",
    "df['Wind Speed'] = pd.to_numeric(df['Wind Speed'])\n",
    "\n",
    "# Create a scatter plot \n",
    "plt.scatter(df[\"Lat\"], df[\"Wind Speed\"], marker=\"o\", facecolors=\"Blue\", edgecolors=\"black\",\n",
    "             alpha=0.75)\n",
    "\n",
    "\n",
    "# name title and lalbles\n",
    "plt.title(f\"City Latitude vs. Wind Speed ({todaysdate})\")\n",
    "plt.xlabel('Latitude')\n",
    "plt.ylabel('Wind Speed (%)')\n",
    "\n",
    "plt.grid()\n",
    "\n",
    " \n",
    "# Resize plot to display labels\n",
    "plt.tight_layout()\n",
    "\n",
    "#show the plot\n",
    "plt.show()"
   ]
  },
  {
   "cell_type": "code",
   "execution_count": 17,
   "metadata": {},
   "outputs": [
    {
     "data": {
      "text/plain": [
       "<Figure size 432x288 with 0 Axes>"
      ]
     },
     "metadata": {},
     "output_type": "display_data"
    }
   ],
   "source": [
    "# Saves an image of our chart so that we can view it in a folder\n",
    "plt.savefig(\"output_data/Fig4.png\")"
   ]
  },
  {
   "cell_type": "markdown",
   "metadata": {},
   "source": [
    "## Analysis: Based on the graph, there is no obvious relationship between latitude and wind speed\n"
   ]
  },
  {
   "cell_type": "markdown",
   "metadata": {},
   "source": [
    "## Linear Regression"
   ]
  },
  {
   "cell_type": "code",
   "execution_count": 19,
   "metadata": {},
   "outputs": [],
   "source": [
    "# OPTIONAL: Create a function to create Linear Regression plots\n"
   ]
  },
  {
   "cell_type": "code",
   "execution_count": 21,
   "metadata": {},
   "outputs": [
    {
     "data": {
      "text/html": [
       "<div>\n",
       "<style scoped>\n",
       "    .dataframe tbody tr th:only-of-type {\n",
       "        vertical-align: middle;\n",
       "    }\n",
       "\n",
       "    .dataframe tbody tr th {\n",
       "        vertical-align: top;\n",
       "    }\n",
       "\n",
       "    .dataframe thead th {\n",
       "        text-align: right;\n",
       "    }\n",
       "</style>\n",
       "<table border=\"1\" class=\"dataframe\">\n",
       "  <thead>\n",
       "    <tr style=\"text-align: right;\">\n",
       "      <th></th>\n",
       "      <th>City</th>\n",
       "      <th>Cloudiness</th>\n",
       "      <th>Country</th>\n",
       "      <th>Date</th>\n",
       "      <th>Humidity</th>\n",
       "      <th>Lat</th>\n",
       "      <th>Lng</th>\n",
       "      <th>Max Temp</th>\n",
       "      <th>Wind Speed</th>\n",
       "    </tr>\n",
       "  </thead>\n",
       "  <tbody>\n",
       "    <tr>\n",
       "      <th>2</th>\n",
       "      <td>Manche</td>\n",
       "      <td>33.0</td>\n",
       "      <td>FR</td>\n",
       "      <td>1592510629</td>\n",
       "      <td>31.0</td>\n",
       "      <td>49.00</td>\n",
       "      <td>-1.17</td>\n",
       "      <td>60.01</td>\n",
       "      <td>1.01</td>\n",
       "    </tr>\n",
       "    <tr>\n",
       "      <th>4</th>\n",
       "      <td>Skibbereen</td>\n",
       "      <td>75.0</td>\n",
       "      <td>IE</td>\n",
       "      <td>1592510629</td>\n",
       "      <td>67.0</td>\n",
       "      <td>51.55</td>\n",
       "      <td>-9.27</td>\n",
       "      <td>60.80</td>\n",
       "      <td>10.29</td>\n",
       "    </tr>\n",
       "    <tr>\n",
       "      <th>5</th>\n",
       "      <td>Kapaa</td>\n",
       "      <td>90.0</td>\n",
       "      <td>US</td>\n",
       "      <td>1592510255</td>\n",
       "      <td>100.0</td>\n",
       "      <td>22.08</td>\n",
       "      <td>-159.32</td>\n",
       "      <td>77.00</td>\n",
       "      <td>20.80</td>\n",
       "    </tr>\n",
       "    <tr>\n",
       "      <th>9</th>\n",
       "      <td>Nome</td>\n",
       "      <td>1.0</td>\n",
       "      <td>US</td>\n",
       "      <td>1592510445</td>\n",
       "      <td>67.0</td>\n",
       "      <td>64.50</td>\n",
       "      <td>-165.41</td>\n",
       "      <td>64.00</td>\n",
       "      <td>11.41</td>\n",
       "    </tr>\n",
       "    <tr>\n",
       "      <th>10</th>\n",
       "      <td>Novy Urengoy</td>\n",
       "      <td>10.0</td>\n",
       "      <td>RU</td>\n",
       "      <td>1592510711</td>\n",
       "      <td>72.0</td>\n",
       "      <td>66.09</td>\n",
       "      <td>76.68</td>\n",
       "      <td>39.31</td>\n",
       "      <td>10.25</td>\n",
       "    </tr>\n",
       "  </tbody>\n",
       "</table>\n",
       "</div>"
      ],
      "text/plain": [
       "            City  Cloudiness Country        Date  Humidity    Lat     Lng  \\\n",
       "2         Manche        33.0      FR  1592510629      31.0  49.00   -1.17   \n",
       "4     Skibbereen        75.0      IE  1592510629      67.0  51.55   -9.27   \n",
       "5          Kapaa        90.0      US  1592510255     100.0  22.08 -159.32   \n",
       "9           Nome         1.0      US  1592510445      67.0  64.50 -165.41   \n",
       "10  Novy Urengoy        10.0      RU  1592510711      72.0  66.09   76.68   \n",
       "\n",
       "    Max Temp  Wind Speed  \n",
       "2      60.01        1.01  \n",
       "4      60.80       10.29  \n",
       "5      77.00       20.80  \n",
       "9      64.00       11.41  \n",
       "10     39.31       10.25  "
      ]
     },
     "execution_count": 21,
     "metadata": {},
     "output_type": "execute_result"
    }
   ],
   "source": [
    "# Create Northern and Southern Hemisphere DataFrames\n",
    "northern_hemisphere = df.loc[df[\"Lat\"]>0.01]\n",
    "southern_hemisphere = df.loc[df[\"Lat\"]<-0.01]\n",
    "\n",
    "northern_hemisphere.head()\n",
    "#southern_hemisphere.head()"
   ]
  },
  {
   "cell_type": "markdown",
   "metadata": {},
   "source": [
    "####  Northern Hemisphere - Max Temp vs. Latitude Linear Regression"
   ]
  },
  {
   "cell_type": "code",
   "execution_count": 22,
   "metadata": {},
   "outputs": [
    {
     "name": "stderr",
     "output_type": "stream",
     "text": [
      "C:\\Users\\hashe\\anaconda3\\lib\\site-packages\\ipykernel_launcher.py:2: SettingWithCopyWarning: \n",
      "A value is trying to be set on a copy of a slice from a DataFrame.\n",
      "Try using .loc[row_indexer,col_indexer] = value instead\n",
      "\n",
      "See the caveats in the documentation: https://pandas.pydata.org/pandas-docs/stable/user_guide/indexing.html#returning-a-view-versus-a-copy\n",
      "  \n",
      "C:\\Users\\hashe\\anaconda3\\lib\\site-packages\\ipykernel_launcher.py:3: SettingWithCopyWarning: \n",
      "A value is trying to be set on a copy of a slice from a DataFrame.\n",
      "Try using .loc[row_indexer,col_indexer] = value instead\n",
      "\n",
      "See the caveats in the documentation: https://pandas.pydata.org/pandas-docs/stable/user_guide/indexing.html#returning-a-view-versus-a-copy\n",
      "  This is separate from the ipykernel package so we can avoid doing imports until\n"
     ]
    },
    {
     "name": "stdout",
     "output_type": "stream",
     "text": [
      "The r-squared is: -0.7143318672577791\n"
     ]
    },
    {
     "data": {
      "image/png": "[encoded data removed]",
      "text/plain": [
       "<Figure size 432x288 with 1 Axes>"
      ]
     },
     "metadata": {
      "needs_background": "light"
     },
     "output_type": "display_data"
    }
   ],
   "source": [
    "# Convert columns to numeric so the data can be used\n",
    "northern_hemisphere['Lat'] = pd.to_numeric(northern_hemisphere['Lat'])\n",
    "northern_hemisphere['Max Temp'] = pd.to_numeric(northern_hemisphere['Max Temp'])\n",
    "\n",
    "#define x and y value\n",
    "x_values = northern_hemisphere.loc[:,\"Lat\"]\n",
    "y_values = northern_hemisphere.loc[:,'Max Temp']\n",
    "\n",
    "\n",
    "#caluclate the regression \n",
    "(slope, intercept, rvalue, pvalue, stderr) = linregress(x_values, y_values)\n",
    "regress_values = x_values * slope + intercept\n",
    "\n",
    "# find the reqression equation\n",
    "line_eq = \"y = \" + str(round(slope,2)) + \"x + \" + str(round(intercept,2))\n",
    "\n",
    "# creat the  r-squared value along with the plot.\n",
    "plt.scatter(x_values,y_values)\n",
    "plt.plot(x_values, regress_values,\"r-\")\n",
    "\n",
    "#annotating the equation on the plot \n",
    "plt.annotate(line_eq,xy=(0,50),fontsize=15,color=\"red\")\n",
    "\n",
    "#defining x and y labels\n",
    "plt.title(f\"Northern Hemisphere - Max Temp vs. Latitude Linear Regression ({todaysdate})\")\n",
    "plt.xlabel('Latitude')\n",
    "plt.ylabel('Max Temperature (F)')\n",
    "\n",
    "print(f\"The r-squared is: {rvalue}\")\n",
    "\n",
    "\n",
    "plt.grid()\n",
    "\n",
    " \n",
    "#define limitation for x and y \n",
    "plt.xlim(min(x_values)-10, max(x_values)+10)\n",
    "plt.ylim(min(y_values)-10, max(y_values)+10) \n",
    "\n",
    "\n",
    "# Resize plot to display labels\n",
    "plt.tight_layout()\n",
    "\n",
    "#show the plot\n",
    "plt.show()\n",
    "\n"
   ]
  },
  {
   "cell_type": "code",
   "execution_count": 25,
   "metadata": {},
   "outputs": [
    {
     "data": {
      "text/plain": [
       "<Figure size 432x288 with 0 Axes>"
      ]
     },
     "metadata": {},
     "output_type": "display_data"
    }
   ],
   "source": [
    "# Saves an image of our chart so that we can view it in a folder\n",
    "plt.savefig(\"output_data/Fig5.png\")"
   ]
  },
  {
   "cell_type": "markdown",
   "metadata": {},
   "source": [
    "## Analysis: Based on this data, in northern hamispher, max temperature decreased by increasing latitude"
   ]
  },
  {
   "cell_type": "markdown",
   "metadata": {},
   "source": [
    "####  Southern Hemisphere - Max Temp vs. Latitude Linear Regression"
   ]
  },
  {
   "cell_type": "code",
   "execution_count": 26,
   "metadata": {},
   "outputs": [
    {
     "name": "stderr",
     "output_type": "stream",
     "text": [
      "C:\\Users\\hashe\\anaconda3\\lib\\site-packages\\ipykernel_launcher.py:2: SettingWithCopyWarning: \n",
      "A value is trying to be set on a copy of a slice from a DataFrame.\n",
      "Try using .loc[row_indexer,col_indexer] = value instead\n",
      "\n",
      "See the caveats in the documentation: https://pandas.pydata.org/pandas-docs/stable/user_guide/indexing.html#returning-a-view-versus-a-copy\n",
      "  \n",
      "C:\\Users\\hashe\\anaconda3\\lib\\site-packages\\ipykernel_launcher.py:3: SettingWithCopyWarning: \n",
      "A value is trying to be set on a copy of a slice from a DataFrame.\n",
      "Try using .loc[row_indexer,col_indexer] = value instead\n",
      "\n",
      "See the caveats in the documentation: https://pandas.pydata.org/pandas-docs/stable/user_guide/indexing.html#returning-a-view-versus-a-copy\n",
      "  This is separate from the ipykernel package so we can avoid doing imports until\n"
     ]
    },
    {
     "name": "stdout",
     "output_type": "stream",
     "text": [
      "The r-squared is: 0.7767121597466601\n"
     ]
    },
    {
     "data": {
      "image/png": "[encoded data removed]",
      "text/plain": [
       "<Figure size 432x288 with 1 Axes>"
      ]
     },
     "metadata": {
      "needs_background": "light"
     },
     "output_type": "display_data"
    }
   ],
   "source": [
    "# Convert columns to numeric so the data can be used\n",
    "southern_hemisphere['Lat'] = pd.to_numeric(southern_hemisphere['Lat'])\n",
    "southern_hemisphere['Max Temp'] = pd.to_numeric(southern_hemisphere['Max Temp'])\n",
    "\n",
    "#define x and y value\n",
    "x_values = southern_hemisphere.loc[:,\"Lat\"]\n",
    "y_values = southern_hemisphere.loc[:,'Max Temp']\n",
    "\n",
    "\n",
    "#caluclate the regression \n",
    "(slope, intercept, rvalue, pvalue, stderr) = linregress(x_values, y_values)\n",
    "regress_values = x_values * slope + intercept\n",
    "\n",
    "# find the reqression equation\n",
    "line_eq = \"y = \" + str(round(slope,2)) + \"x + \" + str(round(intercept,2))\n",
    "\n",
    "# creat the  r-squared value along with the plot.\n",
    "plt.scatter(x_values,y_values)\n",
    "plt.plot(x_values, regress_values,\"r-\")\n",
    "\n",
    "#annotating the equation on the plot \n",
    "plt.annotate(line_eq, (-50,100), fontsize=15,color=\"red\")\n",
    "\n",
    "#defining x and y labels\n",
    "plt.title(f\"Southern Hemisphere - Max Temp vs. Latitude Linear Regression ({todaysdate})\")\n",
    "plt.xlabel('Latitude')\n",
    "plt.ylabel('Max Temperature (F)')\n",
    "\n",
    "print(f\"The r-squared is: {rvalue}\")\n",
    "\n",
    "\n",
    "plt.grid()\n",
    "# Resize plot to display labels\n",
    "plt.tight_layout()\n",
    "\n",
    "#define limitation for x and y \n",
    "plt.xlim(min(x_values)-10, max(x_values)+10)\n",
    "plt.ylim(min(y_values)-10, max(y_values)+10)\n",
    "\n",
    "#show the plot\n",
    "plt.show()\n"
   ]
  },
  {
   "cell_type": "code",
   "execution_count": 28,
   "metadata": {},
   "outputs": [
    {
     "data": {
      "text/plain": [
       "<Figure size 432x288 with 0 Axes>"
      ]
     },
     "metadata": {},
     "output_type": "display_data"
    }
   ],
   "source": [
    "# Saves an image of our chart so that we can view it in a folder\n",
    "plt.savefig(\"output_data/Fig6.png\")"
   ]
  },
  {
   "cell_type": "markdown",
   "metadata": {},
   "source": [
    "## Analysis: Based on this data, in southern hamispher, max temperature increases by increasing latitude. It means that there is a liniaer positive corrolation betwwen latitude and max_temp"
   ]
  },
  {
   "cell_type": "markdown",
   "metadata": {},
   "source": [
    "####  Northern Hemisphere - Humidity (%) vs. Latitude Linear Regression"
   ]
  },
  {
   "cell_type": "code",
   "execution_count": 29,
   "metadata": {},
   "outputs": [
    {
     "name": "stderr",
     "output_type": "stream",
     "text": [
      "C:\\Users\\hashe\\anaconda3\\lib\\site-packages\\ipykernel_launcher.py:2: SettingWithCopyWarning: \n",
      "A value is trying to be set on a copy of a slice from a DataFrame.\n",
      "Try using .loc[row_indexer,col_indexer] = value instead\n",
      "\n",
      "See the caveats in the documentation: https://pandas.pydata.org/pandas-docs/stable/user_guide/indexing.html#returning-a-view-versus-a-copy\n",
      "  \n",
      "C:\\Users\\hashe\\anaconda3\\lib\\site-packages\\ipykernel_launcher.py:3: SettingWithCopyWarning: \n",
      "A value is trying to be set on a copy of a slice from a DataFrame.\n",
      "Try using .loc[row_indexer,col_indexer] = value instead\n",
      "\n",
      "See the caveats in the documentation: https://pandas.pydata.org/pandas-docs/stable/user_guide/indexing.html#returning-a-view-versus-a-copy\n",
      "  This is separate from the ipykernel package so we can avoid doing imports until\n"
     ]
    },
    {
     "name": "stdout",
     "output_type": "stream",
     "text": [
      "The r-squared is: 0.006263483339944684\n"
     ]
    },
    {
     "data": {
      "image/png": "[encoded data removed]",
      "text/plain": [
       "<Figure size 432x288 with 1 Axes>"
      ]
     },
     "metadata": {
      "needs_background": "light"
     },
     "output_type": "display_data"
    }
   ],
   "source": [
    "# Convert columns to numeric so the data can be used\n",
    "northern_hemisphere['Lat'] = pd.to_numeric(northern_hemisphere['Lat'])\n",
    "northern_hemisphere['Humidity'] = pd.to_numeric(northern_hemisphere['Humidity'])\n",
    "\n",
    "#define x and y value\n",
    "x_values = northern_hemisphere[\"Lat\"]\n",
    "y_values = northern_hemisphere[\"Humidity\"]\n",
    "\n",
    "\n",
    "#caluclate the regression \n",
    "(slope, intercept, rvalue, pvalue, stderr) = linregress(x_values, y_values)\n",
    "regress_values = x_values * slope + intercept\n",
    "\n",
    "# find the reqression equation\n",
    "line_eq = \"y = \" + str(round(slope,2)) + \"x + \" + str(round(intercept,2))\n",
    "\n",
    "# creat the  r-squared value along with the plot.\n",
    "plt.scatter(x_values,y_values)\n",
    "plt.plot(x_values, regress_values,\"r-\")\n",
    "\n",
    "#annotating the equation on the plot \n",
    "plt.annotate(line_eq,xy=(0,50),fontsize=15,color=\"red\")\n",
    "\n",
    "#defining x and y labels\n",
    "plt.title(f\"Northern Hemisphere Humidity vs. Latitude Linear Regression ({todaysdate})\")\n",
    "plt.xlabel('Latitude')\n",
    "plt.ylabel('Humidity (%)')\n",
    "\n",
    "print(f\"The r-squared is: {rvalue}\")\n",
    "\n",
    "\n",
    "plt.grid()\n",
    "\n",
    " \n",
    "#define limitation for x and y \n",
    "plt.xlim(min(x_values)-10, max(x_values)+10)\n",
    "plt.ylim(min(y_values)-10, max(y_values)+10) \n",
    "\n",
    "\n",
    "# Resize plot to display labels\n",
    "plt.tight_layout()\n",
    "\n",
    "#show the plot\n",
    "plt.show()"
   ]
  },
  {
   "cell_type": "code",
   "execution_count": 30,
   "metadata": {},
   "outputs": [
    {
     "data": {
      "text/plain": [
       "<Figure size 432x288 with 0 Axes>"
      ]
     },
     "metadata": {},
     "output_type": "display_data"
    }
   ],
   "source": [
    "# Saves an image of our chart so that we can view it in a folder\n",
    "plt.savefig(\"output_data/Fig7.png\")"
   ]
  },
  {
   "cell_type": "markdown",
   "metadata": {},
   "source": [
    "## Analysis: Based on this data, in northern hemisphere, there is no obvious relationship between latitude and humidity"
   ]
  },
  {
   "cell_type": "code",
   "execution_count": null,
   "metadata": {},
   "outputs": [],
   "source": []
  },
  {
   "cell_type": "markdown",
   "metadata": {},
   "source": [
    "####  Southern Hemisphere - Humidity (%) vs. Latitude Linear Regression"
   ]
  },
  {
   "cell_type": "code",
   "execution_count": 31,
   "metadata": {},
   "outputs": [
    {
     "name": "stderr",
     "output_type": "stream",
     "text": [
      "C:\\Users\\hashe\\anaconda3\\lib\\site-packages\\ipykernel_launcher.py:2: SettingWithCopyWarning: \n",
      "A value is trying to be set on a copy of a slice from a DataFrame.\n",
      "Try using .loc[row_indexer,col_indexer] = value instead\n",
      "\n",
      "See the caveats in the documentation: https://pandas.pydata.org/pandas-docs/stable/user_guide/indexing.html#returning-a-view-versus-a-copy\n",
      "  \n",
      "C:\\Users\\hashe\\anaconda3\\lib\\site-packages\\ipykernel_launcher.py:3: SettingWithCopyWarning: \n",
      "A value is trying to be set on a copy of a slice from a DataFrame.\n",
      "Try using .loc[row_indexer,col_indexer] = value instead\n",
      "\n",
      "See the caveats in the documentation: https://pandas.pydata.org/pandas-docs/stable/user_guide/indexing.html#returning-a-view-versus-a-copy\n",
      "  This is separate from the ipykernel package so we can avoid doing imports until\n"
     ]
    },
    {
     "name": "stdout",
     "output_type": "stream",
     "text": [
      "The r-squared is: 0.02891464207234183\n"
     ]
    },
    {
     "data": {
      "image/png": "[encoded data removed]",
      "text/plain": [
       "<Figure size 432x288 with 1 Axes>"
      ]
     },
     "metadata": {
      "needs_background": "light"
     },
     "output_type": "display_data"
    }
   ],
   "source": [
    "# Convert columns to numeric so the data can be used\n",
    "southern_hemisphere['Lat'] = pd.to_numeric(southern_hemisphere['Lat'])\n",
    "southern_hemisphere['Humidity'] = pd.to_numeric(southern_hemisphere['Humidity'])\n",
    "\n",
    "#define x and y value\n",
    "x_values = southern_hemisphere[\"Lat\"]\n",
    "y_values = southern_hemisphere[\"Humidity\"]\n",
    "\n",
    "\n",
    "#caluclate the regression \n",
    "(slope, intercept, rvalue, pvalue, stderr) = linregress(x_values, y_values)\n",
    "regress_values = x_values * slope + intercept\n",
    "\n",
    "# find the reqression equation\n",
    "line_eq = \"y = \" + str(round(slope,2)) + \"x + \" + str(round(intercept,2))\n",
    "\n",
    "# creat the  r-squared value along with the plot.\n",
    "plt.scatter(x_values,y_values)\n",
    "plt.plot(x_values, regress_values,\"r-\")\n",
    "\n",
    "#annotating the equation on the plot \n",
    "plt.annotate(line_eq, (-50,100), fontsize=15,color=\"red\")\n",
    "\n",
    "#defining x and y labels\n",
    "plt.title(f\"Southern Hemisphere Humidity vs. Latitude Linear Regression ({todaysdate})\")\n",
    "plt.xlabel('Latitude')\n",
    "plt.ylabel('Humidity (%)')\n",
    "\n",
    "print(f\"The r-squared is: {rvalue}\")\n",
    "\n",
    "\n",
    "plt.grid()\n",
    "# Resize plot to display labels\n",
    "plt.tight_layout()\n",
    "\n",
    "#define limitation for x and y \n",
    "plt.xlim(min(x_values)-10, max(x_values)+10)\n",
    "plt.ylim(min(y_values)-10, max(y_values)+10)\n",
    "\n",
    "#show the plot\n",
    "plt.show()"
   ]
  },
  {
   "cell_type": "code",
   "execution_count": 32,
   "metadata": {},
   "outputs": [
    {
     "data": {
      "text/plain": [
       "<Figure size 432x288 with 0 Axes>"
      ]
     },
     "metadata": {},
     "output_type": "display_data"
    }
   ],
   "source": [
    "# Saves an image of our chart so that we can view it in a folder\n",
    "plt.savefig(\"output_data/Fig8.png\")"
   ]
  },
  {
   "cell_type": "markdown",
   "metadata": {},
   "source": [
    "# Analysis: Based on this data, in southern hemisphere, there is no obvious relationship between latitude and humidity\n"
   ]
  },
  {
   "cell_type": "markdown",
   "metadata": {},
   "source": [
    "####  Northern Hemisphere - Cloudiness (%) vs. Latitude Linear Regression"
   ]
  },
  {
   "cell_type": "code",
   "execution_count": 33,
   "metadata": {},
   "outputs": [
    {
     "name": "stderr",
     "output_type": "stream",
     "text": [
      "C:\\Users\\hashe\\anaconda3\\lib\\site-packages\\ipykernel_launcher.py:2: SettingWithCopyWarning: \n",
      "A value is trying to be set on a copy of a slice from a DataFrame.\n",
      "Try using .loc[row_indexer,col_indexer] = value instead\n",
      "\n",
      "See the caveats in the documentation: https://pandas.pydata.org/pandas-docs/stable/user_guide/indexing.html#returning-a-view-versus-a-copy\n",
      "  \n",
      "C:\\Users\\hashe\\anaconda3\\lib\\site-packages\\ipykernel_launcher.py:3: SettingWithCopyWarning: \n",
      "A value is trying to be set on a copy of a slice from a DataFrame.\n",
      "Try using .loc[row_indexer,col_indexer] = value instead\n",
      "\n",
      "See the caveats in the documentation: https://pandas.pydata.org/pandas-docs/stable/user_guide/indexing.html#returning-a-view-versus-a-copy\n",
      "  This is separate from the ipykernel package so we can avoid doing imports until\n"
     ]
    },
    {
     "name": "stdout",
     "output_type": "stream",
     "text": [
      "The r-squared is: -0.12465535689830443\n"
     ]
    },
    {
     "data": {
      "image/png": "[encoded data removed]",
      "text/plain": [
       "<Figure size 432x288 with 1 Axes>"
      ]
     },
     "metadata": {
      "needs_background": "light"
     },
     "output_type": "display_data"
    }
   ],
   "source": [
    "# Convert columns to numeric so the data can be used\n",
    "northern_hemisphere['Lat'] = pd.to_numeric(northern_hemisphere['Lat'])\n",
    "northern_hemisphere['Cloudiness'] = pd.to_numeric(northern_hemisphere['Cloudiness'])\n",
    "\n",
    "#define x and y value\n",
    "x_values = northern_hemisphere[\"Lat\"]\n",
    "y_values = northern_hemisphere[\"Cloudiness\"]\n",
    "\n",
    "\n",
    "#caluclate the regression \n",
    "(slope, intercept, rvalue, pvalue, stderr) = linregress(x_values, y_values)\n",
    "regress_values = x_values * slope + intercept\n",
    "\n",
    "# find the reqression equation\n",
    "line_eq = \"y = \" + str(round(slope,2)) + \"x + \" + str(round(intercept,2))\n",
    "\n",
    "# creat the  r-squared value along with the plot.\n",
    "plt.scatter(x_values,y_values)\n",
    "plt.plot(x_values, regress_values,\"r-\")\n",
    "\n",
    "#annotating the equation on the plot \n",
    "plt.annotate(line_eq,xy=(0,50),fontsize=15,color=\"red\")\n",
    "\n",
    "#defining x and y labels\n",
    "plt.title(f\"Northern Hemisphere Cloudiness vs. Latitude Linear Regression ({todaysdate})\")\n",
    "plt.xlabel('Latitude')\n",
    "plt.ylabel('Cloudiness (%)')\n",
    "\n",
    "print(f\"The r-squared is: {rvalue}\")\n",
    "\n",
    "\n",
    "plt.grid()\n",
    "\n",
    " \n",
    "#define limitation for x and y \n",
    "plt.xlim(min(x_values)-10, max(x_values)+10)\n",
    "plt.ylim(min(y_values)-10, max(y_values)+10) \n",
    "\n",
    "\n",
    "# Resize plot to display labels\n",
    "plt.tight_layout()\n",
    "\n",
    "#show the plot\n",
    "plt.show()"
   ]
  },
  {
   "cell_type": "code",
   "execution_count": 34,
   "metadata": {},
   "outputs": [
    {
     "data": {
      "text/plain": [
       "<Figure size 432x288 with 0 Axes>"
      ]
     },
     "metadata": {},
     "output_type": "display_data"
    }
   ],
   "source": [
    "# Saves an image of our chart so that we can view it in a folder\n",
    "plt.savefig(\"output_data/Fig9.png\")"
   ]
  },
  {
   "cell_type": "markdown",
   "metadata": {},
   "source": [
    "## Analysis: Based on this data, in northern  hemisphere, there is no obvious relationship between latitude and cloudiness¶"
   ]
  },
  {
   "cell_type": "markdown",
   "metadata": {},
   "source": [
    "####  Southern Hemisphere - Cloudiness (%) vs. Latitude Linear Regression"
   ]
  },
  {
   "cell_type": "code",
   "execution_count": 35,
   "metadata": {},
   "outputs": [
    {
     "name": "stderr",
     "output_type": "stream",
     "text": [
      "C:\\Users\\hashe\\anaconda3\\lib\\site-packages\\ipykernel_launcher.py:2: SettingWithCopyWarning: \n",
      "A value is trying to be set on a copy of a slice from a DataFrame.\n",
      "Try using .loc[row_indexer,col_indexer] = value instead\n",
      "\n",
      "See the caveats in the documentation: https://pandas.pydata.org/pandas-docs/stable/user_guide/indexing.html#returning-a-view-versus-a-copy\n",
      "  \n",
      "C:\\Users\\hashe\\anaconda3\\lib\\site-packages\\ipykernel_launcher.py:3: SettingWithCopyWarning: \n",
      "A value is trying to be set on a copy of a slice from a DataFrame.\n",
      "Try using .loc[row_indexer,col_indexer] = value instead\n",
      "\n",
      "See the caveats in the documentation: https://pandas.pydata.org/pandas-docs/stable/user_guide/indexing.html#returning-a-view-versus-a-copy\n",
      "  This is separate from the ipykernel package so we can avoid doing imports until\n"
     ]
    },
    {
     "name": "stdout",
     "output_type": "stream",
     "text": [
      "The r-squared is: -0.06008188192857999\n"
     ]
    },
    {
     "data": {
      "image/png": "[encoded data removed]",
      "text/plain": [
       "<Figure size 432x288 with 1 Axes>"
      ]
     },
     "metadata": {
      "needs_background": "light"
     },
     "output_type": "display_data"
    }
   ],
   "source": [
    "# Convert columns to numeric so the data can be used\n",
    "southern_hemisphere['Lat'] = pd.to_numeric(southern_hemisphere['Lat'])\n",
    "southern_hemisphere[\"\"] = pd.to_numeric(southern_hemisphere['Cloudiness'])\n",
    "\n",
    "#define x and y value\n",
    "x_values = southern_hemisphere[\"Lat\"]\n",
    "y_values = southern_hemisphere[\"Cloudiness\"]\n",
    "\n",
    "\n",
    "#caluclate the regression \n",
    "(slope, intercept, rvalue, pvalue, stderr) = linregress(x_values, y_values)\n",
    "regress_values = x_values * slope + intercept\n",
    "\n",
    "# find the reqression equation\n",
    "line_eq = \"y = \" + str(round(slope,2)) + \"x + \" + str(round(intercept,2))\n",
    "\n",
    "# creat the  r-squared value along with the plot.\n",
    "plt.scatter(x_values,y_values)\n",
    "plt.plot(x_values, regress_values,\"r-\")\n",
    "\n",
    "#annotating the equation on the plot \n",
    "plt.annotate(line_eq, (-50,100), fontsize=15,color=\"red\")\n",
    "\n",
    "#defining x and y labels\n",
    "plt.title(f\"Southern Hemisphere Cloudiness vs. Latitude Linear Regression ({todaysdate})\")\n",
    "plt.xlabel('Latitude')\n",
    "plt.ylabel('Cloudiness (%)')\n",
    "\n",
    "print(f\"The r-squared is: {rvalue}\")\n",
    "\n",
    "\n",
    "plt.grid()\n",
    "# Resize plot to display labels\n",
    "plt.tight_layout()\n",
    "\n",
    "#define limitation for x and y \n",
    "plt.xlim(min(x_values)-10, max(x_values)+10)\n",
    "plt.ylim(min(y_values)-10, max(y_values)+10)\n",
    "\n",
    "#show the plot\n",
    "plt.show()"
   ]
  },
  {
   "cell_type": "code",
   "execution_count": 36,
   "metadata": {},
   "outputs": [
    {
     "data": {
      "text/plain": [
       "<Figure size 432x288 with 0 Axes>"
      ]
     },
     "metadata": {},
     "output_type": "display_data"
    }
   ],
   "source": [
    "# Saves an image of our chart so that we can view it in a folder\n",
    "plt.savefig(\"output_data/Fig10.png\")"
   ]
  },
  {
   "cell_type": "markdown",
   "metadata": {},
   "source": [
    "# Analysis: Based on this data, in southern hemisphere, there is no obvious relationship between latitude and cloudiness"
   ]
  },
  {
   "cell_type": "markdown",
   "metadata": {},
   "source": [
    "####  Northern Hemisphere - Wind Speed (mph) vs. Latitude Linear Regression"
   ]
  },
  {
   "cell_type": "code",
   "execution_count": 42,
   "metadata": {},
   "outputs": [
    {
     "name": "stdout",
     "output_type": "stream",
     "text": [
      "The r-squared is: -0.05645993029831551\n"
     ]
    },
    {
     "name": "stderr",
     "output_type": "stream",
     "text": [
      "C:\\Users\\hashe\\anaconda3\\lib\\site-packages\\ipykernel_launcher.py:2: SettingWithCopyWarning: \n",
      "A value is trying to be set on a copy of a slice from a DataFrame.\n",
      "Try using .loc[row_indexer,col_indexer] = value instead\n",
      "\n",
      "See the caveats in the documentation: https://pandas.pydata.org/pandas-docs/stable/user_guide/indexing.html#returning-a-view-versus-a-copy\n",
      "  \n",
      "C:\\Users\\hashe\\anaconda3\\lib\\site-packages\\ipykernel_launcher.py:3: SettingWithCopyWarning: \n",
      "A value is trying to be set on a copy of a slice from a DataFrame.\n",
      "Try using .loc[row_indexer,col_indexer] = value instead\n",
      "\n",
      "See the caveats in the documentation: https://pandas.pydata.org/pandas-docs/stable/user_guide/indexing.html#returning-a-view-versus-a-copy\n",
      "  This is separate from the ipykernel package so we can avoid doing imports until\n"
     ]
    },
    {
     "data": {
      "image/png": "[encoded data removed]",
      "text/plain": [
       "<Figure size 432x288 with 1 Axes>"
      ]
     },
     "metadata": {
      "needs_background": "light"
     },
     "output_type": "display_data"
    }
   ],
   "source": [
    "# Convert columns to numeric so the data can be used\n",
    "northern_hemisphere['Lat'] = pd.to_numeric(northern_hemisphere['Lat'])\n",
    "northern_hemisphere['Wind Speed'] = pd.to_numeric(northern_hemisphere['Wind Speed'])\n",
    "\n",
    "#define x and y value\n",
    "x_values = northern_hemisphere[\"Lat\"]\n",
    "y_values = northern_hemisphere[\"Wind Speed\"]\n",
    "\n",
    "\n",
    "#caluclate the regression \n",
    "(slope, intercept, rvalue, pvalue, stderr) = linregress(x_values, y_values)\n",
    "regress_values = x_values * slope + intercept\n",
    "\n",
    "# find the reqression equation\n",
    "line_eq = \"y = \" + str(round(slope,2)) + \"x + \" + str(round(intercept,2))\n",
    "\n",
    "# creat the  r-squared value along with the plot.\n",
    "plt.scatter(x_values,y_values)\n",
    "plt.plot(x_values, regress_values,\"r-\")\n",
    "\n",
    "#annotating the equation on the plot \n",
    "plt.annotate(line_eq,xy=(0,50),fontsize=15,color=\"red\")\n",
    "\n",
    "#defining x and y labels\n",
    "plt.title(f\"Northern Hemisphere Wind speed vs. Latitude Linear Regression ({todaysdate})\")\n",
    "plt.xlabel('Latitude')\n",
    "plt.ylabel('Wind Speed (%)')\n",
    "\n",
    "print(f\"The r-squared is: {rvalue}\")\n",
    "\n",
    "\n",
    "plt.grid()\n",
    "\n",
    " \n",
    "#define limitation for x and y \n",
    "plt.xlim(min(x_values)-10, max(x_values)+10)\n",
    "plt.ylim(min(y_values)-10, max(y_values)+10) \n",
    "\n",
    "\n",
    "# Resize plot to display labels\n",
    "plt.tight_layout()\n",
    "\n",
    "#show the plot\n",
    "plt.show()"
   ]
  },
  {
   "cell_type": "code",
   "execution_count": 43,
   "metadata": {},
   "outputs": [
    {
     "data": {
      "text/plain": [
       "<Figure size 432x288 with 0 Axes>"
      ]
     },
     "metadata": {},
     "output_type": "display_data"
    }
   ],
   "source": [
    "# Saves an image of our chart so that we can view it in a folder\n",
    "plt.savefig(\"output_data/Fig11.png\")"
   ]
  },
  {
   "cell_type": "markdown",
   "metadata": {},
   "source": [
    "## Analysis: Based on this data, in hemisphere, there is no obvious relationship between latitude and wind speed"
   ]
  },
  {
   "cell_type": "markdown",
   "metadata": {},
   "source": [
    "####  Southern Hemisphere - Wind Speed (mph) vs. Latitude Linear Regression"
   ]
  },
  {
   "cell_type": "code",
   "execution_count": 46,
   "metadata": {},
   "outputs": [
    {
     "name": "stdout",
     "output_type": "stream",
     "text": [
      "The r-squared is: -0.18576175240404424\n"
     ]
    },
    {
     "name": "stderr",
     "output_type": "stream",
     "text": [
      "C:\\Users\\hashe\\anaconda3\\lib\\site-packages\\ipykernel_launcher.py:2: SettingWithCopyWarning: \n",
      "A value is trying to be set on a copy of a slice from a DataFrame.\n",
      "Try using .loc[row_indexer,col_indexer] = value instead\n",
      "\n",
      "See the caveats in the documentation: https://pandas.pydata.org/pandas-docs/stable/user_guide/indexing.html#returning-a-view-versus-a-copy\n",
      "  \n",
      "C:\\Users\\hashe\\anaconda3\\lib\\site-packages\\ipykernel_launcher.py:3: SettingWithCopyWarning: \n",
      "A value is trying to be set on a copy of a slice from a DataFrame.\n",
      "Try using .loc[row_indexer,col_indexer] = value instead\n",
      "\n",
      "See the caveats in the documentation: https://pandas.pydata.org/pandas-docs/stable/user_guide/indexing.html#returning-a-view-versus-a-copy\n",
      "  This is separate from the ipykernel package so we can avoid doing imports until\n"
     ]
    },
    {
     "data": {
      "image/png": "[encoded data removed]",
      "text/plain": [
       "<Figure size 432x288 with 1 Axes>"
      ]
     },
     "metadata": {
      "needs_background": "light"
     },
     "output_type": "display_data"
    },
    {
     "data": {
      "text/plain": [
       "<Figure size 432x288 with 0 Axes>"
      ]
     },
     "metadata": {},
     "output_type": "display_data"
    }
   ],
   "source": [
    "# Convert columns to numeric so the data can be used\n",
    "southern_hemisphere['Lat'] = pd.to_numeric(southern_hemisphere['Lat'])\n",
    "southern_hemisphere[\"Wind Speed\"] = pd.to_numeric(southern_hemisphere['Wind Speed'])\n",
    "\n",
    "#define x and y value\n",
    "x_values = southern_hemisphere[\"Lat\"]\n",
    "y_values = southern_hemisphere[\"Wind Speed\"]\n",
    "\n",
    "\n",
    "#caluclate the regression \n",
    "(slope, intercept, rvalue, pvalue, stderr) = linregress(x_values, y_values)\n",
    "regress_values = x_values * slope + intercept\n",
    "\n",
    "# find the reqression equation\n",
    "line_eq = \"y = \" + str(round(slope,2)) + \"x + \" + str(round(intercept,2))\n",
    "\n",
    "# creat the  r-squared value along with the plot.\n",
    "plt.scatter(x_values,y_values)\n",
    "plt.plot(x_values, regress_values,\"r-\")\n",
    "\n",
    "#annotating the equation on the plot \n",
    "plt.annotate(line_eq, (-30,10), fontsize=15,color=\"red\")\n",
    "\n",
    "#defining x and y labels\n",
    "plt.title(f\"Southern Hemisphere Wind speed vs. Latitude Linear Regression ({todaysdate})\")\n",
    "plt.xlabel('Latitude')\n",
    "plt.ylabel('Wind speed (%)')\n",
    "\n",
    "print(f\"The r-squared is: {rvalue}\")\n",
    "\n",
    "\n",
    "plt.grid()\n",
    "\n",
    "#define limitation for x and y \n",
    "plt.xlim(min(x_values)-10, max(x_values)+10)\n",
    "plt.ylim(min(y_values)-10, max(y_values)+10)\n",
    "\n",
    "#show the plot\n",
    "plt.show()\n",
    "\n",
    "# Resize plot to display labels\n",
    "plt.tight_layout()\n"
   ]
  },
  {
   "cell_type": "code",
   "execution_count": 48,
   "metadata": {},
   "outputs": [
    {
     "data": {
      "text/plain": [
       "<Figure size 432x288 with 0 Axes>"
      ]
     },
     "metadata": {},
     "output_type": "display_data"
    }
   ],
   "source": [
    "# Saves an image of our chart so that we can view it in a folder\n",
    "plt.savefig(\"output_data/Fig12.png\")"
   ]
  },
  {
   "cell_type": "markdown",
   "metadata": {},
   "source": [
    "## Analysis: Based on this data, in southern, there is no obvious relationship between latitude and wind speed"
   ]
  },
  {
   "cell_type": "code",
   "execution_count": null,
   "metadata": {},
   "outputs": [],
   "source": []
  },
  {
   "cell_type": "code",
   "execution_count": null,
   "metadata": {},
   "outputs": [],
   "source": []
  }
 ],
 "metadata": {
  "anaconda-cloud": {},
  "kernel_info": {
   "name": "python3"
  },
  "kernelspec": {
   "display_name": "Python 3",
   "language": "python",
   "name": "python3"
  },
  "language_info": {
   "codemirror_mode": {
    "name": "ipython",
    "version": 3
   },
   "file_extension": ".py",
   "mimetype": "text/x-python",
   "name": "python",
   "nbconvert_exporter": "python",
   "pygments_lexer": "ipython3",
   "version": "3.7.6"
  },
  "latex_envs": {
   "LaTeX_envs_menu_present": true,
   "autoclose": false,
   "autocomplete": true,
   "bibliofile": "biblio.bib",
   "cite_by": "apalike",
   "current_citInitial": 1,
   "eqLabelWithNumbers": true,
   "eqNumInitial": 1,
   "hotkeys": {
    "equation": "Ctrl-E",
    "itemize": "Ctrl-I"
   },
   "labels_anchors": false,
   "latex_user_defs": false,
   "report_style_numbering": false,
   "user_envs_cfg": false
  },
  "nteract": {
   "version": "0.12.3"
  }
 },
 "nbformat": 4,
 "nbformat_minor": 2
}
