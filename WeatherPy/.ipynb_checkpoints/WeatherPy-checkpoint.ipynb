{
 "cells": [
  {
   "cell_type": "markdown",
   "metadata": {},
   "source": [
    "# WeatherPy\n",
    "----\n",
    "\n",
    "#### Note\n",
    "* Instructions have been included for each segment. You do not have to follow them exactly, but they are included to help you think through the steps."
   ]
  },
  {
   "cell_type": "code",
   "execution_count": 1,
   "metadata": {},
   "outputs": [],
   "source": [
    "# import Dependencies\n",
    "import matplotlib.pyplot as plt\n",
    "import pandas as pd\n",
    "import numpy as np\n",
    "import requests\n",
    "import time\n",
    "from scipy.stats import linregress"
   ]
  },
  {
   "cell_type": "code",
   "execution_count": null,
   "metadata": {},
   "outputs": [],
   "source": [
    "# Import API key\n",
    "from api_keys import g_key\n",
    "from api_keys import weather_api_key"
   ]
  },
  {
   "cell_type": "code",
   "execution_count": 17,
   "metadata": {
    "scrolled": true
   },
   "outputs": [],
   "source": [
    "# Incorporated citipy to determine city based on latitude and longitude\n",
    "from citipy import citipy\n",
    "\n",
    "# Output File (CSV) address\n",
    "output_data_file = \"output_git data/cities.csv\"\n",
    "\n",
    "# Range of latitudes and longitudes\n",
    "lat_range = (-90, 90)\n",
    "lng_range = (-180, 180)"
   ]
  },
  {
   "cell_type": "markdown",
   "metadata": {},
   "source": [
    "## Generate Cities List"
   ]
  },
  {
   "cell_type": "code",
   "execution_count": 18,
   "metadata": {},
   "outputs": [
    {
     "data": {
      "text/plain": [
       "659"
      ]
     },
     "execution_count": 18,
     "metadata": {},
     "output_type": "execute_result"
    }
   ],
   "source": [
    "#  define List for holding lat_lngs and cities\n",
    "lat_lngs = []\n",
    "cities = []\n",
    "\n",
    "# Create a set of random lat and lng combinations\n",
    "lats = np.random.uniform(low=-90.000, high=90.000, size=1500)\n",
    "lngs = np.random.uniform(low=-180.000, high=180.000, size=1500)\n",
    "lat_lngs = zip(lats, lngs)\n",
    "\n",
    "# Identify nearest city for each lat, lng combination\n",
    "for lat_lng in lat_lngs:\n",
    "    city = citipy.nearest_city(lat_lng[0], lat_lng[1]).city_name\n",
    "    \n",
    "    # If the citygit  is unique, then add it to a our cities list\n",
    "    if city not in cities:\n",
    "        cities.append(city)\n",
    "\n",
    "# Print the city count to confirm sufficient count\n",
    "len(cities)"
   ]
  },
  {
   "cell_type": "markdown",
   "metadata": {},
   "source": [
    "### Perform API Calls\n",
    "* Perform a weather check on each city using a series of successive API calls.\n",
    "* Include a print log of each city as it'sbeing processed (with the city number and city name).\n"
   ]
  },
  {
   "cell_type": "code",
   "execution_count": 19,
   "metadata": {},
   "outputs": [
    {
     "name": "stdout",
     "output_type": "stream",
     "text": [
      "Beginning Data Retrieval\n",
      "------------------------------------\n",
      "Proccessing Recored 0 of Set 1| vaini\n",
      "Proccessing Recored 1 of Set 1| castro\n",
      "Proccessing Recored 2 of Set 1| cap malheureux\n",
      "Proccessing Recored 3 of Set 1| rikitea\n",
      "Proccessing Recored 4 of Set 1| srednekolymsk\n",
      "Proccessing Recored 5 of Set 1| gilgit\n",
      "Proccessing Recored 6 of Set 1| husavik\n",
      "Proccessing Recored 7 of Set 1| butaritari\n",
      "Proccessing Recored 8 of Set 1| zachagansk\n",
      "city not found. Skipping...\n",
      "Proccessing Recored 9 of Set 1| ilulissat\n",
      "Proccessing Recored 10 of Set 1| arraial do cabo\n",
      "Proccessing Recored 11 of Set 1| barrow\n",
      "Proccessing Recored 12 of Set 1| moerai\n",
      "Proccessing Recored 13 of Set 1| wallasey\n",
      "Proccessing Recored 14 of Set 1| thompson\n",
      "Proccessing Recored 15 of Set 1| mangan\n",
      "Proccessing Recored 16 of Set 1| pindiga\n",
      "Proccessing Recored 17 of Set 1| cape town\n",
      "Proccessing Recored 18 of Set 1| beidao\n",
      "Proccessing Recored 19 of Set 1| malwan\n",
      "city not found. Skipping...\n",
      "Proccessing Recored 20 of Set 1| new norfolk\n",
      "Proccessing Recored 21 of Set 1| qibili\n",
      "city not found. Skipping...\n",
      "Proccessing Recored 22 of Set 1| sinnamary\n",
      "Proccessing Recored 23 of Set 1| cockburn town\n",
      "Proccessing Recored 24 of Set 1| petatlan\n",
      "Proccessing Recored 25 of Set 1| fairbanks\n",
      "Proccessing Recored 26 of Set 1| sovetskiy\n",
      "Proccessing Recored 27 of Set 1| tumannyy\n",
      "city not found. Skipping...\n",
      "Proccessing Recored 28 of Set 1| lavrentiya\n",
      "Proccessing Recored 29 of Set 1| albany\n",
      "Proccessing Recored 30 of Set 1| qaanaaq\n",
      "Proccessing Recored 31 of Set 1| port blair\n",
      "Proccessing Recored 32 of Set 1| willmar\n",
      "Proccessing Recored 33 of Set 1| ingham\n",
      "Proccessing Recored 34 of Set 1| longyearbyen\n",
      "Proccessing Recored 35 of Set 1| kapaa\n",
      "Proccessing Recored 36 of Set 1| mangrol\n",
      "Proccessing Recored 37 of Set 1| idanre\n",
      "Proccessing Recored 38 of Set 1| yellowknife\n",
      "Proccessing Recored 39 of Set 1| port alfred\n",
      "Proccessing Recored 40 of Set 1| ilo\n",
      "Proccessing Recored 41 of Set 1| illoqqortoormiut\n",
      "city not found. Skipping...\n",
      "Proccessing Recored 42 of Set 1| portland\n",
      "Proccessing Recored 43 of Set 1| khani\n",
      "Proccessing Recored 44 of Set 1| ushuaia\n",
      "Proccessing Recored 45 of Set 1| mataura\n",
      "Proccessing Recored 46 of Set 1| palmer\n",
      "Proccessing Recored 47 of Set 1| devrek\n",
      "Proccessing Recored 48 of Set 1| busselton\n",
      "Proccessing Recored 49 of Set 1| skalistyy\n",
      "city not found. Skipping...\n",
      "Proccessing Recored 1 of Set 2| mar del plata\n",
      "Proccessing Recored 2 of Set 2| talnakh\n",
      "Proccessing Recored 3 of Set 2| belaya gora\n",
      "Proccessing Recored 4 of Set 2| oranjemund\n",
      "Proccessing Recored 5 of Set 2| komsomolskiy\n",
      "Proccessing Recored 6 of Set 2| tautira\n",
      "Proccessing Recored 7 of Set 2| hithadhoo\n",
      "Proccessing Recored 8 of Set 2| chuy\n",
      "Proccessing Recored 9 of Set 2| hobart\n",
      "Proccessing Recored 10 of Set 2| karratha\n",
      "Proccessing Recored 11 of Set 2| asau\n",
      "Proccessing Recored 12 of Set 2| port lincoln\n",
      "Proccessing Recored 13 of Set 2| panaba\n",
      "Proccessing Recored 14 of Set 2| taolanaro\n",
      "city not found. Skipping...\n",
      "Proccessing Recored 15 of Set 2| puerto ayora\n",
      "Proccessing Recored 16 of Set 2| ribeira grande\n",
      "Proccessing Recored 17 of Set 2| nome\n",
      "Proccessing Recored 18 of Set 2| novyy urengoy\n",
      "Proccessing Recored 19 of Set 2| georgetown\n",
      "Proccessing Recored 20 of Set 2| santiago\n",
      "Proccessing Recored 21 of Set 2| upernavik\n",
      "Proccessing Recored 22 of Set 2| hamilton\n",
      "Proccessing Recored 23 of Set 2| cabo san lucas\n",
      "Proccessing Recored 24 of Set 2| ambon\n",
      "Proccessing Recored 25 of Set 2| zhezkazgan\n",
      "Proccessing Recored 26 of Set 2| ola\n",
      "Proccessing Recored 27 of Set 2| hrubieszow\n",
      "Proccessing Recored 28 of Set 2| yulara\n",
      "Proccessing Recored 29 of Set 2| lebu\n",
      "Proccessing Recored 30 of Set 2| bambous virieux\n",
      "Proccessing Recored 31 of Set 2| nishio\n",
      "Proccessing Recored 32 of Set 2| tasiilaq\n",
      "Proccessing Recored 33 of Set 2| kodiak\n",
      "Proccessing Recored 34 of Set 2| anadyr\n",
      "Proccessing Recored 35 of Set 2| santa cruz de tenerife\n",
      "Proccessing Recored 36 of Set 2| riyadh\n",
      "Proccessing Recored 37 of Set 2| rabo de peixe\n",
      "Proccessing Recored 38 of Set 2| labuan\n",
      "Proccessing Recored 39 of Set 2| harwich\n",
      "Proccessing Recored 40 of Set 2| bluff\n",
      "Proccessing Recored 41 of Set 2| bethel\n",
      "Proccessing Recored 42 of Set 2| chapais\n",
      "Proccessing Recored 43 of Set 2| hami\n",
      "Proccessing Recored 44 of Set 2| mys shmidta\n",
      "city not found. Skipping...\n",
      "Proccessing Recored 45 of Set 2| san patricio\n",
      "Proccessing Recored 46 of Set 2| arlit\n",
      "Proccessing Recored 47 of Set 2| avarua\n",
      "Proccessing Recored 48 of Set 2| warqla\n",
      "city not found. Skipping...\n",
      "Proccessing Recored 49 of Set 2| kahului\n",
      "Proccessing Recored 1 of Set 3| nola\n",
      "Proccessing Recored 2 of Set 3| akyab\n",
      "Proccessing Recored 3 of Set 3| coutances\n",
      "Proccessing Recored 4 of Set 3| yamada\n",
      "Proccessing Recored 5 of Set 3| moelv\n",
      "Proccessing Recored 6 of Set 3| ponta do sol\n",
      "Proccessing Recored 7 of Set 3| kaitangata\n",
      "Proccessing Recored 8 of Set 3| marcona\n",
      "city not found. Skipping...\n",
      "Proccessing Recored 9 of Set 3| saleaula\n",
      "city not found. Skipping...\n",
      "Proccessing Recored 10 of Set 3| karwar\n",
      "Proccessing Recored 11 of Set 3| aflu\n",
      "city not found. Skipping...\n",
      "Proccessing Recored 12 of Set 3| dikson\n",
      "Proccessing Recored 13 of Set 3| gore\n",
      "Proccessing Recored 14 of Set 3| carutapera\n",
      "Proccessing Recored 15 of Set 3| nizwa\n",
      "Proccessing Recored 16 of Set 3| chokurdakh\n",
      "Proccessing Recored 17 of Set 3| namibe\n",
      "Proccessing Recored 18 of Set 3| berbera\n",
      "Proccessing Recored 19 of Set 3| belushya guba\n",
      "city not found. Skipping...\n",
      "Proccessing Recored 20 of Set 3| sjovegan\n",
      "Proccessing Recored 21 of Set 3| bredasdorp\n",
      "Proccessing Recored 22 of Set 3| bathsheba\n",
      "Proccessing Recored 23 of Set 3| tiksi\n",
      "Proccessing Recored 24 of Set 3| ulladulla\n",
      "Proccessing Recored 25 of Set 3| lumsden\n",
      "Proccessing Recored 26 of Set 3| hilo\n",
      "Proccessing Recored 27 of Set 3| punta arenas\n",
      "Proccessing Recored 28 of Set 3| sulangan\n",
      "Proccessing Recored 29 of Set 3| barentsburg\n",
      "city not found. Skipping...\n",
      "Proccessing Recored 30 of Set 3| porto tolle\n",
      "Proccessing Recored 31 of Set 3| cayenne\n",
      "Proccessing Recored 32 of Set 3| victoria\n",
      "Proccessing Recored 33 of Set 3| odienne\n",
      "Proccessing Recored 34 of Set 3| baykit\n",
      "Proccessing Recored 35 of Set 3| myitkyina\n",
      "Proccessing Recored 36 of Set 3| putina\n",
      "Proccessing Recored 37 of Set 3| dingle\n",
      "Proccessing Recored 38 of Set 3| te anau\n",
      "Proccessing Recored 39 of Set 3| tuy hoa\n",
      "Proccessing Recored 40 of Set 3| feijo\n",
      "Proccessing Recored 41 of Set 3| carupano\n",
      "Proccessing Recored 42 of Set 3| port hardy\n",
      "Proccessing Recored 43 of Set 3| jamestown\n",
      "Proccessing Recored 44 of Set 3| palagiano\n",
      "Proccessing Recored 45 of Set 3| minab\n",
      "Proccessing Recored 46 of Set 3| san carlos\n",
      "Proccessing Recored 47 of Set 3| ahuimanu\n",
      "Proccessing Recored 48 of Set 3| sisimiut\n",
      "Proccessing Recored 49 of Set 3| nhulunbuy\n",
      "Proccessing Recored 1 of Set 4| urucara\n",
      "Proccessing Recored 2 of Set 4| ahipara\n",
      "Proccessing Recored 3 of Set 4| aklavik\n",
      "Proccessing Recored 4 of Set 4| tsihombe\n",
      "city not found. Skipping...\n",
      "Proccessing Recored 5 of Set 4| nanortalik\n",
      "Proccessing Recored 6 of Set 4| iqaluit\n",
      "Proccessing Recored 7 of Set 4| clyde river\n",
      "Proccessing Recored 8 of Set 4| whitianga\n",
      "Proccessing Recored 9 of Set 4| klaksvik\n",
      "Proccessing Recored 10 of Set 4| rojhan\n",
      "Proccessing Recored 11 of Set 4| villanueva de la serena\n",
      "Proccessing Recored 12 of Set 4| lebedinyy\n",
      "Proccessing Recored 13 of Set 4| tessalit\n",
      "Proccessing Recored 14 of Set 4| nikolskoye\n",
      "Proccessing Recored 15 of Set 4| kuching\n",
      "Proccessing Recored 16 of Set 4| tsienyane\n",
      "city not found. Skipping...\n",
      "Proccessing Recored 17 of Set 4| laje\n",
      "Proccessing Recored 18 of Set 4| vostok\n",
      "Proccessing Recored 19 of Set 4| amderma\n",
      "city not found. Skipping...\n",
      "Proccessing Recored 20 of Set 4| prainha\n",
      "Proccessing Recored 21 of Set 4| pevek\n",
      "Proccessing Recored 22 of Set 4| constitucion\n",
      "Proccessing Recored 23 of Set 4| tuktoyaktuk\n",
      "Proccessing Recored 24 of Set 4| matay\n",
      "Proccessing Recored 25 of Set 4| carnarvon\n",
      "Proccessing Recored 26 of Set 4| kizukuri\n",
      "Proccessing Recored 27 of Set 4| sehithwa\n",
      "Proccessing Recored 28 of Set 4| puerto palomas\n",
      "Proccessing Recored 29 of Set 4| ust-kamchatsk\n",
      "city not found. Skipping...\n",
      "Proccessing Recored 30 of Set 4| lorengau\n",
      "Proccessing Recored 31 of Set 4| narsaq\n",
      "Proccessing Recored 32 of Set 4| esperance\n",
      "Proccessing Recored 33 of Set 4| segezha\n",
      "Proccessing Recored 34 of Set 4| wolmaranstad\n",
      "city not found. Skipping...\n",
      "Proccessing Recored 35 of Set 4| bonavista\n"
     ]
    },
    {
     "name": "stdout",
     "output_type": "stream",
     "text": [
      "Proccessing Recored 36 of Set 4| khatanga\n",
      "Proccessing Recored 37 of Set 4| vaitupu\n",
      "city not found. Skipping...\n",
      "Proccessing Recored 38 of Set 4| cap-aux-meules\n",
      "Proccessing Recored 39 of Set 4| novokizhinginsk\n",
      "Proccessing Recored 40 of Set 4| attawapiskat\n",
      "city not found. Skipping...\n",
      "Proccessing Recored 41 of Set 4| mareeba\n",
      "Proccessing Recored 42 of Set 4| baraboo\n",
      "Proccessing Recored 43 of Set 4| garmsar\n",
      "Proccessing Recored 44 of Set 4| natchez\n",
      "Proccessing Recored 45 of Set 4| porto novo\n",
      "Proccessing Recored 46 of Set 4| cumaribo\n",
      "city not found. Skipping...\n",
      "Proccessing Recored 47 of Set 4| college\n",
      "Proccessing Recored 48 of Set 4| turukhansk\n",
      "Proccessing Recored 49 of Set 4| sitka\n",
      "Proccessing Recored 1 of Set 5| oistins\n",
      "Proccessing Recored 2 of Set 5| bushehr\n",
      "Proccessing Recored 3 of Set 5| vila velha\n",
      "Proccessing Recored 4 of Set 5| juifang\n",
      "city not found. Skipping...\n",
      "Proccessing Recored 5 of Set 5| wakkanai\n",
      "Proccessing Recored 6 of Set 5| puerto ayacucho\n",
      "Proccessing Recored 7 of Set 5| kavieng\n",
      "Proccessing Recored 8 of Set 5| hermanus\n",
      "Proccessing Recored 9 of Set 5| torbay\n",
      "Proccessing Recored 10 of Set 5| taguatinga\n",
      "Proccessing Recored 11 of Set 5| baoma\n",
      "Proccessing Recored 12 of Set 5| bolungarvik\n",
      "city not found. Skipping...\n",
      "Proccessing Recored 13 of Set 5| coihaique\n",
      "Proccessing Recored 14 of Set 5| san pedro\n",
      "Proccessing Recored 15 of Set 5| bubaque\n",
      "Proccessing Recored 16 of Set 5| eydhafushi\n",
      "Proccessing Recored 17 of Set 5| novikovo\n",
      "Proccessing Recored 18 of Set 5| guerrero negro\n",
      "Proccessing Recored 19 of Set 5| fukue\n",
      "Proccessing Recored 20 of Set 5| norman wells\n",
      "Proccessing Recored 21 of Set 5| goderich\n",
      "Proccessing Recored 22 of Set 5| wattens\n",
      "Proccessing Recored 23 of Set 5| amaigbo\n",
      "Proccessing Recored 24 of Set 5| faanui\n",
      "Proccessing Recored 25 of Set 5| korla\n",
      "Proccessing Recored 26 of Set 5| san-pedro\n",
      "Proccessing Recored 27 of Set 5| vodyane\n",
      "Proccessing Recored 28 of Set 5| pangnirtung\n",
      "Proccessing Recored 29 of Set 5| along\n",
      "Proccessing Recored 30 of Set 5| souris\n",
      "Proccessing Recored 31 of Set 5| lagos\n",
      "Proccessing Recored 32 of Set 5| cherskiy\n",
      "Proccessing Recored 33 of Set 5| lalibela\n",
      "Proccessing Recored 34 of Set 5| indramayu\n",
      "Proccessing Recored 35 of Set 5| brae\n",
      "Proccessing Recored 36 of Set 5| cocorit\n",
      "Proccessing Recored 37 of Set 5| rio grande\n",
      "Proccessing Recored 38 of Set 5| provideniya\n",
      "Proccessing Recored 39 of Set 5| bolshoye sorokino\n",
      "city not found. Skipping...\n",
      "Proccessing Recored 40 of Set 5| van\n",
      "Proccessing Recored 41 of Set 5| ust-kut\n",
      "Proccessing Recored 42 of Set 5| lompoc\n",
      "Proccessing Recored 43 of Set 5| kouqian\n",
      "Proccessing Recored 44 of Set 5| ancud\n",
      "Proccessing Recored 45 of Set 5| banda aceh\n",
      "Proccessing Recored 46 of Set 5| buraydah\n",
      "Proccessing Recored 47 of Set 5| chicama\n",
      "Proccessing Recored 48 of Set 5| svetlogorsk\n",
      "Proccessing Recored 49 of Set 5| pisco\n",
      "Proccessing Recored 1 of Set 6| maralal\n",
      "Proccessing Recored 2 of Set 6| salym\n",
      "Proccessing Recored 3 of Set 6| komatipoort\n",
      "Proccessing Recored 4 of Set 6| paamiut\n",
      "Proccessing Recored 5 of Set 6| atuona\n",
      "Proccessing Recored 6 of Set 6| bairiki\n",
      "Proccessing Recored 7 of Set 6| dowa\n",
      "Proccessing Recored 8 of Set 6| bull savanna\n",
      "Proccessing Recored 9 of Set 6| paris\n",
      "Proccessing Recored 10 of Set 6| acoua\n",
      "Proccessing Recored 11 of Set 6| isangel\n",
      "Proccessing Recored 12 of Set 6| salta\n",
      "Proccessing Recored 13 of Set 6| port elizabeth\n",
      "Proccessing Recored 14 of Set 6| cozumel\n",
      "Proccessing Recored 15 of Set 6| mount gambier\n",
      "Proccessing Recored 16 of Set 6| kisangani\n",
      "Proccessing Recored 17 of Set 6| preobrazheniye\n",
      "Proccessing Recored 18 of Set 6| liverpool\n",
      "Proccessing Recored 19 of Set 6| wattegama\n",
      "Proccessing Recored 20 of Set 6| huarmey\n",
      "Proccessing Recored 21 of Set 6| saint-philippe\n",
      "Proccessing Recored 22 of Set 6| grand river south east\n",
      "city not found. Skipping...\n",
      "Proccessing Recored 23 of Set 6| rognan\n",
      "Proccessing Recored 24 of Set 6| kotaparh\n",
      "Proccessing Recored 25 of Set 6| zhangjiakou\n",
      "Proccessing Recored 26 of Set 6| airai\n",
      "Proccessing Recored 27 of Set 6| leningradskiy\n",
      "Proccessing Recored 28 of Set 6| berdigestyakh\n",
      "Proccessing Recored 29 of Set 6| urbana\n",
      "Proccessing Recored 30 of Set 6| acapulco\n",
      "Proccessing Recored 31 of Set 6| sentyabrskiy\n",
      "city not found. Skipping...\n",
      "Proccessing Recored 32 of Set 6| ornskoldsvik\n",
      "Proccessing Recored 33 of Set 6| nacala\n",
      "Proccessing Recored 34 of Set 6| borovoy\n",
      "Proccessing Recored 35 of Set 6| tahe\n",
      "Proccessing Recored 36 of Set 6| pingliang\n",
      "Proccessing Recored 37 of Set 6| liepaja\n",
      "Proccessing Recored 38 of Set 6| mahebourg\n",
      "Proccessing Recored 39 of Set 6| tasbuget\n",
      "city not found. Skipping...\n",
      "Proccessing Recored 40 of Set 6| tanete\n",
      "Proccessing Recored 41 of Set 6| karasjok\n",
      "Proccessing Recored 42 of Set 6| ihosy\n",
      "Proccessing Recored 43 of Set 6| kolpashevo\n",
      "Proccessing Recored 44 of Set 6| samarai\n",
      "Proccessing Recored 45 of Set 6| auki\n",
      "Proccessing Recored 46 of Set 6| pilar\n",
      "Proccessing Recored 47 of Set 6| east london\n",
      "Proccessing Recored 48 of Set 6| cidreira\n",
      "Proccessing Recored 49 of Set 6| tawnat\n",
      "city not found. Skipping...\n",
      "Proccessing Recored 1 of Set 7| sturgeon falls\n",
      "Proccessing Recored 2 of Set 7| westport\n",
      "Proccessing Recored 3 of Set 7| boca del rio\n",
      "Proccessing Recored 4 of Set 7| luderitz\n",
      "Proccessing Recored 5 of Set 7| kruisfontein\n",
      "Proccessing Recored 6 of Set 7| opuwo\n",
      "Proccessing Recored 7 of Set 7| bilibino\n",
      "Proccessing Recored 8 of Set 7| ituni\n",
      "city not found. Skipping...\n",
      "Proccessing Recored 9 of Set 7| grand gaube\n",
      "Proccessing Recored 10 of Set 7| dicabisagan\n",
      "Proccessing Recored 11 of Set 7| quatre cocos\n",
      "Proccessing Recored 12 of Set 7| jiexiu\n",
      "Proccessing Recored 13 of Set 7| jardim\n",
      "Proccessing Recored 14 of Set 7| general teran\n",
      "Proccessing Recored 15 of Set 7| vardo\n",
      "Proccessing Recored 16 of Set 7| yuli\n",
      "Proccessing Recored 17 of Set 7| praia da vitoria\n",
      "Proccessing Recored 18 of Set 7| kokopo\n",
      "Proccessing Recored 19 of Set 7| haibowan\n",
      "city not found. Skipping...\n",
      "Proccessing Recored 20 of Set 7| dunedin\n",
      "Proccessing Recored 21 of Set 7| zhanakorgan\n",
      "Proccessing Recored 22 of Set 7| guamuchil\n",
      "Proccessing Recored 23 of Set 7| nizhneyansk\n",
      "city not found. Skipping...\n",
      "Proccessing Recored 24 of Set 7| skibbereen\n",
      "Proccessing Recored 25 of Set 7| bargal\n",
      "city not found. Skipping...\n",
      "Proccessing Recored 26 of Set 7| schmalkalden\n",
      "Proccessing Recored 27 of Set 7| black river\n",
      "Proccessing Recored 28 of Set 7| alipur duar\n",
      "city not found. Skipping...\n",
      "Proccessing Recored 29 of Set 7| gambela\n",
      "Proccessing Recored 30 of Set 7| gat\n",
      "Proccessing Recored 31 of Set 7| uribia\n",
      "Proccessing Recored 32 of Set 7| haines junction\n",
      "Proccessing Recored 33 of Set 7| meyungs\n",
      "city not found. Skipping...\n",
      "Proccessing Recored 34 of Set 7| quakenbruck\n",
      "Proccessing Recored 35 of Set 7| ahumada\n",
      "city not found. Skipping...\n",
      "Proccessing Recored 36 of Set 7| tecoanapa\n",
      "Proccessing Recored 37 of Set 7| conceicao do araguaia\n",
      "Proccessing Recored 38 of Set 7| torrelavega\n",
      "Proccessing Recored 39 of Set 7| northam\n",
      "Proccessing Recored 40 of Set 7| pemba\n",
      "Proccessing Recored 41 of Set 7| sirpur\n",
      "Proccessing Recored 42 of Set 7| mount isa\n",
      "Proccessing Recored 43 of Set 7| trojes\n",
      "Proccessing Recored 44 of Set 7| acarau\n",
      "Proccessing Recored 45 of Set 7| krasnoselkup\n",
      "Proccessing Recored 46 of Set 7| ingraj bazar\n",
      "Proccessing Recored 47 of Set 7| dharchula\n",
      "Proccessing Recored 48 of Set 7| rawdon\n",
      "Proccessing Recored 49 of Set 7| tefe\n",
      "Proccessing Recored 1 of Set 8| juru\n",
      "Proccessing Recored 2 of Set 8| purpe\n",
      "Proccessing Recored 3 of Set 8| san cristobal\n",
      "Proccessing Recored 4 of Set 8| bud\n",
      "Proccessing Recored 5 of Set 8| bandarbeyla\n",
      "Proccessing Recored 6 of Set 8| otuzco\n",
      "Proccessing Recored 7 of Set 8| bereda\n",
      "Proccessing Recored 8 of Set 8| saint-pierre\n",
      "Proccessing Recored 9 of Set 8| genhe\n",
      "Proccessing Recored 10 of Set 8| sarangani\n",
      "Proccessing Recored 11 of Set 8| pacific grove\n",
      "Proccessing Recored 12 of Set 8| shelburne\n",
      "Proccessing Recored 13 of Set 8| shaunavon\n",
      "Proccessing Recored 14 of Set 8| teya\n",
      "Proccessing Recored 15 of Set 8| orlik\n",
      "Proccessing Recored 16 of Set 8| catamarca\n",
      "Proccessing Recored 17 of Set 8| codrington\n",
      "Proccessing Recored 18 of Set 8| vreed en hoop\n",
      "city not found. Skipping...\n",
      "Proccessing Recored 19 of Set 8| inderborskiy\n",
      "city not found. Skipping...\n",
      "Proccessing Recored 20 of Set 8| paka\n",
      "Proccessing Recored 21 of Set 8| sechura\n"
     ]
    },
    {
     "name": "stdout",
     "output_type": "stream",
     "text": [
      "Proccessing Recored 22 of Set 8| sosnovo-ozerskoye\n",
      "Proccessing Recored 23 of Set 8| lengshuitan\n",
      "Proccessing Recored 24 of Set 8| comodoro rivadavia\n",
      "Proccessing Recored 25 of Set 8| machico\n",
      "Proccessing Recored 26 of Set 8| zhigansk\n",
      "Proccessing Recored 27 of Set 8| richards bay\n",
      "Proccessing Recored 28 of Set 8| batticaloa\n",
      "Proccessing Recored 29 of Set 8| jibuti\n",
      "Proccessing Recored 30 of Set 8| novozybkov\n",
      "Proccessing Recored 31 of Set 8| carbonia\n",
      "Proccessing Recored 32 of Set 8| saint-louis\n",
      "Proccessing Recored 33 of Set 8| bengkulu\n",
      "Proccessing Recored 34 of Set 8| axim\n",
      "Proccessing Recored 35 of Set 8| puerto penasco\n",
      "Proccessing Recored 36 of Set 8| burica\n",
      "city not found. Skipping...\n",
      "Proccessing Recored 37 of Set 8| butterworth\n",
      "Proccessing Recored 38 of Set 8| vrable\n",
      "Proccessing Recored 39 of Set 8| sur\n",
      "Proccessing Recored 40 of Set 8| laguna\n",
      "Proccessing Recored 41 of Set 8| severo-yeniseyskiy\n",
      "Proccessing Recored 42 of Set 8| mandal\n",
      "Proccessing Recored 43 of Set 8| mullaitivu\n",
      "city not found. Skipping...\n",
      "Proccessing Recored 44 of Set 8| necochea\n",
      "Proccessing Recored 45 of Set 8| san anselmo\n",
      "Proccessing Recored 46 of Set 8| whitefish\n",
      "Proccessing Recored 47 of Set 8| karabash\n",
      "Proccessing Recored 48 of Set 8| gornoye loo\n",
      "Proccessing Recored 49 of Set 8| banes\n",
      "Proccessing Recored 1 of Set 9| ngunguru\n",
      "Proccessing Recored 2 of Set 9| taoudenni\n",
      "Proccessing Recored 3 of Set 9| la ronge\n",
      "Proccessing Recored 4 of Set 9| padang\n",
      "Proccessing Recored 5 of Set 9| kurchum\n",
      "Proccessing Recored 6 of Set 9| mitchell\n",
      "Proccessing Recored 7 of Set 9| sao filipe\n",
      "Proccessing Recored 8 of Set 9| aykhal\n",
      "Proccessing Recored 9 of Set 9| hofn\n",
      "Proccessing Recored 10 of Set 9| vao\n",
      "Proccessing Recored 11 of Set 9| kaeo\n",
      "Proccessing Recored 12 of Set 9| kuche\n",
      "city not found. Skipping...\n",
      "Proccessing Recored 13 of Set 9| wilmington\n",
      "Proccessing Recored 14 of Set 9| qeshm\n",
      "Proccessing Recored 15 of Set 9| khasan\n",
      "Proccessing Recored 16 of Set 9| amapa\n",
      "Proccessing Recored 17 of Set 9| florianopolis\n",
      "Proccessing Recored 18 of Set 9| naze\n",
      "Proccessing Recored 19 of Set 9| geraldton\n",
      "Proccessing Recored 20 of Set 9| viedma\n",
      "Proccessing Recored 21 of Set 9| kamarion\n",
      "Proccessing Recored 22 of Set 9| swellendam\n",
      "Proccessing Recored 23 of Set 9| uray\n",
      "Proccessing Recored 24 of Set 9| lydenburg\n",
      "Proccessing Recored 25 of Set 9| ust-kuyga\n",
      "Proccessing Recored 26 of Set 9| blonduos\n",
      "city not found. Skipping...\n",
      "Proccessing Recored 27 of Set 9| saint-joseph\n",
      "Proccessing Recored 28 of Set 9| lyubytino\n",
      "Proccessing Recored 29 of Set 9| the valley\n",
      "Proccessing Recored 30 of Set 9| qui nhon\n",
      "Proccessing Recored 31 of Set 9| bac lieu\n",
      "Proccessing Recored 32 of Set 9| ugoofaaru\n",
      "Proccessing Recored 33 of Set 9| braniewo\n",
      "Proccessing Recored 34 of Set 9| provost\n",
      "Proccessing Recored 35 of Set 9| verkhoyansk\n",
      "Proccessing Recored 36 of Set 9| jeremie\n",
      "Proccessing Recored 37 of Set 9| ilorin\n",
      "Proccessing Recored 38 of Set 9| gafanha da encarnacao\n",
      "Proccessing Recored 39 of Set 9| montauban\n",
      "Proccessing Recored 40 of Set 9| kuito\n",
      "Proccessing Recored 41 of Set 9| lolua\n",
      "city not found. Skipping...\n",
      "Proccessing Recored 42 of Set 9| camacupa\n",
      "Proccessing Recored 43 of Set 9| talaya\n",
      "Proccessing Recored 44 of Set 9| grand falls\n",
      "Proccessing Recored 45 of Set 9| artigas\n",
      "Proccessing Recored 46 of Set 9| ono\n",
      "Proccessing Recored 47 of Set 9| plettenberg bay\n",
      "Proccessing Recored 48 of Set 9| contai\n",
      "Proccessing Recored 49 of Set 9| usinsk\n",
      "Proccessing Recored 1 of Set 10| berlevag\n",
      "Proccessing Recored 2 of Set 10| dolbeau\n",
      "city not found. Skipping...\n",
      "Proccessing Recored 3 of Set 10| vuktyl\n",
      "Proccessing Recored 4 of Set 10| samusu\n",
      "city not found. Skipping...\n",
      "Proccessing Recored 5 of Set 10| waingapu\n",
      "Proccessing Recored 6 of Set 10| sokolo\n",
      "Proccessing Recored 7 of Set 10| ewa beach\n",
      "Proccessing Recored 8 of Set 10| wanning\n",
      "Proccessing Recored 9 of Set 10| camacari\n",
      "Proccessing Recored 10 of Set 10| mahadday weyne\n",
      "city not found. Skipping...\n",
      "Proccessing Recored 11 of Set 10| saint-augustin\n",
      "Proccessing Recored 12 of Set 10| sorvag\n",
      "city not found. Skipping...\n",
      "Proccessing Recored 13 of Set 10| higuey\n",
      "city not found. Skipping...\n",
      "Proccessing Recored 14 of Set 10| copiapo\n",
      "Proccessing Recored 15 of Set 10| udachnyy\n",
      "Proccessing Recored 16 of Set 10| maningrida\n",
      "Proccessing Recored 17 of Set 10| gombong\n",
      "Proccessing Recored 18 of Set 10| camacha\n",
      "Proccessing Recored 19 of Set 10| lillooet\n",
      "Proccessing Recored 20 of Set 10| alice springs\n",
      "Proccessing Recored 21 of Set 10| urtaaul\n",
      "city not found. Skipping...\n",
      "Proccessing Recored 22 of Set 10| saskylakh\n",
      "Proccessing Recored 23 of Set 10| harper\n",
      "Proccessing Recored 24 of Set 10| severo-kurilsk\n",
      "Proccessing Recored 25 of Set 10| porto walter\n",
      "Proccessing Recored 26 of Set 10| yaqui\n",
      "Proccessing Recored 27 of Set 10| anahuac\n",
      "Proccessing Recored 28 of Set 10| hirado\n",
      "Proccessing Recored 29 of Set 10| broome\n",
      "Proccessing Recored 30 of Set 10| lehigh acres\n",
      "Proccessing Recored 31 of Set 10| solnechnyy\n",
      "Proccessing Recored 32 of Set 10| maragogi\n",
      "Proccessing Recored 33 of Set 10| saint george\n",
      "Proccessing Recored 34 of Set 10| temaraia\n",
      "city not found. Skipping...\n",
      "Proccessing Recored 35 of Set 10| joshimath\n",
      "Proccessing Recored 36 of Set 10| santa cruz\n",
      "Proccessing Recored 37 of Set 10| shively\n",
      "Proccessing Recored 38 of Set 10| yarkovo\n",
      "Proccessing Recored 39 of Set 10| tooele\n",
      "Proccessing Recored 40 of Set 10| candolim\n",
      "Proccessing Recored 41 of Set 10| monrovia\n",
      "Proccessing Recored 42 of Set 10| kidal\n",
      "Proccessing Recored 43 of Set 10| halifax\n",
      "Proccessing Recored 44 of Set 10| saldanha\n",
      "Proccessing Recored 45 of Set 10| valparaiso\n",
      "Proccessing Recored 46 of Set 10| chifeng\n",
      "Proccessing Recored 47 of Set 10| ken caryl\n",
      "Proccessing Recored 48 of Set 10| nizhniy odes\n",
      "Proccessing Recored 49 of Set 10| pervomayskiy\n",
      "Proccessing Recored 1 of Set 11| chizhou\n",
      "Proccessing Recored 2 of Set 11| terme\n",
      "Proccessing Recored 3 of Set 11| flinders\n",
      "Proccessing Recored 4 of Set 11| camuy\n",
      "Proccessing Recored 5 of Set 11| firozpur\n",
      "Proccessing Recored 6 of Set 11| hasaki\n",
      "Proccessing Recored 7 of Set 11| port shepstone\n",
      "Proccessing Recored 8 of Set 11| latung\n",
      "Proccessing Recored 9 of Set 11| feicheng\n",
      "Proccessing Recored 10 of Set 11| iroquois falls\n",
      "Proccessing Recored 11 of Set 11| umba\n",
      "Proccessing Recored 12 of Set 11| marsa matruh\n",
      "Proccessing Recored 13 of Set 11| kabalo\n",
      "Proccessing Recored 14 of Set 11| labuhan\n",
      "Proccessing Recored 15 of Set 11| bafata\n",
      "Proccessing Recored 16 of Set 11| kutum\n",
      "Proccessing Recored 17 of Set 11| edremit\n",
      "Proccessing Recored 18 of Set 11| khurai\n",
      "Proccessing Recored 19 of Set 11| kysyl-syr\n",
      "Proccessing Recored 20 of Set 11| staro nagoricane\n",
      "city not found. Skipping...\n",
      "Proccessing Recored 21 of Set 11| debre sina\n",
      "Proccessing Recored 22 of Set 11| macaboboni\n",
      "city not found. Skipping...\n",
      "Proccessing Recored 23 of Set 11| araxa\n",
      "Proccessing Recored 24 of Set 11| canutama\n",
      "Proccessing Recored 25 of Set 11| grand-santi\n",
      "Proccessing Recored 26 of Set 11| yarmouth\n",
      "Proccessing Recored 27 of Set 11| meulaboh\n",
      "Proccessing Recored 28 of Set 11| aksha\n",
      "Proccessing Recored 29 of Set 11| davila\n",
      "Proccessing Recored 30 of Set 11| chara\n",
      "Proccessing Recored 31 of Set 11| lewiston\n",
      "Proccessing Recored 32 of Set 11| vila franca do campo\n",
      "Proccessing Recored 33 of Set 11| mosquera\n",
      "Proccessing Recored 34 of Set 11| mayor pablo lagerenza\n",
      "Proccessing Recored 35 of Set 11| luanda\n",
      "Proccessing Recored 36 of Set 11| havelock\n",
      "Proccessing Recored 37 of Set 11| plouzane\n",
      "Proccessing Recored 38 of Set 11| fairview\n",
      "Proccessing Recored 39 of Set 11| pulandian\n",
      "Proccessing Recored 40 of Set 11| thinadhoo\n",
      "Proccessing Recored 41 of Set 11| port hedland\n",
      "Proccessing Recored 42 of Set 11| atambua\n",
      "Proccessing Recored 43 of Set 11| havre-saint-pierre\n",
      "Proccessing Recored 44 of Set 11| ilhabela\n",
      "Proccessing Recored 45 of Set 11| stornoway\n",
      "Proccessing Recored 46 of Set 11| nioro\n",
      "Proccessing Recored 47 of Set 11| khandbari\n",
      "Proccessing Recored 48 of Set 11| selenduma\n",
      "Proccessing Recored 49 of Set 11| palabuhanratu\n",
      "city not found. Skipping...\n",
      "Proccessing Recored 1 of Set 12| avera\n",
      "Proccessing Recored 2 of Set 12| maniitsoq\n",
      "Proccessing Recored 3 of Set 12| nawa\n",
      "Proccessing Recored 4 of Set 12| fortuna\n",
      "Proccessing Recored 5 of Set 12| okhotsk\n",
      "Proccessing Recored 6 of Set 12| gravdal\n",
      "Proccessing Recored 7 of Set 12| haikou\n",
      "Proccessing Recored 8 of Set 12| soe\n"
     ]
    },
    {
     "name": "stdout",
     "output_type": "stream",
     "text": [
      "Proccessing Recored 9 of Set 12| beckley\n",
      "Proccessing Recored 10 of Set 12| dhidhdhoo\n",
      "Proccessing Recored 11 of Set 12| timbakion\n",
      "city not found. Skipping...\n",
      "Proccessing Recored 12 of Set 12| katsuura\n",
      "Proccessing Recored 13 of Set 12| idrinskoye\n",
      "Proccessing Recored 14 of Set 12| lata\n",
      "Proccessing Recored 15 of Set 12| ketchikan\n",
      "Proccessing Recored 16 of Set 12| azimur\n",
      "city not found. Skipping...\n",
      "Proccessing Recored 17 of Set 12| pasinler\n",
      "Proccessing Recored 18 of Set 12| shar\n",
      "Proccessing Recored 19 of Set 12| coquimbo\n",
      "Proccessing Recored 20 of Set 12| alta floresta\n",
      "Proccessing Recored 21 of Set 12| sakaiminato\n",
      "Proccessing Recored 22 of Set 12| dukat\n",
      "Proccessing Recored 23 of Set 12| tura\n",
      "Proccessing Recored 24 of Set 12| elizabeth city\n",
      "Proccessing Recored 25 of Set 12| la peca\n",
      "Proccessing Recored 26 of Set 12| awjilah\n",
      "Proccessing Recored 27 of Set 12| barillas\n",
      "Proccessing Recored 28 of Set 12| koscian\n",
      "Proccessing Recored 29 of Set 12| benjamin constant\n",
      "Proccessing Recored 30 of Set 12| satipo\n",
      "Proccessing Recored 31 of Set 12| sorong\n",
      "Proccessing Recored 32 of Set 12| rocha\n",
      "Proccessing Recored 33 of Set 12| bandar\n",
      "Proccessing Recored 34 of Set 12| puerto del rosario\n",
      "Proccessing Recored 35 of Set 12| yanliang\n",
      "Proccessing Recored 36 of Set 12| santo antonio do sudoeste\n",
      "Proccessing Recored 37 of Set 12| sinjah\n",
      "city not found. Skipping...\n",
      "Proccessing Recored 38 of Set 12| lasa\n",
      "Proccessing Recored 39 of Set 12| kyra\n",
      "Proccessing Recored 40 of Set 12| rumoi\n",
      "Proccessing Recored 41 of Set 12| progreso\n",
      "Proccessing Recored 42 of Set 12| nouadhibou\n",
      "Proccessing Recored 43 of Set 12| palauig\n",
      "Proccessing Recored 44 of Set 12| klamath falls\n",
      "Proccessing Recored 45 of Set 12| blairmore\n",
      "Proccessing Recored 46 of Set 12| toamasina\n",
      "Proccessing Recored 47 of Set 12| pekalongan\n",
      "Proccessing Recored 48 of Set 12| nyagan\n",
      "Proccessing Recored 49 of Set 12| mount pleasant\n",
      "Proccessing Recored 1 of Set 13| ikwiriri\n",
      "Proccessing Recored 2 of Set 13| petropavlovsk-kamchatskiy\n",
      "Proccessing Recored 3 of Set 13| tranas\n",
      "Proccessing Recored 4 of Set 13| ostrovnoy\n",
      "Proccessing Recored 5 of Set 13| kunda\n",
      "Proccessing Recored 6 of Set 13| marrakesh\n",
      "Proccessing Recored 7 of Set 13| soure\n",
      "Proccessing Recored 8 of Set 13| haapiti\n",
      "Proccessing Recored 9 of Set 13| lumberton\n",
      "Proccessing Recored 10 of Set 13| buala\n",
      "Proccessing Recored 11 of Set 13| aksarka\n",
      "Proccessing Recored 12 of Set 13| ceyhan\n",
      "Proccessing Recored 13 of Set 13| mana\n",
      "Proccessing Recored 14 of Set 13| miri\n",
      "Proccessing Recored 15 of Set 13| bonthe\n",
      "Proccessing Recored 16 of Set 13| deputatskiy\n",
      "Proccessing Recored 17 of Set 13| tuatapere\n",
      "Proccessing Recored 18 of Set 13| monticello\n",
      "Proccessing Recored 19 of Set 13| tarabuco\n",
      "Proccessing Recored 20 of Set 13| carbondale\n",
      "Proccessing Recored 21 of Set 13| mechanicsville\n",
      "Proccessing Recored 22 of Set 13| zyryanka\n",
      "Proccessing Recored 23 of Set 13| hualmay\n",
      "Proccessing Recored 24 of Set 13| emerald\n",
      "Proccessing Recored 25 of Set 13| half moon bay\n",
      "Proccessing Recored 26 of Set 13| lubbock\n",
      "Proccessing Recored 27 of Set 13| sain alto\n",
      "Proccessing Recored 28 of Set 13| cremona\n",
      "Proccessing Recored 29 of Set 13| puerto escondido\n",
      "Proccessing Recored 30 of Set 13| vilhena\n",
      "Proccessing Recored 31 of Set 13| sattenapalle\n",
      "Proccessing Recored 32 of Set 13| poum\n",
      "Proccessing Recored 33 of Set 13| bur gabo\n",
      "city not found. Skipping...\n",
      "Proccessing Recored 34 of Set 13| minas\n",
      "Proccessing Recored 35 of Set 13| sobolevo\n",
      "Proccessing Recored 36 of Set 13| kangaatsiaq\n",
      "Proccessing Recored 37 of Set 13| mecca\n",
      "Proccessing Recored 38 of Set 13| acajutla\n",
      "Proccessing Recored 39 of Set 13| gubkinskiy\n",
      "Proccessing Recored 40 of Set 13| karaul\n",
      "city not found. Skipping...\n",
      "Proccessing Recored 41 of Set 13| merrill\n",
      "Proccessing Recored 42 of Set 13| pasni\n",
      "Proccessing Recored 43 of Set 13| luganville\n",
      "Proccessing Recored 44 of Set 13| vallenar\n",
      "Proccessing Recored 45 of Set 13| taltal\n",
      "Proccessing Recored 46 of Set 13| saint-francois\n",
      "Proccessing Recored 47 of Set 13| marathon\n",
      "Proccessing Recored 48 of Set 13| nichinan\n",
      "Proccessing Recored 49 of Set 13| rio branco\n",
      "Proccessing Recored 1 of Set 14| makkaveyevo\n",
      "Proccessing Recored 2 of Set 14| nipawin\n",
      "Proccessing Recored 3 of Set 14| erenhot\n",
      "Proccessing Recored 4 of Set 14| lander\n",
      "Proccessing Recored 5 of Set 14| ixtapa\n",
      "Proccessing Recored 6 of Set 14| terrak\n",
      "Proccessing Recored 7 of Set 14| halalo\n",
      "city not found. Skipping...\n",
      "Proccessing Recored 8 of Set 14| hailey\n",
      "Proccessing Recored 9 of Set 14| gambo\n",
      "Proccessing Recored 10 of Set 14| altamont\n",
      "Proccessing Recored 11 of Set 14| bowen\n",
      "Proccessing Recored 12 of Set 14| shimoda\n",
      "Proccessing Recored 13 of Set 14| belturbet\n",
      "Proccessing Recored 14 of Set 14| arman\n",
      "Proccessing Recored 15 of Set 14| kincardine\n",
      "Proccessing Recored 16 of Set 14| anyang\n",
      "Proccessing Recored 17 of Set 14| tarudant\n",
      "city not found. Skipping...\n",
      "Proccessing Recored 18 of Set 14| tarakan\n",
      "Proccessing Recored 19 of Set 14| vanderhoof\n",
      "Proccessing Recored 20 of Set 14| lapua\n",
      "Proccessing Recored 21 of Set 14| kieta\n",
      "------------------------------------\n",
      "Data Retrieval Complete     \n",
      "------------------------------------\n"
     ]
    }
   ],
   "source": [
    "# Save config information\n",
    "url = \"http://api.openweathermap.org/data/2.5/weather?\"\n",
    "\n",
    "# set up lists to hold reponse info\n",
    "city_name = []\n",
    "units=\"imperial\"\n",
    "\n",
    "#cities = cities[0:100]\n",
    "\n",
    "# set a variable to count the record \n",
    "count = 0\n",
    "set_data =1\n",
    "\n",
    "#print out the header\n",
    "print(\"Beginning Data Retrieval\")\n",
    "print(\"------------------------------------\")\n",
    "\n",
    "## Loop through the list of cities and perform a request for data on each\n",
    "for city in cities:  \n",
    "    # Build query URL\n",
    "    query_url =  f\"{url}appid={weather_api_key}&q={city}&units={units}\"\n",
    "\n",
    "    \n",
    "    #get city data\n",
    "    response = requests.get(query_url).json() \n",
    "    print(f'Proccessing Recored {count} of Set {set_data}| {city}')\n",
    "    count = count+1\n",
    "    if count==50:\n",
    "        count=1\n",
    "        set_data +=1\n",
    "    \n",
    "    try:\n",
    "        city_name.append(response[\"name\"])\n",
    "              \n",
    "    \n",
    "    except KeyError:\n",
    "        print(\"city not found. Skipping...\")\n",
    "    \n",
    "\n",
    "#print out the end sentence\n",
    "print(\"------------------------------------\")\n",
    "print(\"Data Retrieval Complete     \")\n",
    "print(\"------------------------------------\")"
   ]
  },
  {
   "cell_type": "markdown",
   "metadata": {},
   "source": [
    "# Convert Raw Data to DataFrame\n",
    "\n",
    "Export the city data into a .csv.\n",
    "\n",
    "Display the DataFrame"
   ]
  },
  {
   "cell_type": "code",
   "execution_count": 24,
   "metadata": {},
   "outputs": [
    {
     "name": "stdout",
     "output_type": "stream",
     "text": [
      "Not found... Skipping\n",
      "Not found... Skipping\n",
      "Not found... Skipping\n",
      "Not found... Skipping\n",
      "Not found... Skipping\n",
      "Not found... Skipping\n",
      "Not found... Skipping\n",
      "Not found... Skipping\n",
      "Not found... Skipping\n",
      "Not found... Skipping\n",
      "Not found... Skipping\n",
      "Not found... Skipping\n",
      "Not found... Skipping\n",
      "Not found... Skipping\n",
      "Not found... Skipping\n",
      "Not found... Skipping\n",
      "Not found... Skipping\n",
      "Not found... Skipping\n",
      "Not found... Skipping\n",
      "Not found... Skipping\n",
      "Not found... Skipping\n",
      "Not found... Skipping\n"
     ]
    },
    {
     "data": {
      "text/html": [
       "<div>\n",
       "<style scoped>\n",
       "    .dataframe tbody tr th:only-of-type {\n",
       "        vertical-align: middle;\n",
       "    }\n",
       "\n",
       "    .dataframe tbody tr th {\n",
       "        vertical-align: top;\n",
       "    }\n",
       "\n",
       "    .dataframe thead th {\n",
       "        text-align: right;\n",
       "    }\n",
       "</style>\n",
       "<table border=\"1\" class=\"dataframe\">\n",
       "  <thead>\n",
       "    <tr style=\"text-align: right;\">\n",
       "      <th></th>\n",
       "      <th>City</th>\n",
       "      <th>Cloudiness</th>\n",
       "      <th>Country</th>\n",
       "      <th>Date</th>\n",
       "      <th>Humidity</th>\n",
       "      <th>Lat</th>\n",
       "      <th>Lng</th>\n",
       "      <th>Max Temp</th>\n",
       "      <th>Wind Speed</th>\n",
       "    </tr>\n",
       "  </thead>\n",
       "  <tbody>\n",
       "    <tr>\n",
       "      <th>0</th>\n",
       "      <td>Vaini</td>\n",
       "      <td>90</td>\n",
       "      <td>TO</td>\n",
       "      <td>1592531102</td>\n",
       "      <td>88</td>\n",
       "      <td>-21.2</td>\n",
       "      <td>-175.2</td>\n",
       "      <td>73.4</td>\n",
       "      <td>13.87</td>\n",
       "    </tr>\n",
       "    <tr>\n",
       "      <th>1</th>\n",
       "      <td>Castro</td>\n",
       "      <td>65</td>\n",
       "      <td>BR</td>\n",
       "      <td>1592531102</td>\n",
       "      <td>95</td>\n",
       "      <td>-24.79</td>\n",
       "      <td>-50.01</td>\n",
       "      <td>57.6</td>\n",
       "      <td>4.88</td>\n",
       "    </tr>\n",
       "    <tr>\n",
       "      <th>2</th>\n",
       "      <td>Cap Malheureux</td>\n",
       "      <td>83</td>\n",
       "      <td>MU</td>\n",
       "      <td>1592531102</td>\n",
       "      <td>71</td>\n",
       "      <td>-19.98</td>\n",
       "      <td>57.61</td>\n",
       "      <td>71.01</td>\n",
       "      <td>7</td>\n",
       "    </tr>\n",
       "    <tr>\n",
       "      <th>3</th>\n",
       "      <td>Rikitea</td>\n",
       "      <td>100</td>\n",
       "      <td>PF</td>\n",
       "      <td>1592531102</td>\n",
       "      <td>91</td>\n",
       "      <td>-23.12</td>\n",
       "      <td>-134.97</td>\n",
       "      <td>73.62</td>\n",
       "      <td>16.37</td>\n",
       "    </tr>\n",
       "    <tr>\n",
       "      <th>4</th>\n",
       "      <td>Srednekolymsk</td>\n",
       "      <td>0</td>\n",
       "      <td>RU</td>\n",
       "      <td>1592531102</td>\n",
       "      <td>18</td>\n",
       "      <td>67.45</td>\n",
       "      <td>153.68</td>\n",
       "      <td>89.47</td>\n",
       "      <td>9.22</td>\n",
       "    </tr>\n",
       "    <tr>\n",
       "      <th>...</th>\n",
       "      <td>...</td>\n",
       "      <td>...</td>\n",
       "      <td>...</td>\n",
       "      <td>...</td>\n",
       "      <td>...</td>\n",
       "      <td>...</td>\n",
       "      <td>...</td>\n",
       "      <td>...</td>\n",
       "      <td>...</td>\n",
       "    </tr>\n",
       "    <tr>\n",
       "      <th>594</th>\n",
       "      <td>Anyang</td>\n",
       "      <td>100</td>\n",
       "      <td>CN</td>\n",
       "      <td>1592531196</td>\n",
       "      <td>60</td>\n",
       "      <td>36.1</td>\n",
       "      <td>114.33</td>\n",
       "      <td>80.01</td>\n",
       "      <td>9.06</td>\n",
       "    </tr>\n",
       "    <tr>\n",
       "      <th>595</th>\n",
       "      <td>Tarakan</td>\n",
       "      <td>100</td>\n",
       "      <td>ID</td>\n",
       "      <td>1592530947</td>\n",
       "      <td>86</td>\n",
       "      <td>3.3</td>\n",
       "      <td>117.63</td>\n",
       "      <td>80.51</td>\n",
       "      <td>7.14</td>\n",
       "    </tr>\n",
       "    <tr>\n",
       "      <th>596</th>\n",
       "      <td>Vanderhoof</td>\n",
       "      <td>100</td>\n",
       "      <td>CA</td>\n",
       "      <td>1592531163</td>\n",
       "      <td>53</td>\n",
       "      <td>54.02</td>\n",
       "      <td>-124.02</td>\n",
       "      <td>69.64</td>\n",
       "      <td>3.42</td>\n",
       "    </tr>\n",
       "    <tr>\n",
       "      <th>597</th>\n",
       "      <td>Lapua</td>\n",
       "      <td>5</td>\n",
       "      <td>FI</td>\n",
       "      <td>1592531197</td>\n",
       "      <td>96</td>\n",
       "      <td>62.97</td>\n",
       "      <td>23.01</td>\n",
       "      <td>55</td>\n",
       "      <td>1.01</td>\n",
       "    </tr>\n",
       "    <tr>\n",
       "      <th>598</th>\n",
       "      <td>Kieta</td>\n",
       "      <td>35</td>\n",
       "      <td>PG</td>\n",
       "      <td>1592531197</td>\n",
       "      <td>71</td>\n",
       "      <td>-6.22</td>\n",
       "      <td>155.63</td>\n",
       "      <td>84.67</td>\n",
       "      <td>3.58</td>\n",
       "    </tr>\n",
       "  </tbody>\n",
       "</table>\n",
       "<p>599 rows × 9 columns</p>\n",
       "</div>"
      ],
      "text/plain": [
       "               City Cloudiness Country        Date Humidity    Lat     Lng  \\\n",
       "0             Vaini         90      TO  1592531102       88  -21.2  -175.2   \n",
       "1            Castro         65      BR  1592531102       95 -24.79  -50.01   \n",
       "2    Cap Malheureux         83      MU  1592531102       71 -19.98   57.61   \n",
       "3           Rikitea        100      PF  1592531102       91 -23.12 -134.97   \n",
       "4     Srednekolymsk          0      RU  1592531102       18  67.45  153.68   \n",
       "..              ...        ...     ...         ...      ...    ...     ...   \n",
       "594          Anyang        100      CN  1592531196       60   36.1  114.33   \n",
       "595         Tarakan        100      ID  1592530947       86    3.3  117.63   \n",
       "596      Vanderhoof        100      CA  1592531163       53  54.02 -124.02   \n",
       "597           Lapua          5      FI  1592531197       96  62.97   23.01   \n",
       "598           Kieta         35      PG  1592531197       71  -6.22  155.63   \n",
       "\n",
       "    Max Temp Wind Speed  \n",
       "0       73.4      13.87  \n",
       "1       57.6       4.88  \n",
       "2      71.01          7  \n",
       "3      73.62      16.37  \n",
       "4      89.47       9.22  \n",
       "..       ...        ...  \n",
       "594    80.01       9.06  \n",
       "595    80.51       7.14  \n",
       "596    69.64       3.42  \n",
       "597       55       1.01  \n",
       "598    84.67       3.58  \n",
       "\n",
       "[599 rows x 9 columns]"
      ]
     },
     "execution_count": 24,
     "metadata": {},
     "output_type": "execute_result"
    }
   ],
   "source": [
    "from pandas import DataFrame\n",
    "df = DataFrame(city_name,columns=['City'])\n",
    "\n",
    "units=\"imperial\"\n",
    "\n",
    "# Add columns for Cloudiness, Country,  Date, Humidity, Lat, Lng, Max Temp, Wind Speed\n",
    "\n",
    "df[\"Cloudiness\"] = \"\"\n",
    "df[\"Country\"] = \"\"\n",
    "df[\"Date\"] = \"\"\n",
    "df[\"Humidity\"] = \"\"\n",
    "df[\"Lat\"] = \"\"\n",
    "df[\"Lng\"] = \"\"\n",
    "df[\"Max Temp\"] = \"\"\n",
    "df[\"Wind Speed\"] = \"\"\n",
    "\n",
    "\n",
    "# Loop through the df \n",
    "for index, row in df.iterrows():\n",
    "    city = row[\"City\"]\n",
    "    # Build query URL\n",
    "    query_url =  f\"{url}appid={weather_api_key}&q={city}&units={units}\"\n",
    "    \n",
    "# make request\n",
    "    response = requests.get(query_url).json()\n",
    "    try:\n",
    "        df.loc[index, \"Lat\"] = response[\"coord\"][\"lat\"]\n",
    "        df.loc[index, \"Lng\"] = response[\"coord\"][\"lon\"]\n",
    "        df.loc[index, \"Cloudiness\"] = response[\"clouds\"][\"all\"]\n",
    "        df.loc[index, \"Max Temp\"] = response[\"main\"][\"temp_max\"]\n",
    "        df.loc[index, \"Country\"] = response[\"sys\"][\"country\"]\n",
    "        df.loc[index, \"Humidity\"] = response[\"main\"][\"humidity\"]\n",
    "        df.loc[index, \"Date\"] = response[\"dt\"]\n",
    "        df.loc[index,\"Wind Speed\"]=response['wind']['speed']\n",
    "        \n",
    "    except KeyError:\n",
    "        print(\"Not found... Skipping\")\n",
    "    \n",
    "\n",
    "\n",
    "#Display the DataFram\n",
    "df\n",
    "\n",
    "\n"
   ]
  },
  {
   "cell_type": "code",
   "execution_count": null,
   "metadata": {},
   "outputs": [],
   "source": []
  },
  {
   "cell_type": "code",
   "execution_count": 26,
   "metadata": {},
   "outputs": [],
   "source": [
    "#df.loc[index, \"Max Temp\"] = (response[\"main\"][\"temp_max\"]-273.15)*9.5 +32\n",
    "#df.loc[index, \"Max Temp\"]"
   ]
  },
  {
   "cell_type": "code",
   "execution_count": 27,
   "metadata": {},
   "outputs": [
    {
     "name": "stdout",
     "output_type": "stream",
     "text": [
      "06-18-2020\n"
     ]
    }
   ],
   "source": [
    "#converting time zone\n",
    "from time import gmtime, strftime\n",
    "import datetime\n",
    "\n",
    "current_date = str(df.iloc[1,3])\n",
    "current_date = datetime.datetime.fromtimestamp(int(current_date)).strftime('%m-%d-%Y')\n",
    "\n",
    "#Display the modified datafram\n",
    "print(current_date)"
   ]
  },
  {
   "cell_type": "code",
   "execution_count": 28,
   "metadata": {},
   "outputs": [],
   "source": [
    "#import the dataframe to csv file \n",
    "\n",
    "df.to_csv(\"output_data/cities.csv\")\n"
   ]
  },
  {
   "cell_type": "markdown",
   "metadata": {},
   "source": [
    "### Plotting the Data\n",
    "* Use proper labeling of the plots using plot titles (including date of analysis) and axes labels.\n",
    "* Save the plotted figures as .pngs."
   ]
  },
  {
   "cell_type": "markdown",
   "metadata": {},
   "source": [
    "#### Latitude vs. Temperature Plot"
   ]
  },
  {
   "cell_type": "code",
   "execution_count": 29,
   "metadata": {},
   "outputs": [
    {
     "data": {
      "image/png": "[encoded data removed]",
      "text/plain": [
       "<Figure size 432x288 with 1 Axes>"
      ]
     },
     "metadata": {
      "needs_background": "light"
     },
     "output_type": "display_data"
    }
   ],
   "source": [
    "# to show today in the result \n",
    "import time\n",
    "todaysdate = time.strftime(\"%d/%m/%Y\")\n",
    "\n",
    "\n",
    "# Convert columns to numeric so the data can be used\n",
    "df['Lat'] = pd.to_numeric(df['Lat'])\n",
    "df['Max Temp'] = pd.to_numeric(df['Max Temp'])\n",
    "\n",
    "# Create a scatter plot \n",
    "plt.scatter(df[\"Lat\"], df[\"Max Temp\"], marker=\"o\", facecolors=\"Blue\", edgecolors=\"black\",\n",
    "             alpha=0.75)\n",
    "\n",
    "\n",
    "\n",
    "\n",
    "# name title and lalbles \n",
    "plt.title(f\"City Latitude vs. Max Temperatue ({todaysdate})\")\n",
    "plt.xlabel('Latitude')\n",
    "plt.ylabel('Max Temperature (F)')\n",
    "\n",
    "plt.grid()\n",
    "\n",
    " \n",
    "# Resize plot to display labels\n",
    "plt.tight_layout()\n",
    "\n",
    "\n",
    "# Saves an image of our chart so that we can view it in a folder\n",
    "plt.savefig(\"output_data/Fig1.png\")\n",
    "\n",
    "\n",
    "#show the plot\n",
    "plt.show()\n",
    "\n",
    "\n"
   ]
  },
  {
   "cell_type": "markdown",
   "metadata": {},
   "source": [
    "## Analyis: till latitude= 20, as latitude increases the max-temperature increasees. But after latitude= 20, the max-temp decreased by increasing the latitude"
   ]
  },
  {
   "cell_type": "code",
   "execution_count": 9,
   "metadata": {},
   "outputs": [
    {
     "data": {
      "text/plain": [
       "<Figure size 432x288 with 0 Axes>"
      ]
     },
     "metadata": {},
     "output_type": "display_data"
    }
   ],
   "source": [
    "\n"
   ]
  },
  {
   "cell_type": "code",
   "execution_count": null,
   "metadata": {
    "scrolled": true
   },
   "outputs": [],
   "source": []
  },
  {
   "cell_type": "markdown",
   "metadata": {},
   "source": [
    "#### Latitude vs. Humidity Plot"
   ]
  },
  {
   "cell_type": "code",
   "execution_count": 30,
   "metadata": {},
   "outputs": [
    {
     "data": {
      "image/png": "[encoded data removed]",
      "text/plain": [
       "<Figure size 432x288 with 1 Axes>"
      ]
     },
     "metadata": {
      "needs_background": "light"
     },
     "output_type": "display_data"
    }
   ],
   "source": [
    "# Convert columns to numeric so the data can be used\n",
    "df['Lat'] = pd.to_numeric(df['Lat'])\n",
    "df['Humidity'] = pd.to_numeric(df['Humidity'])\n",
    "\n",
    "# Create a scatter plot \n",
    "plt.scatter(df[\"Lat\"], df[\"Humidity\"], marker=\"o\", facecolors=\"Blue\", edgecolors=\"black\",\n",
    "             alpha=0.75)\n",
    "\n",
    "\n",
    "# name title and lalbles\n",
    "plt.title(f\"City Latitude vs. Humidity ({todaysdate})\")\n",
    "plt.xlabel('Latitude')\n",
    "plt.ylabel('Humidity (%)')\n",
    "\n",
    "plt.grid()\n",
    "\n",
    " \n",
    "# Resize plot to display labels\n",
    "plt.tight_layout()\n",
    "\n",
    "# Saves an image of our chart so that we can view it in a folder\n",
    "plt.savefig(\"output_data/Fig2.png\")\n",
    "\n",
    "#show the plot\n",
    "plt.show()"
   ]
  },
  {
   "cell_type": "code",
   "execution_count": null,
   "metadata": {},
   "outputs": [],
   "source": []
  },
  {
   "cell_type": "markdown",
   "metadata": {},
   "source": [
    "## Analysis: there is a large variety of humidity level all over the world\n"
   ]
  },
  {
   "cell_type": "markdown",
   "metadata": {},
   "source": [
    "#### Latitude vs. Cloudiness Plot"
   ]
  },
  {
   "cell_type": "code",
   "execution_count": 32,
   "metadata": {},
   "outputs": [
    {
     "data": {
      "image/png": "[encoded data removed]",
      "text/plain": [
       "<Figure size 432x288 with 1 Axes>"
      ]
     },
     "metadata": {
      "needs_background": "light"
     },
     "output_type": "display_data"
    }
   ],
   "source": [
    "# Convert columns to numeric so the data can be used\n",
    "df['Lat'] = pd.to_numeric(df['Lat'])\n",
    "df['Cloudiness'] = pd.to_numeric(df['Cloudiness'])\n",
    "\n",
    "# Create a scatter plot \n",
    "plt.scatter(df[\"Lat\"], df[\"Cloudiness\"], marker=\"o\", facecolors=\"Blue\", edgecolors=\"black\",\n",
    "             alpha=0.75)\n",
    "\n",
    "\n",
    "# name title and lalbles\n",
    "plt.title(f\"City Latitude vs. Cloudiness ({todaysdate})\")\n",
    "plt.xlabel('Latitude')\n",
    "plt.ylabel('Cloudiness (%)')\n",
    "\n",
    "plt.grid()\n",
    "\n",
    " \n",
    "# Resize plot to display labels\n",
    "plt.tight_layout()\n",
    "\n",
    "# Saves an image of our chart so that we can view it in a folder\n",
    "plt.savefig(\"output_data/Fig3.png\")\n",
    "\n",
    "#show the plot\n",
    "plt.show()"
   ]
  },
  {
   "cell_type": "code",
   "execution_count": 15,
   "metadata": {},
   "outputs": [
    {
     "data": {
      "text/plain": [
       "<Figure size 432x288 with 0 Axes>"
      ]
     },
     "metadata": {},
     "output_type": "display_data"
    }
   ],
   "source": []
  },
  {
   "cell_type": "markdown",
   "metadata": {},
   "source": [
    "## Analysis: there is no obvious relationship between latitude and cloudiness\n"
   ]
  },
  {
   "cell_type": "markdown",
   "metadata": {},
   "source": [
    "#### Latitude vs. Wind Speed Plot"
   ]
  },
  {
   "cell_type": "code",
   "execution_count": 33,
   "metadata": {},
   "outputs": [
    {
     "data": {
      "image/png": "[encoded data removed]",
      "text/plain": [
       "<Figure size 432x288 with 1 Axes>"
      ]
     },
     "metadata": {
      "needs_background": "light"
     },
     "output_type": "display_data"
    }
   ],
   "source": [
    "# Convert columns to numeric so the data can be used\n",
    "df['Lat'] = pd.to_numeric(df['Lat'])\n",
    "df['Wind Speed'] = pd.to_numeric(df['Wind Speed'])\n",
    "\n",
    "# Create a scatter plot \n",
    "plt.scatter(df[\"Lat\"], df[\"Wind Speed\"], marker=\"o\", facecolors=\"Blue\", edgecolors=\"black\",\n",
    "             alpha=0.75)\n",
    "\n",
    "\n",
    "# name title and lalbles\n",
    "plt.title(f\"City Latitude vs. Wind Speed ({todaysdate})\")\n",
    "plt.xlabel('Latitude')\n",
    "plt.ylabel('Wind Speed (%)')\n",
    "\n",
    "plt.grid()\n",
    "\n",
    " \n",
    "# Resize plot to display labels\n",
    "plt.tight_layout()\n",
    "\n",
    "# Saves an image of our chart so that we can view it in a folder\n",
    "plt.savefig(\"output_data/Fig4.png\")\n",
    "\n",
    "#show the plot\n",
    "plt.show()"
   ]
  },
  {
   "cell_type": "code",
   "execution_count": null,
   "metadata": {},
   "outputs": [],
   "source": []
  },
  {
   "cell_type": "markdown",
   "metadata": {},
   "source": [
    "## Analysis: Based on the graph, there is no obvious relationship between latitude and wind speed\n"
   ]
  },
  {
   "cell_type": "markdown",
   "metadata": {},
   "source": [
    "## Linear Regression"
   ]
  },
  {
   "cell_type": "code",
   "execution_count": 34,
   "metadata": {},
   "outputs": [],
   "source": [
    "# OPTIONAL: Create a function to create Linear Regression plots\n"
   ]
  },
  {
   "cell_type": "code",
   "execution_count": 35,
   "metadata": {},
   "outputs": [
    {
     "data": {
      "text/html": [
       "<div>\n",
       "<style scoped>\n",
       "    .dataframe tbody tr th:only-of-type {\n",
       "        vertical-align: middle;\n",
       "    }\n",
       "\n",
       "    .dataframe tbody tr th {\n",
       "        vertical-align: top;\n",
       "    }\n",
       "\n",
       "    .dataframe thead th {\n",
       "        text-align: right;\n",
       "    }\n",
       "</style>\n",
       "<table border=\"1\" class=\"dataframe\">\n",
       "  <thead>\n",
       "    <tr style=\"text-align: right;\">\n",
       "      <th></th>\n",
       "      <th>City</th>\n",
       "      <th>Cloudiness</th>\n",
       "      <th>Country</th>\n",
       "      <th>Date</th>\n",
       "      <th>Humidity</th>\n",
       "      <th>Lat</th>\n",
       "      <th>Lng</th>\n",
       "      <th>Max Temp</th>\n",
       "      <th>Wind Speed</th>\n",
       "    </tr>\n",
       "  </thead>\n",
       "  <tbody>\n",
       "    <tr>\n",
       "      <th>4</th>\n",
       "      <td>Srednekolymsk</td>\n",
       "      <td>0.0</td>\n",
       "      <td>RU</td>\n",
       "      <td>1592531102</td>\n",
       "      <td>18.0</td>\n",
       "      <td>67.45</td>\n",
       "      <td>153.68</td>\n",
       "      <td>89.47</td>\n",
       "      <td>9.22</td>\n",
       "    </tr>\n",
       "    <tr>\n",
       "      <th>5</th>\n",
       "      <td>Gilgit</td>\n",
       "      <td>0.0</td>\n",
       "      <td>PK</td>\n",
       "      <td>1592531103</td>\n",
       "      <td>24.0</td>\n",
       "      <td>35.92</td>\n",
       "      <td>74.31</td>\n",
       "      <td>74.66</td>\n",
       "      <td>2.53</td>\n",
       "    </tr>\n",
       "    <tr>\n",
       "      <th>6</th>\n",
       "      <td>Husavik</td>\n",
       "      <td>0.0</td>\n",
       "      <td>IS</td>\n",
       "      <td>1592531103</td>\n",
       "      <td>81.0</td>\n",
       "      <td>66.04</td>\n",
       "      <td>-17.34</td>\n",
       "      <td>46.40</td>\n",
       "      <td>16.11</td>\n",
       "    </tr>\n",
       "    <tr>\n",
       "      <th>7</th>\n",
       "      <td>Butaritari</td>\n",
       "      <td>65.0</td>\n",
       "      <td>KI</td>\n",
       "      <td>1592530905</td>\n",
       "      <td>64.0</td>\n",
       "      <td>3.07</td>\n",
       "      <td>172.79</td>\n",
       "      <td>83.43</td>\n",
       "      <td>4.27</td>\n",
       "    </tr>\n",
       "    <tr>\n",
       "      <th>8</th>\n",
       "      <td>Ilulissat</td>\n",
       "      <td>36.0</td>\n",
       "      <td>GL</td>\n",
       "      <td>1592530924</td>\n",
       "      <td>93.0</td>\n",
       "      <td>69.22</td>\n",
       "      <td>-51.1</td>\n",
       "      <td>35.60</td>\n",
       "      <td>4.70</td>\n",
       "    </tr>\n",
       "  </tbody>\n",
       "</table>\n",
       "</div>"
      ],
      "text/plain": [
       "            City  Cloudiness Country        Date  Humidity    Lat     Lng  \\\n",
       "4  Srednekolymsk         0.0      RU  1592531102      18.0  67.45  153.68   \n",
       "5         Gilgit         0.0      PK  1592531103      24.0  35.92   74.31   \n",
       "6        Husavik         0.0      IS  1592531103      81.0  66.04  -17.34   \n",
       "7     Butaritari        65.0      KI  1592530905      64.0   3.07  172.79   \n",
       "8      Ilulissat        36.0      GL  1592530924      93.0  69.22   -51.1   \n",
       "\n",
       "   Max Temp  Wind Speed  \n",
       "4     89.47        9.22  \n",
       "5     74.66        2.53  \n",
       "6     46.40       16.11  \n",
       "7     83.43        4.27  \n",
       "8     35.60        4.70  "
      ]
     },
     "execution_count": 35,
     "metadata": {},
     "output_type": "execute_result"
    }
   ],
   "source": [
    "# Create Northern and Southern Hemisphere DataFrames\n",
    "northern_hemisphere = df.loc[df[\"Lat\"]>0.01]\n",
    "southern_hemisphere = df.loc[df[\"Lat\"]<-0.01]\n",
    "\n",
    "northern_hemisphere.head()\n",
    "#southern_hemisphere.head()"
   ]
  },
  {
   "cell_type": "markdown",
   "metadata": {},
   "source": [
    "####  Northern Hemisphere - Max Temp vs. Latitude Linear Regression"
   ]
  },
  {
   "cell_type": "code",
   "execution_count": 36,
   "metadata": {},
   "outputs": [
    {
     "name": "stderr",
     "output_type": "stream",
     "text": [
      "C:\\Users\\hashe\\anaconda3\\lib\\site-packages\\ipykernel_launcher.py:2: SettingWithCopyWarning: \n",
      "A value is trying to be set on a copy of a slice from a DataFrame.\n",
      "Try using .loc[row_indexer,col_indexer] = value instead\n",
      "\n",
      "See the caveats in the documentation: https://pandas.pydata.org/pandas-docs/stable/user_guide/indexing.html#returning-a-view-versus-a-copy\n",
      "  \n",
      "C:\\Users\\hashe\\anaconda3\\lib\\site-packages\\ipykernel_launcher.py:3: SettingWithCopyWarning: \n",
      "A value is trying to be set on a copy of a slice from a DataFrame.\n",
      "Try using .loc[row_indexer,col_indexer] = value instead\n",
      "\n",
      "See the caveats in the documentation: https://pandas.pydata.org/pandas-docs/stable/user_guide/indexing.html#returning-a-view-versus-a-copy\n",
      "  This is separate from the ipykernel package so we can avoid doing imports until\n"
     ]
    },
    {
     "name": "stdout",
     "output_type": "stream",
     "text": [
      "The r-squared is: -0.6522934909253915\n"
     ]
    },
    {
     "data": {
      "image/png": "[encoded data removed]",
      "text/plain": [
       "<Figure size 432x288 with 1 Axes>"
      ]
     },
     "metadata": {
      "needs_background": "light"
     },
     "output_type": "display_data"
    }
   ],
   "source": [
    "# Convert columns to numeric so the data can be used\n",
    "northern_hemisphere['Lat'] = pd.to_numeric(northern_hemisphere['Lat'])\n",
    "northern_hemisphere['Max Temp'] = pd.to_numeric(northern_hemisphere['Max Temp'])\n",
    "\n",
    "#define x and y value\n",
    "x_values = northern_hemisphere.loc[:,\"Lat\"]\n",
    "y_values = northern_hemisphere.loc[:,'Max Temp']\n",
    "\n",
    "\n",
    "#caluclate the regression \n",
    "(slope, intercept, rvalue, pvalue, stderr) = linregress(x_values, y_values)\n",
    "regress_values = x_values * slope + intercept\n",
    "\n",
    "# find the reqression equation\n",
    "line_eq = \"y = \" + str(round(slope,2)) + \"x + \" + str(round(intercept,2))\n",
    "\n",
    "# creat the  r-squared value along with the plot.\n",
    "plt.scatter(x_values,y_values)\n",
    "plt.plot(x_values, regress_values,\"r-\")\n",
    "\n",
    "#annotating the equation on the plot \n",
    "plt.annotate(line_eq,xy=(0,50),fontsize=15,color=\"red\")\n",
    "\n",
    "#defining x and y labels\n",
    "plt.title(f\"Northern Hemisphere - Max Temp vs. Latitude Linear Regression ({todaysdate})\")\n",
    "plt.xlabel('Latitude')\n",
    "plt.ylabel('Max Temperature (F)')\n",
    "\n",
    "print(f\"The r-squared is: {rvalue}\")\n",
    "\n",
    "\n",
    "plt.grid()\n",
    "\n",
    " \n",
    "#define limitation for x and y \n",
    "plt.xlim(min(x_values)-10, max(x_values)+10)\n",
    "plt.ylim(min(y_values)-10, max(y_values)+10) \n",
    "\n",
    "\n",
    "# Resize plot to display labels\n",
    "plt.tight_layout()\n",
    "\n",
    "# Saves an image of our chart so that we can view it in a folder\n",
    "plt.savefig(\"output_data/Fig5.png\")\n",
    "\n",
    "#show the plot\n",
    "plt.show()\n",
    "\n"
   ]
  },
  {
   "cell_type": "code",
   "execution_count": null,
   "metadata": {},
   "outputs": [],
   "source": []
  },
  {
   "cell_type": "markdown",
   "metadata": {},
   "source": [
    "## Analysis: Based on this data, in northern hamispher, max temperature decreased by increasing latitude"
   ]
  },
  {
   "cell_type": "markdown",
   "metadata": {},
   "source": [
    "####  Southern Hemisphere - Max Temp vs. Latitude Linear Regression"
   ]
  },
  {
   "cell_type": "code",
   "execution_count": 37,
   "metadata": {},
   "outputs": [
    {
     "name": "stderr",
     "output_type": "stream",
     "text": [
      "C:\\Users\\hashe\\anaconda3\\lib\\site-packages\\ipykernel_launcher.py:2: SettingWithCopyWarning: \n",
      "A value is trying to be set on a copy of a slice from a DataFrame.\n",
      "Try using .loc[row_indexer,col_indexer] = value instead\n",
      "\n",
      "See the caveats in the documentation: https://pandas.pydata.org/pandas-docs/stable/user_guide/indexing.html#returning-a-view-versus-a-copy\n",
      "  \n",
      "C:\\Users\\hashe\\anaconda3\\lib\\site-packages\\ipykernel_launcher.py:3: SettingWithCopyWarning: \n",
      "A value is trying to be set on a copy of a slice from a DataFrame.\n",
      "Try using .loc[row_indexer,col_indexer] = value instead\n",
      "\n",
      "See the caveats in the documentation: https://pandas.pydata.org/pandas-docs/stable/user_guide/indexing.html#returning-a-view-versus-a-copy\n",
      "  This is separate from the ipykernel package so we can avoid doing imports until\n"
     ]
    },
    {
     "name": "stdout",
     "output_type": "stream",
     "text": [
      "The r-squared is: 0.7442792272398268\n"
     ]
    },
    {
     "data": {
      "image/png": "[encoded data removed]",
      "text/plain": [
       "<Figure size 432x288 with 1 Axes>"
      ]
     },
     "metadata": {
      "needs_background": "light"
     },
     "output_type": "display_data"
    }
   ],
   "source": [
    "# Convert columns to numeric so the data can be used\n",
    "southern_hemisphere['Lat'] = pd.to_numeric(southern_hemisphere['Lat'])\n",
    "southern_hemisphere['Max Temp'] = pd.to_numeric(southern_hemisphere['Max Temp'])\n",
    "\n",
    "#define x and y value\n",
    "x_values = southern_hemisphere.loc[:,\"Lat\"]\n",
    "y_values = southern_hemisphere.loc[:,'Max Temp']\n",
    "\n",
    "\n",
    "#caluclate the regression \n",
    "(slope, intercept, rvalue, pvalue, stderr) = linregress(x_values, y_values)\n",
    "regress_values = x_values * slope + intercept\n",
    "\n",
    "# find the reqression equation\n",
    "line_eq = \"y = \" + str(round(slope,2)) + \"x + \" + str(round(intercept,2))\n",
    "\n",
    "# creat the  r-squared value along with the plot.\n",
    "plt.scatter(x_values,y_values)\n",
    "plt.plot(x_values, regress_values,\"r-\")\n",
    "\n",
    "#annotating the equation on the plot \n",
    "plt.annotate(line_eq, (-50,50), fontsize=15,color=\"red\")\n",
    "\n",
    "#defining x and y labels\n",
    "plt.title(f\"Southern Hemisphere - Max Temp vs. Latitude Linear Regression ({todaysdate})\")\n",
    "plt.xlabel('Latitude')\n",
    "plt.ylabel('Max Temperature (F)')\n",
    "\n",
    "print(f\"The r-squared is: {rvalue}\")\n",
    "\n",
    "\n",
    "plt.grid()\n",
    "# Resize plot to display labels\n",
    "plt.tight_layout()\n",
    "\n",
    "#define limitation for x and y \n",
    "plt.xlim(min(x_values)-10, max(x_values)+10)\n",
    "plt.ylim(min(y_values)-10, max(y_values)+10)\n",
    "\n",
    "# Saves an image of our chart so that we can view it in a folder\n",
    "plt.savefig(\"output_data/Fig6.png\") \n",
    "\n",
    "#show the plot\n",
    "plt.show()\n"
   ]
  },
  {
   "cell_type": "code",
   "execution_count": null,
   "metadata": {},
   "outputs": [],
   "source": []
  },
  {
   "cell_type": "markdown",
   "metadata": {},
   "source": [
    "## Analysis: Based on this data, in southern hamispher, max temperature increases by increasing latitude. It means that there is a liniaer positive corrolation betwwen latitude and max_temp"
   ]
  },
  {
   "cell_type": "markdown",
   "metadata": {},
   "source": [
    "####  Northern Hemisphere - Humidity (%) vs. Latitude Linear Regression"
   ]
  },
  {
   "cell_type": "code",
   "execution_count": 38,
   "metadata": {},
   "outputs": [
    {
     "name": "stderr",
     "output_type": "stream",
     "text": [
      "C:\\Users\\hashe\\anaconda3\\lib\\site-packages\\ipykernel_launcher.py:2: SettingWithCopyWarning: \n",
      "A value is trying to be set on a copy of a slice from a DataFrame.\n",
      "Try using .loc[row_indexer,col_indexer] = value instead\n",
      "\n",
      "See the caveats in the documentation: https://pandas.pydata.org/pandas-docs/stable/user_guide/indexing.html#returning-a-view-versus-a-copy\n",
      "  \n",
      "C:\\Users\\hashe\\anaconda3\\lib\\site-packages\\ipykernel_launcher.py:3: SettingWithCopyWarning: \n",
      "A value is trying to be set on a copy of a slice from a DataFrame.\n",
      "Try using .loc[row_indexer,col_indexer] = value instead\n",
      "\n",
      "See the caveats in the documentation: https://pandas.pydata.org/pandas-docs/stable/user_guide/indexing.html#returning-a-view-versus-a-copy\n",
      "  This is separate from the ipykernel package so we can avoid doing imports until\n"
     ]
    },
    {
     "name": "stdout",
     "output_type": "stream",
     "text": [
      "The r-squared is: -0.18298412853833138\n"
     ]
    },
    {
     "data": {
      "image/png": "[encoded data removed]",
      "text/plain": [
       "<Figure size 432x288 with 1 Axes>"
      ]
     },
     "metadata": {
      "needs_background": "light"
     },
     "output_type": "display_data"
    }
   ],
   "source": [
    "# Convert columns to numeric so the data can be used\n",
    "northern_hemisphere['Lat'] = pd.to_numeric(northern_hemisphere['Lat'])\n",
    "northern_hemisphere['Humidity'] = pd.to_numeric(northern_hemisphere['Humidity'])\n",
    "\n",
    "#define x and y value\n",
    "x_values = northern_hemisphere[\"Lat\"]\n",
    "y_values = northern_hemisphere[\"Humidity\"]\n",
    "\n",
    "\n",
    "#caluclate the regression \n",
    "(slope, intercept, rvalue, pvalue, stderr) = linregress(x_values, y_values)\n",
    "regress_values = x_values * slope + intercept\n",
    "\n",
    "# find the reqression equation\n",
    "line_eq = \"y = \" + str(round(slope,2)) + \"x + \" + str(round(intercept,2))\n",
    "\n",
    "# creat the  r-squared value along with the plot.\n",
    "plt.scatter(x_values,y_values)\n",
    "plt.plot(x_values, regress_values,\"r-\")\n",
    "\n",
    "#annotating the equation on the plot \n",
    "plt.annotate(line_eq,xy=(0,50),fontsize=15,color=\"red\")\n",
    "\n",
    "#defining x and y labels\n",
    "plt.title(f\"Northern Hemisphere Humidity vs. Latitude Linear Regression ({todaysdate})\")\n",
    "plt.xlabel('Latitude')\n",
    "plt.ylabel('Humidity (%)')\n",
    "\n",
    "print(f\"The r-squared is: {rvalue}\")\n",
    "\n",
    "\n",
    "plt.grid()\n",
    "\n",
    " \n",
    "#define limitation for x and y \n",
    "plt.xlim(min(x_values)-10, max(x_values)+10)\n",
    "plt.ylim(min(y_values)-10, max(y_values)+10) \n",
    "\n",
    "\n",
    "# Resize plot to display labels\n",
    "plt.tight_layout()\n",
    "\n",
    "# Saves an image of our chart so that we can view it in a folder\n",
    "plt.savefig(\"output_data/Fig7.png\")\n",
    "\n",
    "#show the plot\n",
    "plt.show()"
   ]
  },
  {
   "cell_type": "code",
   "execution_count": 30,
   "metadata": {},
   "outputs": [
    {
     "data": {
      "text/plain": [
       "<Figure size 432x288 with 0 Axes>"
      ]
     },
     "metadata": {},
     "output_type": "display_data"
    }
   ],
   "source": []
  },
  {
   "cell_type": "markdown",
   "metadata": {},
   "source": [
    "## Analysis: Based on this data, in northern hemisphere, there is no obvious relationship between latitude and humidity"
   ]
  },
  {
   "cell_type": "code",
   "execution_count": null,
   "metadata": {},
   "outputs": [],
   "source": []
  },
  {
   "cell_type": "markdown",
   "metadata": {},
   "source": [
    "####  Southern Hemisphere - Humidity (%) vs. Latitude Linear Regression"
   ]
  },
  {
   "cell_type": "code",
   "execution_count": 40,
   "metadata": {},
   "outputs": [
    {
     "name": "stderr",
     "output_type": "stream",
     "text": [
      "C:\\Users\\hashe\\anaconda3\\lib\\site-packages\\ipykernel_launcher.py:2: SettingWithCopyWarning: \n",
      "A value is trying to be set on a copy of a slice from a DataFrame.\n",
      "Try using .loc[row_indexer,col_indexer] = value instead\n",
      "\n",
      "See the caveats in the documentation: https://pandas.pydata.org/pandas-docs/stable/user_guide/indexing.html#returning-a-view-versus-a-copy\n",
      "  \n",
      "C:\\Users\\hashe\\anaconda3\\lib\\site-packages\\ipykernel_launcher.py:3: SettingWithCopyWarning: \n",
      "A value is trying to be set on a copy of a slice from a DataFrame.\n",
      "Try using .loc[row_indexer,col_indexer] = value instead\n",
      "\n",
      "See the caveats in the documentation: https://pandas.pydata.org/pandas-docs/stable/user_guide/indexing.html#returning-a-view-versus-a-copy\n",
      "  This is separate from the ipykernel package so we can avoid doing imports until\n"
     ]
    },
    {
     "name": "stdout",
     "output_type": "stream",
     "text": [
      "The r-squared is: 0.17946607118215288\n"
     ]
    },
    {
     "data": {
      "image/png": "[encoded data removed]",
      "text/plain": [
       "<Figure size 432x288 with 1 Axes>"
      ]
     },
     "metadata": {
      "needs_background": "light"
     },
     "output_type": "display_data"
    }
   ],
   "source": [
    "# Convert columns to numeric so the data can be used\n",
    "southern_hemisphere['Lat'] = pd.to_numeric(southern_hemisphere['Lat'])\n",
    "southern_hemisphere['Humidity'] = pd.to_numeric(southern_hemisphere['Humidity'])\n",
    "\n",
    "#define x and y value\n",
    "x_values = southern_hemisphere[\"Lat\"]\n",
    "y_values = southern_hemisphere[\"Humidity\"]\n",
    "\n",
    "\n",
    "#caluclate the regression \n",
    "(slope, intercept, rvalue, pvalue, stderr) = linregress(x_values, y_values)\n",
    "regress_values = x_values * slope + intercept\n",
    "\n",
    "# find the reqression equation\n",
    "line_eq = \"y = \" + str(round(slope,2)) + \"x + \" + str(round(intercept,2))\n",
    "\n",
    "# creat the  r-squared value along with the plot.\n",
    "plt.scatter(x_values,y_values)\n",
    "plt.plot(x_values, regress_values,\"r-\")\n",
    "\n",
    "#annotating the equation on the plot \n",
    "plt.annotate(line_eq, (-50,100), fontsize=15,color=\"red\")\n",
    "\n",
    "#defining x and y labels\n",
    "plt.title(f\"Southern Hemisphere Humidity vs. Latitude Linear Regression ({todaysdate})\")\n",
    "plt.xlabel('Latitude')\n",
    "plt.ylabel('Humidity (%)')\n",
    "\n",
    "print(f\"The r-squared is: {rvalue}\")\n",
    "\n",
    "\n",
    "plt.grid()\n",
    "# Resize plot to display labels\n",
    "plt.tight_layout()\n",
    "\n",
    "#define limitation for x and y \n",
    "plt.xlim(min(x_values)-10, max(x_values)+10)\n",
    "plt.ylim(min(y_values)-10, max(y_values)+10)\n",
    "\n",
    "# Saves an image of our chart so that we can view it in a folder\n",
    "plt.savefig(\"output_data/Fig8.png\")\n",
    "\n",
    "#show the plot\n",
    "plt.show()"
   ]
  },
  {
   "cell_type": "code",
   "execution_count": 32,
   "metadata": {},
   "outputs": [
    {
     "data": {
      "text/plain": [
       "<Figure size 432x288 with 0 Axes>"
      ]
     },
     "metadata": {},
     "output_type": "display_data"
    }
   ],
   "source": []
  },
  {
   "cell_type": "markdown",
   "metadata": {},
   "source": [
    "# Analysis: Based on this data, in southern hemisphere, there is no obvious relationship between latitude and humidity\n"
   ]
  },
  {
   "cell_type": "markdown",
   "metadata": {},
   "source": [
    "####  Northern Hemisphere - Cloudiness (%) vs. Latitude Linear Regression"
   ]
  },
  {
   "cell_type": "code",
   "execution_count": 41,
   "metadata": {},
   "outputs": [
    {
     "name": "stderr",
     "output_type": "stream",
     "text": [
      "C:\\Users\\hashe\\anaconda3\\lib\\site-packages\\ipykernel_launcher.py:2: SettingWithCopyWarning: \n",
      "A value is trying to be set on a copy of a slice from a DataFrame.\n",
      "Try using .loc[row_indexer,col_indexer] = value instead\n",
      "\n",
      "See the caveats in the documentation: https://pandas.pydata.org/pandas-docs/stable/user_guide/indexing.html#returning-a-view-versus-a-copy\n",
      "  \n",
      "C:\\Users\\hashe\\anaconda3\\lib\\site-packages\\ipykernel_launcher.py:3: SettingWithCopyWarning: \n",
      "A value is trying to be set on a copy of a slice from a DataFrame.\n",
      "Try using .loc[row_indexer,col_indexer] = value instead\n",
      "\n",
      "See the caveats in the documentation: https://pandas.pydata.org/pandas-docs/stable/user_guide/indexing.html#returning-a-view-versus-a-copy\n",
      "  This is separate from the ipykernel package so we can avoid doing imports until\n"
     ]
    },
    {
     "name": "stdout",
     "output_type": "stream",
     "text": [
      "The r-squared is: -0.10964573797910751\n"
     ]
    },
    {
     "data": {
      "image/png": "[encoded data removed]",
      "text/plain": [
       "<Figure size 432x288 with 1 Axes>"
      ]
     },
     "metadata": {
      "needs_background": "light"
     },
     "output_type": "display_data"
    }
   ],
   "source": [
    "# Convert columns to numeric so the data can be used\n",
    "northern_hemisphere['Lat'] = pd.to_numeric(northern_hemisphere['Lat'])\n",
    "northern_hemisphere['Cloudiness'] = pd.to_numeric(northern_hemisphere['Cloudiness'])\n",
    "\n",
    "#define x and y value\n",
    "x_values = northern_hemisphere[\"Lat\"]\n",
    "y_values = northern_hemisphere[\"Cloudiness\"]\n",
    "\n",
    "\n",
    "#caluclate the regression \n",
    "(slope, intercept, rvalue, pvalue, stderr) = linregress(x_values, y_values)\n",
    "regress_values = x_values * slope + intercept\n",
    "\n",
    "# find the reqression equation\n",
    "line_eq = \"y = \" + str(round(slope,2)) + \"x + \" + str(round(intercept,2))\n",
    "\n",
    "# creat the  r-squared value along with the plot.\n",
    "plt.scatter(x_values,y_values)\n",
    "plt.plot(x_values, regress_values,\"r-\")\n",
    "\n",
    "#annotating the equation on the plot \n",
    "plt.annotate(line_eq,xy=(0,50),fontsize=15,color=\"red\")\n",
    "\n",
    "#defining x and y labels\n",
    "plt.title(f\"Northern Hemisphere Cloudiness vs. Latitude Linear Regression ({todaysdate})\")\n",
    "plt.xlabel('Latitude')\n",
    "plt.ylabel('Cloudiness (%)')\n",
    "\n",
    "print(f\"The r-squared is: {rvalue}\")\n",
    "\n",
    "\n",
    "plt.grid()\n",
    "\n",
    " \n",
    "#define limitation for x and y \n",
    "plt.xlim(min(x_values)-10, max(x_values)+10)\n",
    "plt.ylim(min(y_values)-10, max(y_values)+10) \n",
    "\n",
    "\n",
    "# Resize plot to display labels\n",
    "plt.tight_layout()\n",
    "\n",
    "# Saves an image of our chart so that we can view it in a folder\n",
    "plt.savefig(\"output_data/Fig9.png\")\n",
    "\n",
    "#show the plot\n",
    "plt.show()"
   ]
  },
  {
   "cell_type": "code",
   "execution_count": 34,
   "metadata": {},
   "outputs": [
    {
     "data": {
      "text/plain": [
       "<Figure size 432x288 with 0 Axes>"
      ]
     },
     "metadata": {},
     "output_type": "display_data"
    }
   ],
   "source": []
  },
  {
   "cell_type": "markdown",
   "metadata": {},
   "source": [
    "## Analysis: Based on this data, in northern  hemisphere, there is no obvious relationship between latitude and cloudiness¶"
   ]
  },
  {
   "cell_type": "markdown",
   "metadata": {},
   "source": [
    "####  Southern Hemisphere - Cloudiness (%) vs. Latitude Linear Regression"
   ]
  },
  {
   "cell_type": "code",
   "execution_count": 42,
   "metadata": {},
   "outputs": [
    {
     "name": "stderr",
     "output_type": "stream",
     "text": [
      "C:\\Users\\hashe\\anaconda3\\lib\\site-packages\\ipykernel_launcher.py:2: SettingWithCopyWarning: \n",
      "A value is trying to be set on a copy of a slice from a DataFrame.\n",
      "Try using .loc[row_indexer,col_indexer] = value instead\n",
      "\n",
      "See the caveats in the documentation: https://pandas.pydata.org/pandas-docs/stable/user_guide/indexing.html#returning-a-view-versus-a-copy\n",
      "  \n",
      "C:\\Users\\hashe\\anaconda3\\lib\\site-packages\\ipykernel_launcher.py:3: SettingWithCopyWarning: \n",
      "A value is trying to be set on a copy of a slice from a DataFrame.\n",
      "Try using .loc[row_indexer,col_indexer] = value instead\n",
      "\n",
      "See the caveats in the documentation: https://pandas.pydata.org/pandas-docs/stable/user_guide/indexing.html#returning-a-view-versus-a-copy\n",
      "  This is separate from the ipykernel package so we can avoid doing imports until\n"
     ]
    },
    {
     "name": "stdout",
     "output_type": "stream",
     "text": [
      "The r-squared is: 0.11633378252125129\n"
     ]
    },
    {
     "data": {
      "image/png": "[encoded data removed]",
      "text/plain": [
       "<Figure size 432x288 with 1 Axes>"
      ]
     },
     "metadata": {
      "needs_background": "light"
     },
     "output_type": "display_data"
    }
   ],
   "source": [
    "# Convert columns to numeric so the data can be used\n",
    "southern_hemisphere['Lat'] = pd.to_numeric(southern_hemisphere['Lat'])\n",
    "southern_hemisphere[\"\"] = pd.to_numeric(southern_hemisphere['Cloudiness'])\n",
    "\n",
    "#define x and y value\n",
    "x_values = southern_hemisphere[\"Lat\"]\n",
    "y_values = southern_hemisphere[\"Cloudiness\"]\n",
    "\n",
    "\n",
    "#caluclate the regression \n",
    "(slope, intercept, rvalue, pvalue, stderr) = linregress(x_values, y_values)\n",
    "regress_values = x_values * slope + intercept\n",
    "\n",
    "# find the reqression equation\n",
    "line_eq = \"y = \" + str(round(slope,2)) + \"x + \" + str(round(intercept,2))\n",
    "\n",
    "# creat the  r-squared value along with the plot.\n",
    "plt.scatter(x_values,y_values)\n",
    "plt.plot(x_values, regress_values,\"r-\")\n",
    "\n",
    "#annotating the equation on the plot \n",
    "plt.annotate(line_eq, (-50,100), fontsize=15,color=\"red\")\n",
    "\n",
    "#defining x and y labels\n",
    "plt.title(f\"Southern Hemisphere Cloudiness vs. Latitude Linear Regression ({todaysdate})\")\n",
    "plt.xlabel('Latitude')\n",
    "plt.ylabel('Cloudiness (%)')\n",
    "\n",
    "print(f\"The r-squared is: {rvalue}\")\n",
    "\n",
    "\n",
    "plt.grid()\n",
    "# Resize plot to display labels\n",
    "plt.tight_layout()\n",
    "\n",
    "#define limitation for x and y \n",
    "plt.xlim(min(x_values)-10, max(x_values)+10)\n",
    "plt.ylim(min(y_values)-10, max(y_values)+10)\n",
    "\n",
    "# Saves an image of our chart so that we can view it in a folder\n",
    "plt.savefig(\"output_data/Fig10.png\")\n",
    "\n",
    "#show the plot\n",
    "plt.show()"
   ]
  },
  {
   "cell_type": "markdown",
   "metadata": {},
   "source": [
    "# Analysis: Based on this data, in southern hemisphere, there is no obvious relationship between latitude and cloudiness"
   ]
  },
  {
   "cell_type": "markdown",
   "metadata": {},
   "source": [
    "####  Northern Hemisphere - Wind Speed (mph) vs. Latitude Linear Regression"
   ]
  },
  {
   "cell_type": "code",
   "execution_count": 44,
   "metadata": {},
   "outputs": [
    {
     "name": "stderr",
     "output_type": "stream",
     "text": [
      "C:\\Users\\hashe\\anaconda3\\lib\\site-packages\\ipykernel_launcher.py:2: SettingWithCopyWarning: \n",
      "A value is trying to be set on a copy of a slice from a DataFrame.\n",
      "Try using .loc[row_indexer,col_indexer] = value instead\n",
      "\n",
      "See the caveats in the documentation: https://pandas.pydata.org/pandas-docs/stable/user_guide/indexing.html#returning-a-view-versus-a-copy\n",
      "  \n",
      "C:\\Users\\hashe\\anaconda3\\lib\\site-packages\\ipykernel_launcher.py:3: SettingWithCopyWarning: \n",
      "A value is trying to be set on a copy of a slice from a DataFrame.\n",
      "Try using .loc[row_indexer,col_indexer] = value instead\n",
      "\n",
      "See the caveats in the documentation: https://pandas.pydata.org/pandas-docs/stable/user_guide/indexing.html#returning-a-view-versus-a-copy\n",
      "  This is separate from the ipykernel package so we can avoid doing imports until\n"
     ]
    },
    {
     "name": "stdout",
     "output_type": "stream",
     "text": [
      "The r-squared is: 0.1006056067995829\n"
     ]
    },
    {
     "data": {
      "image/png": "[encoded data removed]",
      "text/plain": [
       "<Figure size 432x288 with 1 Axes>"
      ]
     },
     "metadata": {
      "needs_background": "light"
     },
     "output_type": "display_data"
    }
   ],
   "source": [
    "# Convert columns to numeric so the data can be used\n",
    "northern_hemisphere['Lat'] = pd.to_numeric(northern_hemisphere['Lat'])\n",
    "northern_hemisphere['Wind Speed'] = pd.to_numeric(northern_hemisphere['Wind Speed'])\n",
    "\n",
    "#define x and y value\n",
    "x_values = northern_hemisphere[\"Lat\"]\n",
    "y_values = northern_hemisphere[\"Wind Speed\"]\n",
    "\n",
    "\n",
    "#caluclate the regression \n",
    "(slope, intercept, rvalue, pvalue, stderr) = linregress(x_values, y_values)\n",
    "regress_values = x_values * slope + intercept\n",
    "\n",
    "# find the reqression equation\n",
    "line_eq = \"y = \" + str(round(slope,2)) + \"x + \" + str(round(intercept,2))\n",
    "\n",
    "# creat the  r-squared value along with the plot.\n",
    "plt.scatter(x_values,y_values)\n",
    "plt.plot(x_values, regress_values,\"r-\")\n",
    "\n",
    "#annotating the equation on the plot \n",
    "plt.annotate(line_eq,xy=(0,30),fontsize=15,color=\"red\")\n",
    "\n",
    "#defining x and y labels\n",
    "plt.title(f\"Northern Hemisphere Wind speed vs. Latitude Linear Regression ({todaysdate})\")\n",
    "plt.xlabel('Latitude')\n",
    "plt.ylabel('Wind Speed (%)')\n",
    "\n",
    "print(f\"The r-squared is: {rvalue}\")\n",
    "\n",
    "\n",
    "plt.grid()\n",
    "\n",
    " \n",
    "#define limitation for x and y \n",
    "plt.xlim(min(x_values)-10, max(x_values)+10)\n",
    "plt.ylim(min(y_values)-10, max(y_values)+10) \n",
    "\n",
    "\n",
    "# Resize plot to display labels\n",
    "plt.tight_layout()\n",
    "\n",
    "# Saves an image of our chart so that we can view it in a folder\n",
    "plt.savefig(\"output_data/Fig11.png\")\n",
    "\n",
    "#show the plot\n",
    "plt.show()"
   ]
  },
  {
   "cell_type": "code",
   "execution_count": 43,
   "metadata": {},
   "outputs": [
    {
     "data": {
      "text/plain": [
       "<Figure size 432x288 with 0 Axes>"
      ]
     },
     "metadata": {},
     "output_type": "display_data"
    }
   ],
   "source": []
  },
  {
   "cell_type": "markdown",
   "metadata": {},
   "source": [
    "## Analysis: Based on this data, in hemisphere, there is no obvious relationship between latitude and wind speed"
   ]
  },
  {
   "cell_type": "markdown",
   "metadata": {},
   "source": [
    "####  Southern Hemisphere - Wind Speed (mph) vs. Latitude Linear Regression"
   ]
  },
  {
   "cell_type": "code",
   "execution_count": 47,
   "metadata": {},
   "outputs": [
    {
     "name": "stderr",
     "output_type": "stream",
     "text": [
      "C:\\Users\\hashe\\anaconda3\\lib\\site-packages\\ipykernel_launcher.py:2: SettingWithCopyWarning: \n",
      "A value is trying to be set on a copy of a slice from a DataFrame.\n",
      "Try using .loc[row_indexer,col_indexer] = value instead\n",
      "\n",
      "See the caveats in the documentation: https://pandas.pydata.org/pandas-docs/stable/user_guide/indexing.html#returning-a-view-versus-a-copy\n",
      "  \n",
      "C:\\Users\\hashe\\anaconda3\\lib\\site-packages\\ipykernel_launcher.py:3: SettingWithCopyWarning: \n",
      "A value is trying to be set on a copy of a slice from a DataFrame.\n",
      "Try using .loc[row_indexer,col_indexer] = value instead\n",
      "\n",
      "See the caveats in the documentation: https://pandas.pydata.org/pandas-docs/stable/user_guide/indexing.html#returning-a-view-versus-a-copy\n",
      "  This is separate from the ipykernel package so we can avoid doing imports until\n"
     ]
    },
    {
     "name": "stdout",
     "output_type": "stream",
     "text": [
      "The r-squared is: -0.13829084461102772\n"
     ]
    },
    {
     "data": {
      "image/png": "[encoded data removed]",
      "text/plain": [
       "<Figure size 432x288 with 1 Axes>"
      ]
     },
     "metadata": {
      "needs_background": "light"
     },
     "output_type": "display_data"
    }
   ],
   "source": [
    "# Convert columns to numeric so the data can be used\n",
    "southern_hemisphere['Lat'] = pd.to_numeric(southern_hemisphere['Lat'])\n",
    "southern_hemisphere[\"Wind Speed\"] = pd.to_numeric(southern_hemisphere['Wind Speed'])\n",
    "\n",
    "#define x and y value\n",
    "x_values = southern_hemisphere[\"Lat\"]\n",
    "y_values = southern_hemisphere[\"Wind Speed\"]\n",
    "\n",
    "\n",
    "#caluclate the regression \n",
    "(slope, intercept, rvalue, pvalue, stderr) = linregress(x_values, y_values)\n",
    "regress_values = x_values * slope + intercept\n",
    "\n",
    "# find the reqression equation\n",
    "line_eq = \"y = \" + str(round(slope,2)) + \"x + \" + str(round(intercept,2))\n",
    "\n",
    "# creat the  r-squared value along with the plot.\n",
    "plt.scatter(x_values,y_values)\n",
    "plt.plot(x_values, regress_values,\"r-\")\n",
    "\n",
    "#annotating the equation on the plot \n",
    "plt.annotate(line_eq, (-30,10), fontsize=15,color=\"red\")\n",
    "\n",
    "#defining x and y labels\n",
    "plt.title(f\"Southern Hemisphere Wind speed vs. Latitude Linear Regression ({todaysdate})\")\n",
    "plt.xlabel('Latitude')\n",
    "plt.ylabel('Wind speed (%)')\n",
    "\n",
    "print(f\"The r-squared is: {rvalue}\")\n",
    "\n",
    "\n",
    "plt.grid()\n",
    "\n",
    "#define limitation for x and y \n",
    "plt.xlim(min(x_values)-10, max(x_values)+10)\n",
    "plt.ylim(min(y_values)-10, max(y_values)+10)\n",
    "\n",
    "# Saves an image of our chart so that we can view it in a folder\n",
    "plt.savefig(\"output_data/Fig12.png\")\n",
    "\n",
    "# Resize plot to display labels\n",
    "plt.tight_layout()\n",
    "\n",
    "#show the plot\n",
    "plt.show()"
   ]
  },
  {
   "cell_type": "markdown",
   "metadata": {},
   "source": [
    "## Analysis: Based on this data, in southern, there is no obvious relationship between latitude and wind speed"
   ]
  }
 ],
 "metadata": {
  "anaconda-cloud": {},
  "kernel_info": {
   "name": "python3"
  },
  "kernelspec": {
   "display_name": "Python 3",
   "language": "python",
   "name": "python3"
  },
  "language_info": {
   "codemirror_mode": {
    "name": "ipython",
    "version": 3
   },
   "file_extension": ".py",
   "mimetype": "text/x-python",
   "name": "python",
   "nbconvert_exporter": "python",
   "pygments_lexer": "ipython3",
   "version": "3.7.6"
  },
  "latex_envs": {
   "LaTeX_envs_menu_present": true,
   "autoclose": false,
   "autocomplete": true,
   "bibliofile": "biblio.bib",
   "cite_by": "apalike",
   "current_citInitial": 1,
   "eqLabelWithNumbers": true,
   "eqNumInitial": 1,
   "hotkeys": {
    "equation": "Ctrl-E",
    "itemize": "Ctrl-I"
   },
   "labels_anchors": false,
   "latex_user_defs": false,
   "report_style_numbering": false,
   "user_envs_cfg": false
  },
  "nteract": {
   "version": "0.12.3"
  }
 },
 "nbformat": 4,
 "nbformat_minor": 2
}
